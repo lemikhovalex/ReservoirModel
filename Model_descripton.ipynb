{
 "cells": [
  {
   "cell_type": "code",
   "execution_count": null,
   "metadata": {},
   "outputs": [],
   "source": [
    "import numpy as np\n",
    "import pandas as pd\n",
    "import plotly\n",
    "import matplotlib.pyplot as plt\n",
    "from sklearn.datasets import make_moons, make_circles\n",
    "import seaborn as sns\n",
    "import imp\n",
    "import matrixes\n",
    "imp.reload(matrixes)\n",
    "import random_initialization as rand_init\n",
    "imp.reload(rand_init)"
   ]
  },
  {
   "cell_type": "markdown",
   "metadata": {},
   "source": [
    "# Reservoir model\n",
    "\n",
    "Задача - построить 2D модель резервуара. Для начала необходимо задать свойства полости, такие как $\\phi,\\ S_{water}, S_{oil} = 1 - S_{water}, c_r, c$. Также величины, фигурирующие в законе Дарси: $k, \\mu, \\rho$. Будем считать модель изотропной и варьировать лишь $S_{oil}$\n",
    "\n",
    "# Построение формы резервуара\n",
    "## Насыщение\n",
    "Будем задавать значения каким -нибудь рандомным способом, но красивым. В `sklearn` есть множество методов создания выборок для классификации, мне понравился этот. Так мы и будем определять где вода, а где нефть."
   ]
  },
  {
   "cell_type": "code",
   "execution_count": null,
   "metadata": {},
   "outputs": [],
   "source": [
    "ns = 50000\n",
    "x_min, x_max = -1.3, 1.3\n",
    "y_min, y_max = -1.3, 1.3"
   ]
  },
  {
   "cell_type": "code",
   "execution_count": null,
   "metadata": {},
   "outputs": [],
   "source": [
    "ds = rand_init.get_saturation_scattered(n_samples=ns, noise=0.4)\n",
    "plt.scatter(ds[0][:, 0],ds[0][:, 1], c=ds[1], edgecolors='k')\n",
    "plt.show()          "
   ]
  },
  {
   "cell_type": "markdown",
   "metadata": {},
   "source": [
    "Перенесём всё это на меньший сетку фиксированного размера c фиксированным шагом по следующим правилам\n",
    "<ol>\n",
    "<li>Если в ячейке не оказывается ни одного элемента - значит это не пористая структура.\n",
    "\n",
    "<li>Если оказывается несколько - берёс среднее арифметическое\n",
    "</ol>"
   ]
  },
  {
   "cell_type": "code",
   "execution_count": null,
   "metadata": {},
   "outputs": [],
   "source": [
    "Satur_matrix = rand_init.get_grid_from_scattered(ds=ds, x_max=1, x_min=-1,\n",
    "                                                 y_min=-1, y_max=1\n",
    "                                                )\n",
    "sns.heatmap(Satur_matrix)\n",
    "plt.title(\"Saturation\")\n",
    "plt.show()"
   ]
  },
  {
   "cell_type": "markdown",
   "metadata": {},
   "source": [
    "# Глубина\n",
    "Покачто у нас резервуар 2D и вид сверху, нужно задать функцию глубины."
   ]
  },
  {
   "cell_type": "code",
   "execution_count": null,
   "metadata": {},
   "outputs": [],
   "source": [
    "ds = rand_init.get_depth_scattered(n_samples=ns)\n",
    "plt.scatter(ds[0][:, 0],ds[0][:, 1], c=ds[1], edgecolors='k')\n",
    "plt.show()    "
   ]
  },
  {
   "cell_type": "code",
   "execution_count": null,
   "metadata": {},
   "outputs": [],
   "source": [
    "depth_matrix = rand_init.get_grid_from_scattered(ds=ds, x_max=x_max, x_min=x_min,\n",
    "                                                 y_min=y_min, y_max=y_max\n",
    "                                                )\n",
    "sns.heatmap(depth_matrix)\n",
    "plt.title(\"Depth\")\n",
    "plt.show()"
   ]
  },
  {
   "cell_type": "markdown",
   "metadata": {},
   "source": [
    "# Пористость\n",
    "Возьмём её пока такую же как матрицу проницаемости"
   ]
  },
  {
   "cell_type": "code",
   "execution_count": null,
   "metadata": {},
   "outputs": [],
   "source": [
    "ds = rand_init.get_depth_scattered(n_samples=ns)\n",
    "plt.scatter(ds[0][:, 0],ds[0][:, 1], c=ds[1], edgecolors='k')\n",
    "plt.show()   "
   ]
  },
  {
   "cell_type": "code",
   "execution_count": null,
   "metadata": {},
   "outputs": [],
   "source": [
    "porosity_matrix = rand_init.get_grid_from_scattered(ds=ds, x_max=x_max, x_min=x_min,\n",
    "                                                 y_min=y_min, y_max=y_max\n",
    "                                                )\n",
    "sns.heatmap(depth_matrix)\n",
    "plt.title(\"Porosity\")\n",
    "plt.show()"
   ]
  },
  {
   "cell_type": "markdown",
   "metadata": {},
   "source": [
    "# Проницаемость k\n",
    "Возьмём такую же как матрицу насыщений"
   ]
  },
  {
   "cell_type": "code",
   "execution_count": null,
   "metadata": {},
   "outputs": [],
   "source": [
    "ds = rand_init.get_saturation_scattered(n_samples=ns, noise=0.3)\n",
    "plt.scatter(ds[0][:, 0],ds[0][:, 1], c=ds[1], edgecolors='k')\n",
    "plt.show()     "
   ]
  },
  {
   "cell_type": "code",
   "execution_count": null,
   "metadata": {},
   "outputs": [],
   "source": [
    "k_matrix = rand_init.get_grid_from_scattered(ds=ds, x_max=x_max, x_min=x_min,\n",
    "                                                 y_min=y_min, y_max=y_max\n",
    "                                                )\n",
    "sns.heatmap(depth_matrix)\n",
    "plt.title(\"k\")\n",
    "plt.show()"
   ]
  },
  {
   "cell_type": "markdown",
   "metadata": {},
   "source": [
    "## Матрицы свойств собраны\n",
    "Для построения модели эти матрицы нужно вытянуть в матрицы размера $n_x \\cdot n_y$, сделать около диагональными и уметь обращаться к свойствам резервуара на границе ячеек для матриц $k$ и $depth$\n",
    "\n",
    "Для $k$ в лекции вывели формулу, её реализаия представлена в классе `KMatrix`. \n",
    "\n",
    "$$k_{i+\\frac{1}{2}, j} = \\frac{\\Delta x_{i, j} + \\Delta y_{i+1, j}}{\\frac{\\Delta x_{i, j}}{k_{i, j}} + \\frac{\\Delta x_{i+1, j}}{k_{i+1, j}}}$$\n",
    "\\\n",
    "\\\n",
    "$$k_{i, j+\\frac{1}{2}} = \\frac{\\Delta y_{i, j} + \\Delta y_{i, j+1}}{\\frac{\\Delta y_{i, j}}{k_{i, j}} + \\frac{\\Delta y_{i, j+1}}{k_{i, j+1}}}$$\n",
    "\n",
    "### Глубина тоже важна на стыках\n",
    "Аккуратненько реализуем \n",
    "$$d_{i,\\ j+\\frac{1}{2}} = \\frac{d_{i, j} + d_{i, j+1}}{2}$$\n",
    "\\\n",
    "\\\n",
    "$$d_{i+\\frac{1}{2},\\ j} = \\frac{d_{i, j} + d_{i+1, j}}{2}$$"
   ]
  },
  {
   "cell_type": "markdown",
   "metadata": {},
   "source": [
    "# Модель\n",
    "$$\\frac{\\partial}{\\partial t} \\frac{\\phi S_{oil}}{B_o} = {\\frac{\\partial}{\\partial x} \\big(\\frac{k k_{ro}}{\\mu_o B_o}\\frac{\\partial \\vec p}{\\partial x}\\big)} + \\tilde\n",
    "{q_o}$$\n",
    "И точно такое же но для индекса не `o`, означающего `oil` а для `w`, `water`\n",
    "\n",
    "Рассписав $\\frac{\\partial}{\\partial t} \\frac{\\phi S_{oil}}{B_o}$ по `chain rule`\n",
    "\n",
    "$$\\frac{\\partial}{\\partial t} \\frac{\\phi S_{oil}}{B_o} = \\frac{\\phi}{B_o} \\frac{\\partial S_o}{\\partial t} + \\big( \\frac{\\phi S_o}{B_o} B_o \\frac{\\partial}{\\partial p}\\big[ \\frac{1}{B_o} \\big]  + \\frac{\\phi S_o}{B_o} \\cdot \\frac{1}{\\phi} \\frac{\\partial \\phi}{\\partial p} \\big) \\frac{\\partial p}{\\partial t}$$ (1)\n",
    "\n",
    "Введём константы сжимаемости\n",
    "\n",
    "$$\\frac{\\partial}{\\partial t} \\frac{\\phi S_{oil}}{B_o} = \\frac{\\phi}{B_o} \\frac{\\partial S_o}{\\partial t} + \\big( \\frac{\\phi S_o}{B_o} c_o  + \\frac{\\phi S_o}{B_o} c_r \\big) \\frac{\\partial p}{\\partial t}$$\n",
    "\n",
    "Пока поставим себе цель обновлять давление в нашей 2D картинке. Нужно избавиться от насыщений. Домножим выражение 1 на $\\frac{B_o}{B_w}$. Во многих местах окажется сумма насыщений.\n",
    "\n",
    "$$\\frac{\\phi}{B_w} \\frac{\\partial}{\\partial t} \\big(S_w + S_o\\big) + \\frac{\\phi}{B_w}\\big[ S_{o}c_o + S_{w}c_w + c_{r} (S_o + S_w)\\big] \\frac{\\partial p}{\\partial t} = \\big(\\frac{B_o}{B_w} \\frac{k k_{ro}}{\\mu_o B_o} +  \\frac{k k_{rw}}{\\mu_w B_w}\\big) \\nabla J(p) + \\frac{B_o}{B_w}\\tilde{q_o} + \\tilde{q_w}$$\n",
    "\n",
    "Учтём что $S_w + S_o = 1$. Это достигается постоянством давления на границе и потоком воды ($\\tilde{q}$ нужно только на границе, в других местах 0).\n",
    "\n",
    "Заменим $S_{o}c_o + S_{w}c_w + c_{r} (S_o + S_w) = c_t$ и получим:\n",
    "\n",
    "$$\\frac{\\phi c_t}{B_w} \\frac{\\partial p}{\\partial t} = \\big(\\frac{k k_{ro}}{\\mu_o B_w} + \\frac{k k_{ro}}{\\mu_w B_w} \\big) \\nabla J(p) + \\frac{B_o}{B_w}\\tilde{q_o} + \\tilde{q_w}$$\n",
    "\\\n",
    "$$\\frac{\\phi ct}{B_w} \\frac{\\partial p}{\\partial t} = \\tilde{k}\\nabla J(p) + \\frac{B_o}{B_w}\\tilde{q_o} + \\tilde{q_w}$$"
   ]
  },
  {
   "cell_type": "markdown",
   "metadata": {},
   "source": [
    "Точно такое же уравнение было решено [Here](https://www.youtube.com/watch?v=2hxV5kJojRM&list=PLKNU3sBDzHbI4qD55I189y02asrHrgz6_&index=2). Перепишем ответ"
   ]
  },
  {
   "cell_type": "markdown",
   "metadata": {},
   "source": [
    "$$\\frac{\\phi c_t}{B_w}\\frac{p_{i, j}^{n+1} - p_{i,j}^{n}}{\\Delta t} \\Delta V_{i, j}=\n",
    "\\Big( \\\\\n",
    "\\tilde{k}_{i+\\frac{1}{2}, j} d_{i+\\frac{1}{2}, j} \\Delta y_{j} \\frac{p_{i+1, j} - p_{i, j}}{\\Delta x_{i+\\frac{1}{2}}} +\\\\\n",
    "\\tilde{k}_{i-\\frac{1}{2}, j} d_{i-\\frac{1}{2}, j} \\Delta y_{j} \\frac{p_{i-1, j} - p_{i, j}}{\\Delta x_{i-\\frac{1}{2}}} + \\\\\n",
    "\\tilde{k}_{i-\\frac{1}{2}, j} d_{i, j+\\frac{1}{2}} \\Delta x_{i}  \\frac{p_{i, j+1} - p_{i, j}}{\\Delta y_{j+\\frac{1}{2}}} + \\\\\n",
    "\\tilde{k}_{i-\\frac{1}{2}, j} d_{i, j-\\frac{1}{2}} \\Delta x_{j}  \\frac{p_{i, j-1} - p_{i, j}}{\\Delta y_{j-\\frac{1}{2}}}\n",
    "\\Big)\\\\\n",
    "+ \\frac{B_o}{B_w}\\tilde{q_o} \\Delta V_{i, j} + \\tilde{q_w} \\Delta V_{i, j}$$\n",
    "\\\n",
    "$\\Delta V_{i, j} = \\Delta x_{i, j} \\Delta y_{i, j} d_{i,j}$"
   ]
  },
  {
   "cell_type": "markdown",
   "metadata": {},
   "source": [
    "\n",
    "### T Interblock matrix\n",
    "Теперь можно для каждого стыка ячеек можно указать \"проводимость\"\n",
    "$$T_{i+\\frac{1}{2}, j} =\\tilde{k}_{i+\\frac{1}{2}, j} d_{i+\\frac{1}{2}, j} \\frac{ \\Delta y_{j}}{\\Delta x_{i+\\frac{1}{2}}}$$\n",
    "\\\n",
    "\\\n",
    "$$T_{i, j+\\frac{1}{2}} =\\tilde{k}_{i, j+\\frac{1}{2}} d_{i, j+\\frac{1}{2}} \\frac{ \\Delta x_{j}}{\\Delta y_{i+\\frac{1}{2}}}$$\n",
    "\n",
    "Также обозначим $B^{w}_{i, j} = \\frac{\\phi_{i, j}c_t V_{i, j}}{B_{w}}$"
   ]
  },
  {
   "cell_type": "markdown",
   "metadata": {},
   "source": [
    "Эта матрица реализованна в классе `matrixes.TInterBlockMatrix`"
   ]
  },
  {
   "cell_type": "markdown",
   "metadata": {},
   "source": [
    "## Матрица для обновлений\n",
    "\n",
    "Для того чтобы обновлять значения в ячейках, используя матричные умножения, нужно превратить матрицу свойств в вектор(reshape(-1)). Матрица же для обновления будет очень хитрой.\n",
    "\n",
    "## .reshape(-1)"
   ]
  },
  {
   "cell_type": "code",
   "execution_count": null,
   "metadata": {},
   "outputs": [],
   "source": [
    "x = np.array([[0, 1, 2],\n",
    "              [3, 4, 5],\n",
    "              [6, 7, 8]\n",
    "             ])\n",
    "x.reshape(-1)"
   ]
  },
  {
   "cell_type": "code",
   "execution_count": null,
   "metadata": {},
   "outputs": [],
   "source": [
    "x.reshape((3, 3))[1, 1]"
   ]
  },
  {
   "cell_type": "markdown",
   "metadata": {},
   "source": [
    "## Матрица обновлений"
   ]
  },
  {
   "cell_type": "markdown",
   "metadata": {},
   "source": [
    "$$B_{i, j}^{w}\\frac{p_{i, j}^{n+1} - p_{i,j}^{n}}{\\Delta t} +\n",
    "T_{i+\\frac{1}{2}, j} (p_{i, j} - p_{i+1, j}) +\n",
    "T_{i+\\frac{1}{2}, j} (p_{i, j} - p_{i-1, j}) + \n",
    "T_{i+\\frac{1}{2}, j} (p_{i, j} - p_{i, j+1}) + \n",
    "T_{i+\\frac{1}{2}, j} (p_{i, j} - p_{i, j-1}) + \n",
    "\\frac{B_o}{B_w}\\tilde{q_o} \\Delta V_{i, j} + \\tilde{q_w} \\Delta V_{i, j} = 0$$"
   ]
  },
  {
   "cell_type": "markdown",
   "metadata": {},
   "source": [
    "Перейдём от $p_{i, j}$ к $p_n$\n",
    "\n",
    "$$p_{i, j} = p_{n_y \\cdot i + j}$$"
   ]
  },
  {
   "cell_type": "markdown",
   "metadata": {},
   "source": [
    "$$B_{n_y \\cdot i + j}^{w}\\frac{p_{n_y \\cdot i + j}^{n+1} - p_{n_y \\cdot i + j}^{n}}{\\Delta t} +\\\\\n",
    "T_{i+\\frac{1}{2}, j} (p_{n_y \\cdot i + j} - p_{n_y \\cdot (i+1) + j}) +\\\\\n",
    "T_{i-\\frac{1}{2}, j} (p_{n_y \\cdot i + j} - p_{n_y \\cdot (i-1) + j}) + \\\\\n",
    "T_{i, j+\\frac{1}{2}} (p_{n_y \\cdot i + j} - p_{n_y \\cdot i + j+1}) + \\\\\n",
    "T_{i, j-\\frac{1}{2}} (p_{n_y \\cdot i + j} - p_{n_y \\cdot i + j-1}) + \\\\\n",
    "\\frac{B_o}{B_w}\\tilde{q_o} \\Delta V_{n_y \\cdot i + j} + \\tilde{q_w} \\Delta V_{n_y \\cdot i + j} = 0$$"
   ]
  },
  {
   "cell_type": "markdown",
   "metadata": {},
   "source": [
    "Сделаем $B^w$ диагональную матрицу\n",
    "\n",
    "$B^{w} \\frac{\\partial \\vec{p}}{\\partial t} + T_{matrix} \\vec{p} + \\frac{B_o}{B_w}\\tilde{q_o} \\Delta V_{n_y \\cdot i + j} + \\tilde{q_w} \\Delta V_{n_y \\cdot i + j}$\n",
    "\n",
    "Но как же устроена $T_{matrix}$?"
   ]
  },
  {
   "cell_type": "markdown",
   "metadata": {},
   "source": [
    "$$\n",
    "\\begin{pmatrix}\n",
    "B^w_{0} & 0 &\\dots \\\\\n",
    "0 & B^w_{1} & \\dots \\\\\n",
    "\\vdots &  \\vdots & \\ddots \\\\\n",
    "\\end{pmatrix}\n",
    "\\frac{\\partial \\vec{p}}{\\partial t} + \n",
    "\\begin{pmatrix}\n",
    "0&0&\\ddots&\\ddots&\\ddots&0&\\dots&-T_{i+\\frac{1}{2}, j-1}&0 \\\\\n",
    "-T_{i-\\frac{1}{2}, j}&0&0&-T_{i, j-\\frac{1}{2}}&\n",
    "T_{i+\\frac{1}{2},j}+T_{i-\\frac{1}{2},j} + T_{i,j+\\frac{1}{2}}+T_{i,j-\\frac{1}{2}}\n",
    "&-T_{i, j+\\frac{1}{2}}&0&0& -T_{i+\\frac{1}{2}, j}\\\\\n",
    "0&\\ddots&0&0&\\ddots&\\ddots&\\ddots&0&0\\\\\n",
    "\\end{pmatrix}\n",
    "\\vec{p} +$$\n",
    "\\\n",
    "\\\n",
    "\\\n",
    "\\\n",
    "$$\\frac{B_o}{B_w}\\tilde{q_o} \\Delta \\vec{V} + \\tilde{q_w} \\Delta \\vec{V}\n",
    "=0\n",
    "$$\n",
    "\n",
    "Матрица получается трёхдиагональная, но есть элементы с отрицательными индексами, или же слишком большими которые должны поддерживать начальные условия\n",
    "\n",
    "Для начала обозначим последние слагаемые как $\\vec{\\tilde{Q}} = \\frac{B_o}{B_w}\\tilde{q_o} \\Delta \\vec{V} + \\tilde{q_w} \\Delta \\vec{V}$\n",
    "Ведь они вместе и будут задавать граничные условия"
   ]
  },
  {
   "cell_type": "markdown",
   "metadata": {},
   "source": [
    "<img src=\"bound_cond1.png\">"
   ]
  },
  {
   "cell_type": "markdown",
   "metadata": {},
   "source": [
    "Про то как разбирать граничные условия можно глянуть [тут](https://www.youtube.com/watch?v=XexrRtDcMaI&list=PLKNU3sBDzHbLrx0my5my11XODkYpgP-iO&index=3)\n",
    "\n",
    "По рисунку выше составим граничные условия\n",
    "\n",
    "Для начала разберём случай не угловой клетки\n",
    "$$Q_{(i, -1) -> (i, 0)} = T_{i, -\\frac{1}{2}} \\big( P_{i, -1} - P_{i, 0} \\big) = 2 T_{0} \\big( P_{b} - P_{i, 0}\\big)$$\n",
    "\n",
    "Следовательно $T_{-\\frac{1}{2}, j} = 2T_{0, j}$\n",
    "\n",
    "Добавка к $Q_{0, 0} = 2T_{0, j} P_{b}$\n",
    "\n",
    "Аналогично:\n",
    "<table>\n",
    "    <tr>\n",
    "        <td>\n",
    "\\begin{eqnarray}\n",
    "T_{n_x - \\frac{1}{2}, j} = 2T_{n_x - 1, j}\\\\\n",
    "T_{i, n_y - \\frac{1}{2}} = 2T_{i, n_y - 1}\\\\\n",
    "T_{-\\frac{1}{2}, j} = 2T_{0, j}\\\\\n",
    "T_{i, -\\frac{1}{2}} = 2T_{i, 0}\\\\\n",
    "\\end{eqnarray}\n",
    "        </td>\n",
    "        <td>\n",
    "\\begin{eqnarray}\n",
    "Q_{n_x - 1, j} = 2T_{n_x - 1, j} P_b \\\\\n",
    "Q_{i, n_y - 1} = 2T_{i, n_y - 1} P_b\\\\\n",
    "Q_{0, j} = 2T_{0, j} P_b\\\\\n",
    "Q_{i, 0} = 2T_{i, 0} P_b\\\\\n",
    "\\end{eqnarray}\n",
    "        </td>\n",
    "    </tr>\n",
    "</table>\n",
    "\n",
    "В 4 угловые точки никогда не попадём\n",
    "\n",
    "Вектор Q и его создание реализованно в `matrixes.get_q_p`, где p означает что этот вектор обозначен в разделе, где рассматривается обновление давления"
   ]
  },
  {
   "cell_type": "markdown",
   "metadata": {},
   "source": []
  },
  {
   "cell_type": "markdown",
   "metadata": {},
   "source": [
    "Эта матрица покачто не реализована функцией `matrixes.get_t_upd_matrix`"
   ]
  }
 ],
 "metadata": {
  "kernelspec": {
   "display_name": "Python 3",
   "language": "python",
   "name": "python3"
  },
  "language_info": {
   "codemirror_mode": {
    "name": "ipython",
    "version": 3
   },
   "file_extension": ".py",
   "mimetype": "text/x-python",
   "name": "python",
   "nbconvert_exporter": "python",
   "pygments_lexer": "ipython3",
   "version": "3.8.2"
  }
 },
 "nbformat": 4,
 "nbformat_minor": 4
}
