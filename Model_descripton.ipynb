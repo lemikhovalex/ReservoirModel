{
 "cells": [
  {
   "cell_type": "code",
   "execution_count": null,
   "metadata": {},
   "outputs": [],
   "source": [
    "import numpy as np\n",
    "import pandas as pd\n",
    "import plotly\n",
    "import matplotlib.pyplot as plt\n",
    "from sklearn.datasets import make_moons, make_circles\n",
    "import seaborn as sns\n",
    "import imp\n",
    "import matrixes\n",
    "imp.reload(matrixes)\n",
    "import random_initialization as rand_init\n",
    "imp.reload(rand_init)"
   ]
  },
  {
   "cell_type": "markdown",
   "metadata": {},
   "source": [
    "# Reservoir model\n",
    "\n",
    "Задача - построить 2D модель резервуара. Для начала необходимо задать свойства полости, такие как $\\phi,\\ S_{water}, S_{oil} = 1 - S_{water}, c_r, c$. Также величины, фигурирующие в законе Дарси: $k, \\mu, \\rho$. Будем считать модель изотропной и варьировать лишь $S_{oil}$\n",
    "\n",
    "# Построение формы резервуара\n",
    "## Насыщение\n",
    "Будем задавать значения каким -нибудь рандомным способом, но красивым. В `sklearn` есть множество методов создания выборок для классификации, мне понравился этот. Так мы и будем определять где вода, а где нефть."
   ]
  },
  {
   "cell_type": "code",
   "execution_count": null,
   "metadata": {},
   "outputs": [],
   "source": [
    "ns = 50000\n",
    "x_min, x_max = -1.3, 1.3\n",
    "y_min, y_max = -1.3, 1.3"
   ]
  },
  {
   "cell_type": "code",
   "execution_count": null,
   "metadata": {},
   "outputs": [],
   "source": [
    "ds = rand_init.get_saturation_scattered(n_samples=ns, noise=0.4)\n",
    "plt.scatter(ds[0][:, 0],ds[0][:, 1], c=ds[1], edgecolors='k')\n",
    "plt.show()          "
   ]
  },
  {
   "cell_type": "markdown",
   "metadata": {},
   "source": [
    "Перенесём всё это на меньший сетку фиксированного размера c фиксированным шагом по следующим правилам\n",
    "<ol>\n",
    "<li>Если в ячейке не оказывается ни одного элемента - значит это не пористая структура.\n",
    "\n",
    "<li>Если оказывается несколько - берёс среднее арифметическое\n",
    "</ol>"
   ]
  },
  {
   "cell_type": "code",
   "execution_count": null,
   "metadata": {},
   "outputs": [],
   "source": [
    "Satur_matrix = rand_init.get_grid_from_scattered(ds=ds, x_max=1, x_min=-1,\n",
    "                                                 y_min=-1, y_max=1\n",
    "                                                )\n",
    "sns.heatmap(Satur_matrix)\n",
    "plt.title(\"Saturation\")\n",
    "plt.show()"
   ]
  },
  {
   "cell_type": "markdown",
   "metadata": {},
   "source": [
    "# Глубина\n",
    "Покачто у нас резервуар 2D и вид сверху, нужно задать функцию глубины."
   ]
  },
  {
   "cell_type": "code",
   "execution_count": null,
   "metadata": {},
   "outputs": [],
   "source": [
    "ds = rand_init.get_depth_scattered(n_samples=ns)\n",
    "plt.scatter(ds[0][:, 0],ds[0][:, 1], c=ds[1], edgecolors='k')\n",
    "plt.show()    "
   ]
  },
  {
   "cell_type": "code",
   "execution_count": null,
   "metadata": {},
   "outputs": [],
   "source": [
    "depth_matrix = rand_init.get_grid_from_scattered(ds=ds, x_max=x_max, x_min=x_min,\n",
    "                                                 y_min=y_min, y_max=y_max\n",
    "                                                )\n",
    "sns.heatmap(depth_matrix)\n",
    "plt.title(\"Depth\")\n",
    "plt.show()"
   ]
  },
  {
   "cell_type": "markdown",
   "metadata": {},
   "source": [
    "# Пористость\n",
    "Возьмём её пока такую же как матрицу проницаемости"
   ]
  },
  {
   "cell_type": "code",
   "execution_count": null,
   "metadata": {},
   "outputs": [],
   "source": [
    "ds = rand_init.get_depth_scattered(n_samples=ns)\n",
    "plt.scatter(ds[0][:, 0],ds[0][:, 1], c=ds[1], edgecolors='k')\n",
    "plt.show()   "
   ]
  },
  {
   "cell_type": "code",
   "execution_count": null,
   "metadata": {},
   "outputs": [],
   "source": [
    "porosity_matrix = rand_init.get_grid_from_scattered(ds=ds, x_max=x_max, x_min=x_min,\n",
    "                                                 y_min=y_min, y_max=y_max\n",
    "                                                )\n",
    "sns.heatmap(depth_matrix)\n",
    "plt.title(\"Porosity\")\n",
    "plt.show()"
   ]
  },
  {
   "cell_type": "markdown",
   "metadata": {},
   "source": [
    "# Проницаемость k\n",
    "Возьмём такую же как матрицу насыщений"
   ]
  },
  {
   "cell_type": "code",
   "execution_count": null,
   "metadata": {},
   "outputs": [],
   "source": [
    "ds = rand_init.get_saturation_scattered(n_samples=ns, noise=0.3)\n",
    "plt.scatter(ds[0][:, 0],ds[0][:, 1], c=ds[1], edgecolors='k')\n",
    "plt.show()     "
   ]
  },
  {
   "cell_type": "code",
   "execution_count": null,
   "metadata": {},
   "outputs": [],
   "source": [
    "k_matrix = rand_init.get_grid_from_scattered(ds=ds, x_max=x_max, x_min=x_min,\n",
    "                                                 y_min=y_min, y_max=y_max\n",
    "                                                )\n",
    "sns.heatmap(depth_matrix)\n",
    "plt.title(\"k\")\n",
    "plt.show()"
   ]
  },
  {
   "cell_type": "markdown",
   "metadata": {},
   "source": [
    "## Матрицы свойств собраны\n",
    "Для построения модели эти матрицы нужно вытянуть в матрицы размера $n_x \\cdot n_y$, сделать около диагональными и уметь обращаться к свойствам резервуара на границе ячеек для матриц $k$ и $depth$\n",
    "\n",
    "Для $k$ в лекции вывели формулу, её реализаия представлена в классе `KMatrix`. \n",
    "\n",
    "$$k_{i+\\frac{1}{2}, j} = \\frac{\\Delta x_{i, j} + \\Delta y_{i+1, j}}{\\frac{\\Delta x_{i, j}}{k_{i, j}} + \\frac{\\Delta x_{i+1, j}}{k_{i+1, j}}}$$\n",
    "\\\n",
    "\\\n",
    "$$k_{i, j+\\frac{1}{2}} = \\frac{\\Delta y_{i, j} + \\Delta y_{i, j+1}}{\\frac{\\Delta y_{i, j}}{k_{i, j}} + \\frac{\\Delta y_{i, j+1}}{k_{i, j+1}}}$$\n",
    "\n",
    "### Глубина тоже важна на стыках\n",
    "Аккуратненько реализуем \n",
    "$$d_{i,\\ j+\\frac{1}{2}} = \\frac{d_{i, j} + d_{i, j+1}}{2}$$\n",
    "\\\n",
    "\\\n",
    "$$d_{i+\\frac{1}{2},\\ j} = \\frac{d_{i, j} + d_{i+1, j}}{2}$$"
   ]
  },
  {
   "cell_type": "markdown",
   "metadata": {},
   "source": [
    "# Модель\n",
    "$$\\frac{\\partial}{\\partial t} \\frac{\\phi S_{oil}}{B_o} = {\\frac{\\partial}{\\partial x} \\big(\\frac{k k_{ro}}{\\mu_o B_o}\\frac{\\partial \\vec p}{\\partial x}\\big)} + \\tilde\n",
    "{q_o}$$\n",
    "И точно такое же но для индекса не `o`, означающего `oil` а для `w`, `water`\n",
    "\n",
    "Рассписав $\\frac{\\partial}{\\partial t} \\frac{\\phi S_{oil}}{B_o}$ по `chain rule`\n",
    "\n",
    "$$\\frac{\\partial}{\\partial t} \\frac{\\phi S_{oil}}{B_o} = \\frac{\\phi}{B_o} \\frac{\\partial S_o}{\\partial t} + \\big( \\frac{\\phi S_o}{B_o} B_o \\frac{\\partial}{\\partial p}\\big[ \\frac{1}{B_o} \\big]  + \\frac{\\phi S_o}{B_o} \\cdot \\frac{1}{\\phi} \\frac{\\partial \\phi}{\\partial p} \\big) \\frac{\\partial p}{\\partial t}$$ (1)\n",
    "\n",
    "Введём константы сжимаемости\n",
    "\n",
    "$$\\frac{\\partial}{\\partial t} \\frac{\\phi S_{oil}}{B_o} = \\frac{\\phi}{B_o} \\frac{\\partial S_o}{\\partial t} + \\big( \\frac{\\phi S_o}{B_o} c_o  + \\frac{\\phi S_o}{B_o} c_r \\big) \\frac{\\partial p}{\\partial t}$$\n",
    "\n",
    "Пока поставим себе цель обновлять давление в нашей 2D картинке. Нужно избавиться от насыщений. Домножим выражение 1 на $\\frac{B_o}{B_w}$. Во многих местах окажется сумма насыщений.\n",
    "\n",
    "$$\\frac{\\phi}{B_w} \\frac{\\partial}{\\partial t} \\big(S_w + S_o\\big) + \\frac{\\phi}{B_w}\\big[ S_{o}c_o + S_{w}c_w + c_{r} (S_o + S_w)\\big] \\frac{\\partial p}{\\partial t} = \\big(\\frac{B_o}{B_w} \\frac{k k_{ro}}{\\mu_o B_o} +  \\frac{k k_{rw}}{\\mu_w B_w}\\big) \\nabla J(p) + \\frac{B_o}{B_w}\\tilde{q_o} + \\tilde{q_w}$$\n",
    "\n",
    "Учтём что $S_w + S_o = 1$. Это достигается постоянством давления на границе и потоком воды ($\\tilde{q}$ нужно только на границе, в других местах 0).\n",
    "\n",
    "Заменим $S_{o}c_o + S_{w}c_w + c_{r} (S_o + S_w) = c_t$ и получим:\n",
    "\n",
    "$$\\frac{\\phi c_t}{B_w} \\frac{\\partial p}{\\partial t} = \\big(\\frac{k k_{ro}}{\\mu_o B_w} + \\frac{k k_{rw}}{\\mu_w B_w} \\big) \\nabla J(p) + \\frac{B_o}{B_w}\\tilde{q_o} + \\tilde{q_w}$$\n",
    "\\\n"
   ]
  },
  {
   "cell_type": "markdown",
   "metadata": {},
   "source": [
    "## Обновление давления\n",
    "$$\\frac{\\phi ct}{B_w} \\frac{\\partial p}{\\partial t} = \\tilde{k}\\nabla J(p) + \\frac{B_o}{B_w}\\tilde{q_o} + \\tilde{q_w}$$"
   ]
  },
  {
   "cell_type": "markdown",
   "metadata": {},
   "source": [
    "Точно такое же уравнение было решено [Here](https://www.youtube.com/watch?v=2hxV5kJojRM&list=PLKNU3sBDzHbI4qD55I189y02asrHrgz6_&index=2). Перепишем ответ"
   ]
  },
  {
   "cell_type": "markdown",
   "metadata": {},
   "source": [
    "$$\\frac{\\phi c_t}{B_w}\\frac{p_{i, j}^{n+1} - p_{i,j}^{n}}{\\Delta t} \\Delta V_{i, j}=\n",
    "\\Big( \\\\\n",
    "\\tilde{k}_{i+\\frac{1}{2}, j} d_{i+\\frac{1}{2}, j} \\Delta y_{j} \\frac{p_{i+1, j} - p_{i, j}}{\\Delta x_{i+\\frac{1}{2}}} +\\\\\n",
    "\\tilde{k}_{i-\\frac{1}{2}, j} d_{i-\\frac{1}{2}, j} \\Delta y_{j} \\frac{p_{i-1, j} - p_{i, j}}{\\Delta x_{i-\\frac{1}{2}}} + \\\\\n",
    "\\tilde{k}_{i-\\frac{1}{2}, j} d_{i, j+\\frac{1}{2}} \\Delta x_{i}  \\frac{p_{i, j+1} - p_{i, j}}{\\Delta y_{j+\\frac{1}{2}}} + \\\\\n",
    "\\tilde{k}_{i-\\frac{1}{2}, j} d_{i, j-\\frac{1}{2}} \\Delta x_{j}  \\frac{p_{i, j-1} - p_{i, j}}{\\Delta y_{j-\\frac{1}{2}}}\n",
    "\\Big)\\\\\n",
    "+ \\tilde{Q}$$\n",
    "\\\n",
    "$\\Delta V_{i, j} = \\Delta x_{i, j} \\Delta y_{i, j} d_{i,j}$"
   ]
  },
  {
   "cell_type": "markdown",
   "metadata": {},
   "source": [
    "\n",
    "### T Interblock matrix\n",
    "Теперь можно для каждого стыка ячеек можно указать \"проводимость\"\n",
    "$$T_{i+\\frac{1}{2}, j} =\\tilde{k}_{i+\\frac{1}{2}, j} d_{i+\\frac{1}{2}, j} \\frac{ \\Delta y_{j}}{\\Delta x_{i+\\frac{1}{2}}}$$\n",
    "\\\n",
    "\\\n",
    "$$T_{i, j+\\frac{1}{2}} =\\tilde{k}_{i, j+\\frac{1}{2}} d_{i, j+\\frac{1}{2}} \\frac{ \\Delta x_{j}}{\\Delta y_{i+\\frac{1}{2}}}$$\n",
    "\n",
    "Также обозначим $B^{p, w}_{i, j} = \\frac{\\phi_{i, j}c_t V_{i, j}}{B_{w}}$"
   ]
  },
  {
   "cell_type": "markdown",
   "metadata": {},
   "source": [
    "Эта матрица реализованна в классе `matrixes.TInterBlockMatrix`"
   ]
  },
  {
   "cell_type": "markdown",
   "metadata": {},
   "source": [
    "### Матрица для обновлений\n",
    "\n",
    "Для того чтобы обновлять значения в ячейках, используя матричные умножения, нужно превратить матрицу свойств в вектор(reshape(-1)). Матрица же для обновления будет очень хитрой.\n",
    "\n",
    "#### .reshape(-1)"
   ]
  },
  {
   "cell_type": "code",
   "execution_count": null,
   "metadata": {},
   "outputs": [],
   "source": [
    "x = np.array([[0, 1, 2],\n",
    "              [3, 4, 5],\n",
    "              [6, 7, 8]\n",
    "             ])\n",
    "x.reshape(-1)"
   ]
  },
  {
   "cell_type": "code",
   "execution_count": null,
   "metadata": {},
   "outputs": [],
   "source": [
    "x.reshape((3, 3))"
   ]
  },
  {
   "cell_type": "markdown",
   "metadata": {},
   "source": [
    "### Матрица обновлений"
   ]
  },
  {
   "cell_type": "markdown",
   "metadata": {},
   "source": [
    "$$B_{i, j}^{p, w}\\frac{p_{i, j}^{n+1} - p_{i,j}^{n}}{\\Delta t} +\n",
    "T_{i+\\frac{1}{2}, j} (p_{i, j} - p_{i+1, j}) +\n",
    "T_{i-\\frac{1}{2}, j} (p_{i, j} - p_{i-1, j}) + \n",
    "T_{i, j+\\frac{1}{2}} (p_{i, j} - p_{i, j+1}) + \n",
    "T_{i, j-\\frac{1}{2}} (p_{i, j} - p_{i, j-1}) + \n",
    "\\tilde{Q}= 0$$"
   ]
  },
  {
   "cell_type": "markdown",
   "metadata": {},
   "source": [
    "Перейдём от $p_{i, j}$ к $p_n$\n",
    "\n",
    "$$p_{i, j} = p_{n_y \\cdot i + j}$$"
   ]
  },
  {
   "cell_type": "markdown",
   "metadata": {},
   "source": [
    "$$B_{n_y \\cdot i + j}^{w}\\frac{p_{n_y \\cdot i + j}^{n+1} - p_{n_y \\cdot i + j}^{n}}{\\Delta t} +\\\\\n",
    "T_{i+\\frac{1}{2}, j} (p_{n_y \\cdot i + j} - p_{n_y \\cdot (i+1) + j}) +\\\\\n",
    "T_{i-\\frac{1}{2}, j} (p_{n_y \\cdot i + j} - p_{n_y \\cdot (i-1) + j}) + \\\\\n",
    "T_{i, j+\\frac{1}{2}} (p_{n_y \\cdot i + j} - p_{n_y \\cdot i + j+1}) + \\\\\n",
    "T_{i, j-\\frac{1}{2}} (p_{n_y \\cdot i + j} - p_{n_y \\cdot i + j-1}) + \\\\\n",
    "\\tilde{Q} = 0$$"
   ]
  },
  {
   "cell_type": "markdown",
   "metadata": {},
   "source": [
    "Сделаем $B^{p, w}$ диагональную матрицу\n",
    "\n",
    "$B^{p, w} \\frac{\\partial \\vec{p}}{\\partial t} + T_{matrix} \\vec{p} + \\frac{B_o}{B_w}\\tilde{q_o} \\Delta V_{n_y \\cdot i + j} + \\tilde{Q}$\n",
    "\n",
    "Но как же устроена $T_{matrix}$?"
   ]
  },
  {
   "cell_type": "markdown",
   "metadata": {},
   "source": [
    "$$\n",
    "\\begin{pmatrix}\n",
    "B^{p, w}_{0} & 0 &\\dots \\\\\n",
    "0 & B^{p, w}_{1} & \\dots \\\\\n",
    "\\vdots &  \\vdots & \\ddots \\\\\n",
    "\\end{pmatrix}\n",
    "\\frac{\\partial \\vec{p}}{\\partial t} + \n",
    "\\begin{pmatrix}\n",
    "0&0&\\ddots&\\ddots&\\ddots&0&\\dots&-T_{i+\\frac{1}{2}, j-1}&0 \\\\\n",
    "-T_{i-\\frac{1}{2}, j}&0&0&-T_{i, j-\\frac{1}{2}}&\n",
    "T_{i+\\frac{1}{2},j}+T_{i-\\frac{1}{2},j} + T_{i,j+\\frac{1}{2}}+T_{i,j-\\frac{1}{2}}\n",
    "&-T_{i, j+\\frac{1}{2}}&0&0& -T_{i+\\frac{1}{2}, j}\\\\\n",
    "0&\\ddots&0&0&\\ddots&\\ddots&\\ddots&0&0\\\\\n",
    "\\end{pmatrix}\n",
    "\\vec{p} +$$\n",
    "\\\n",
    "\\\n",
    "\\\n",
    "\\\n",
    "$$\\tilde{Q}\n",
    "=0\n",
    "$$\n",
    "\n",
    "Матрица получается трёхдиагональная, но есть элементы с отрицательными индексами, или же слишком большими которые должны поддерживать начальные условия\n",
    "\n",
    "Последнее слагаемое помогает справиться с граничными условиями"
   ]
  },
  {
   "cell_type": "markdown",
   "metadata": {},
   "source": [
    "<img src=\"bound_cond1.png\">"
   ]
  },
  {
   "cell_type": "markdown",
   "metadata": {},
   "source": [
    "Про то как разбирать граничные условия можно глянуть [тут](https://www.youtube.com/watch?v=XexrRtDcMaI&list=PLKNU3sBDzHbLrx0my5my11XODkYpgP-iO&index=3)\n",
    "\n",
    "По рисунку выше составим граничные условия\n",
    "\n",
    "Для начала разберём случай не угловой клетки\n",
    "$$Q_{(i, -1) -> (i, 0)} = T_{i, -\\frac{1}{2}} \\big( P_{i, -1} - P_{i, 0} \\big) = 2 T_{0} \\big( P_{b} - P_{i, 0}\\big)$$\n",
    "\n",
    "Следовательно $T_{-\\frac{1}{2}, j} = 2T_{0, j}$\n",
    "\n",
    "Добавка к $Q_{0, 0} = 2T_{0, j} P_{b}$\n",
    "\n",
    "Аналогично:\n",
    "<table>\n",
    "    <tr>\n",
    "        <td>\n",
    "\\begin{eqnarray}\n",
    "T_{n_x - \\frac{1}{2}, j} = 2T_{n_x - 1, j}\\\\\n",
    "T_{i, n_y - \\frac{1}{2}} = 2T_{i, n_y - 1}\\\\\n",
    "T_{-\\frac{1}{2}, j} = 2T_{0, j}\\\\\n",
    "T_{i, -\\frac{1}{2}} = 2T_{i, 0}\\\\\n",
    "\\end{eqnarray}\n",
    "        </td>\n",
    "        <td>\n",
    "\\begin{eqnarray}\n",
    "Q_{n_x - 1, j} = 2T_{n_x - 1, j} P_b \\\\\n",
    "Q_{i, n_y - 1} = 2T_{i, n_y - 1} P_b\\\\\n",
    "Q_{0, j} = 2T_{0, j} P_b\\\\\n",
    "Q_{i, 0} = 2T_{i, 0} P_b\\\\\n",
    "\\end{eqnarray}\n",
    "        </td>\n",
    "    </tr>\n",
    "</table>\n",
    "\n",
    "В 4 угловые точки никогда не попадём\n",
    "\n",
    "Вектор Q и его создание реализованно в `matrixes.get_q_p`, где p означает что этот вектор обозначен в разделе, где рассматривается обновление давления\n",
    "\n",
    "Матрица T для обнолвнеий реализована функцией `matrixes.get_t_upd_matrix`"
   ]
  },
  {
   "cell_type": "markdown",
   "metadata": {},
   "source": [
    "## Обновление насыщения"
   ]
  },
  {
   "cell_type": "markdown",
   "metadata": {},
   "source": [
    "Воспользаемся уже полученным уравнением\n",
    "$$\\frac{\\phi}{B_w} \\frac{\\partial S_w}{\\partial t} +\\frac{\\phi S_w}{B_w}\\big(c_w + c_r \\big) \\frac{\\partial p}{\\partial t} = \n",
    "\\frac{\\partial}{\\partial x}\\Big[ \\frac{k k_{rw}}{\\mu_w B_w} \\frac{\\partial p}{\\partial x} \\Big] + \\tilde{q_w}$$\n",
    "\n",
    "$ \\frac{k k_{rw}}{\\mu_w B_w} = k^{s, w}$\n",
    "\n",
    "$$\\frac{\\phi}{B_w} \\frac{\\partial S_w}{\\partial t} +\\frac{\\phi S_w}{B_w}\\big(c_w + c_r \\big) \\frac{\\partial p}{\\partial t} = \n",
    "\\frac{\\partial}{\\partial x}\\Big[ k^{s, w}\\frac{\\partial p}{\\partial x} \\Big] + \\tilde{q_w}$$\n",
    "\n",
    "Обозначим $B^{s, w}_{i, j} = \\frac{\\phi_{i, j} (c_w + c_r) V_{i, j}}{B_{w}}$"
   ]
  },
  {
   "cell_type": "markdown",
   "metadata": {},
   "source": [
    "Точно такое же уравнение было решено [Here](https://www.youtube.com/watch?v=2hxV5kJojRM&list=PLKNU3sBDzHbI4qD55I189y02asrHrgz6_&index=2). Перепишем ответ"
   ]
  },
  {
   "cell_type": "markdown",
   "metadata": {},
   "source": [
    "$$\\frac{\\phi}{B_w}\\frac{S_{w; i, j}^{n+1} - S_{w; i, j}^{n}}{\\Delta t} \\Delta V_{i, j} + \n",
    "B^{s, w}_{i, j} \\frac{p^{n+1}_{i, j} - p_{i, j}^n}{\\Delta t} =\n",
    "\\Big( \\\\\n",
    "k^{s, w}_{i+\\frac{1}{2}, j} d_{i+\\frac{1}{2}, j} \\Delta y_{j} \\frac{p_{i+1, j} - p_{i, j}}{\\Delta x_{i+\\frac{1}{2}}} +\\\\\n",
    "k^{s, w}_{i-\\frac{1}{2}, j} d_{i-\\frac{1}{2}, j} \\Delta y_{j} \\frac{p_{i-1, j} - p_{i, j}}{\\Delta x_{i-\\frac{1}{2}}} + \\\\\n",
    "k^{s, w}_{i-\\frac{1}{2}, j} d_{i, j+\\frac{1}{2}} \\Delta x_{i}  \\frac{p_{i, j+1} - p_{i, j}}{\\Delta y_{j+\\frac{1}{2}}} + \\\\\n",
    "k^{s, w}_{i-\\frac{1}{2}, j} d_{i, j-\\frac{1}{2}} \\Delta x_{j}  \\frac{p_{i, j-1} - p_{i, j}}{\\Delta y_{j-\\frac{1}{2}}}\n",
    "\\Big)\\\\\n",
    "+ \\tilde{Q}$$\n",
    "\\\n",
    "$\\Delta V_{i, j} = \\Delta x_{i, j} \\Delta y_{i, j} d_{i,j}$\n",
    "\n",
    "\n",
    "В уравнениее обновления насыщенности воды фигурирует всё слагаемое для граничных условий т.к. затекает в резервуар извне только вода."
   ]
  },
  {
   "cell_type": "markdown",
   "metadata": {},
   "source": [
    "Перепишем всэ это в матричном виде\n",
    "\n",
    "$$B^{p, w} \\frac{\\partial p}{\\partial t} =  T^{upd}_{\\tilde{k}} \\vec{p} + \\tilde{Q}$$\n",
    "\n",
    "$$\\frac{\\phi}{B_w}\\frac{\\partial \\vec{S_w}}{\\partial t} \\Delta V_{i, j} + B^{s, w} \\frac{\\partial p}{\\partial t} = T^{upd}_{k^{s,w}} \\vec{p} + \\tilde{Q}\n",
    "$$\n",
    "\n",
    "$$\\frac{\\phi}{B_o}\\frac{\\partial \\vec{S_o}}{\\partial t} \\Delta V_{i, j} + B^{s, o} \\frac{\\partial p}{\\partial t} = T^{upd}_{k^{s, o}} \\vec{p}\n",
    "$$\n",
    "\n",
    "Будем каждый шаг обновлять насыщения и нефти и воды, а потом нормировать на сумму. Чтобы случайно численные методы не привели к тому что $S_o + S_w \\neq 1$"
   ]
  },
  {
   "cell_type": "markdown",
   "metadata": {},
   "source": [
    "Обозначу константы, которым я ранее не уделил достаточно времени:\n",
    "<ol>\n",
    "    <li> $B^w = \\frac{water\\ volume\\ in\\ res}{water\\ volume\\ standart}$\n",
    "    <li> k - пропускная способность\n",
    "    <li> $\\mu$ - вязкость\n",
    "    <li> $\\phi$ - пористость\n",
    "    <li> $S$ - насыщённсоть\n",
    "    <li> $k_{r, \\alpha}$ - относительно пропускная способность\n",
    "    <li> $c_t = S_{o}c_o + S_{w}c_w + c_{r}$\n",
    "    <li> $B^{p, w}_{i, j} = \\frac{\\phi_{i, j}c_t V_{i, j}}{B_{w}}$\n",
    "    <li> $B^{s, w}_{i, j} = \\frac{\\phi_{i, j} (c_w + c_r) V_{i, j}}{B_{w}}$\n",
    "    <li> $\\tilde{k} = \\frac{k k_{ro}}{\\mu_o B_w} + \\frac{k k_{rw}}{\\mu_w B_w}$\n",
    "</ol>"
   ]
  },
  {
   "cell_type": "markdown",
   "metadata": {},
   "source": [
    "# Моделирование скважины\n",
    "Остался последний штих\n",
    "\n",
    "Первый подход - задавать $q$ на каждом входе манары.\n",
    "При этом нужно фиксировать суммарную пропускную способность.\n",
    "\n",
    "Таким образом мы сможем узнавать сколько проходит воды или нефти по значениемм $S_w,\\ S_o$ в каждой ячейке.\n",
    "Однако в таком случае всё машинное обучение сведётся к настройке лишь на эти параметры, не учитывая давление."
   ]
  },
  {
   "cell_type": "markdown",
   "metadata": {},
   "source": [
    "## Корректировка давления при скважине\n",
    "Положим что вход в МАНАРу это сферический шарик одинаково проводящий. Тогда вблизи входа можно записать уравнение рассеяния\n",
    "\n",
    "$$\\lim_{r \\rightarrow 0} 4\\pi r^2 \\cdot \\frac{\\partial p}{\\partial r} = \\frac{-q_{\\alpha} B_{\\alpha}}{k_{\\alpha}}\\\\\n",
    "q_{\\alpha} \\leq 0\n",
    "$$\n",
    "$$p(r) = p_0 + \\frac{-q_{\\alpha} B_{\\alpha}}{4 \\pi k_{\\alpha}} \\cdot \\frac{1}{r}$$\n",
    "Такая зависимость крайне интересна, но представляется собой плохо, т.к. содержит неопределённость. Немножко сдвинем эту гиперболу из эмпирических соображений."
   ]
  },
  {
   "cell_type": "markdown",
   "metadata": {},
   "source": [
    "<img src=\"well_fixed_hyp.jpg\" style=\"width: 500px;\"/>"
   ]
  },
  {
   "cell_type": "markdown",
   "metadata": {},
   "source": [
    "Мы сдвигаем гиперболу влево, таким образом в нуле у нас значение давления в трубе $P_{well}$.\n",
    "\n",
    "При этом давление на бесконечности выравнивается в $P_{avg}$ среднее за соседние 8 ячеек\n",
    "\n",
    "Обозначим рефересные давление и радиус через равенство заштризованых площадей. Иначе площадь прямоугольника равна площади кривой огрниченной $\\Delta x$\n",
    "\n",
    "$$p(r) = p_{avg} + \\frac{-q_{\\alpha} B_{\\alpha}}{4 \\pi k_{\\alpha}} \\cdot \\frac{1}{r + r_0}$$\n",
    "\n",
    "Нам неизвестно $r_0$ будем находить его, связав $q_{\\alpha}$ с тем как жидкость вытекает из ячейки со скважиной в соседние 4, выраженую через разность давлений"
   ]
  },
  {
   "cell_type": "markdown",
   "metadata": {},
   "source": [
    "<img src=\"well_neibours.jpg\" style=\"width: 500px;\"/>"
   ]
  },
  {
   "cell_type": "markdown",
   "metadata": {},
   "source": [
    "Обозначим ячейку со скважиной номером $l$, соседей обозначим 1-4. Не забудем про номера ячеек по горизонтали и вертикали"
   ]
  },
  {
   "cell_type": "markdown",
   "metadata": {},
   "source": [
    "$$\n",
    "B_{i, j}^{w}\\frac{p_{i, j}^{n+1} - p_{i,j}^{n}}{\\Delta t}+\\\\\n",
    "\\Big\\{\n",
    "T_{i, j-\\frac{1}{2}}\\big( p_1 - p_l \\big) +\n",
    "T_{i-\\frac{1}{2}, j}\\big( p_2 - p_l \\big) + \n",
    "T_{i, j+\\frac{1}{2}}\\big( p_3 - p_l \\big) +\n",
    "T_{i+\\frac{1}{2}, j}\\big( p_4 - p_l \\big)\n",
    "\\Big\\} =\\\\ \\frac{B_o}{B_w}q_o + q_w = 0\n",
    "$$\n",
    "Мы рассматриваем стационарное состояние, а значит $\\frac{\\partial p}{\\partial t} = 0$\n",
    "\n",
    "Ещё стоит отметить, что сейчас мы знаем $q_o$ и $q_w$ и поэтому они без волны. Точнее мы знаем $q_o + q_w$, а их будем брать пропорционально насыщениям"
   ]
  },
  {
   "cell_type": "markdown",
   "metadata": {},
   "source": [
    "$$p_1 = p_{avg} + \\sum_{\\alpha \\in \\{w, o \\}}\\frac{-q_{\\alpha} B_{\\alpha}}{4 \\pi k_{\\alpha}} \\cdot \\frac{1}{\\Delta x_{i-\\frac{1}{2}} + r_0}\\\\\n",
    "\\dots\n",
    "$$\n",
    "Теперь нужно определить $p_{l}$, для этого нужно выяснить что там с площадьми"
   ]
  },
  {
   "cell_type": "markdown",
   "metadata": {},
   "source": [
    "### Не, ну его нафиг\n",
    "В лекции у мужика была сетка различного размера вплоть до того момента, как началась история со скважиной. Перерасчитывать данное уравнение я не хочу"
   ]
  },
  {
   "cell_type": "markdown",
   "metadata": {},
   "source": [
    "$$\n",
    "B_{i, j}^{w}\\frac{p_{i, j}^{n+1} - p_{i,j}^{n}}{\\Delta t}+\\\\\n",
    "\\Big\\{\n",
    "T_{i, j-\\frac{1}{2}}\\big( p_1 - p_l \\big) +\n",
    "T_{i-\\frac{1}{2}, j}\\big( p_2 - p_l \\big) + \n",
    "T_{i, j+\\frac{1}{2}}\\big( p_3 - p_l \\big) +\n",
    "T_{i+\\frac{1}{2}, j}\\big( p_4 - p_l \\big)\n",
    "\\Big\\} =\\\\ \\frac{B_o}{B_w}q_o \\Delta V_{i, j} + q_w \\Delta V_{i, j} = 0\n",
    "$$\n",
    "Да и тут он ограничился $T_{i, j}$.\n",
    "\n",
    "$$T_{i, j}\\sum_{i=1, \\dots 4}\\big( p_i - p_{ref} \\big)= q_{\\alpha}$$"
   ]
  },
  {
   "cell_type": "markdown",
   "metadata": {},
   "source": [
    "$$\\int_{0}^{\\Delta x} p_{avg} - \\frac{qB_{\\alpha}}{4\\pi k_{\\alpha}}\\cdot \\frac{1}{r_0 + r} dr = \n",
    "\\Delta x p_{avg} - \\frac{qB_{\\alpha}}{4\\pi k_{\\alpha}}\\int_{0}^{\\Delta x} \\frac{d(r + r_0)}{r + r_0} = \n",
    "\\Delta x p_{avg} - \\frac{qB_{\\alpha}}{4\\pi k_{\\alpha}} \\ln \\big( \\frac{\\Delta x + r_0}{r_0} \\big) =\n",
    "\\Delta x p_{ref}\n",
    "$$\n",
    "\n",
    "$$p_{ref} = p_{avg} - \\frac{qB_{\\alpha}}{4\\pi k_{\\alpha}} \\ln \\big( \\frac{\\Delta x + r_0}{r_0} \\big)$$\n",
    "\n",
    "Подставим полученное в уравнение выше\n",
    "\n",
    "$$T_{i, j}\\sum_{i=1, \\dots 4}\\big( p_i - p_{ref} \\big) =\n",
    "4T_{i, j}  \n",
    "\\Big( \\frac{1}{\\Delta x} \\ln \\big( \\frac{\\Delta x + r_0}{r_0} \\big) - \\frac{1}{r_0 + \\Delta x}\\Big)\\cdot \\frac{q_{\\alpha}B_{\\alpha}}{4\\pi k_{\\alpha}} = \n",
    "q_{\\alpha} 1$$\n"
   ]
  },
  {
   "cell_type": "markdown",
   "metadata": {},
   "source": [
    "$$1 = \\frac{B_{\\alpha}}{\\pi k_{\\alpha}\\Delta x} T_{i,j}\n",
    "\\Big(\\ln\\frac{\\Delta x + r_0}{r_0} - \\frac{\\Delta x}{\\Delta x + r_0} \\Big)$$\n",
    "\n",
    "$$1 = \\frac{B_{\\alpha}d_{i, j}}{\\Delta x}\n",
    "\\Big(\\ln\\frac{\\Delta x + r_0}{r_0} - \\frac{\\Delta x}{\\Delta x + r_0} \\Big)$$\n",
    "\n",
    "$$\\xi = \\frac{\\Delta x}{r_0} $$\n",
    "\n",
    "$$1 = \\frac{B_{\\alpha}d_{i, j}}{\\Delta x} \\Big(\\ln\\big(1+\\xi \\big) - \\frac{1}{1 + \\xi^{-1}} \\Big)$$"
   ]
  },
  {
   "cell_type": "markdown",
   "metadata": {},
   "source": [
    "Нет, это будем решать численно\n",
    "\n",
    "Так, теперь мы знаем всё что нужно про давление. Что дальше?\n",
    "\n",
    "Нужно сделать поправки в формулу обновления давления на $q^{well}$"
   ]
  },
  {
   "cell_type": "markdown",
   "metadata": {},
   "source": [
    "$$B^{p, w} \\frac{\\partial \\vec{p}}{\\partial t} =  T^{upd}_{\\tilde{k}} \\vec{p} + \\tilde{Q} + \\frac{B_o}{B_w} q_o^{well} + q_w^{well}$$"
   ]
  },
  {
   "cell_type": "markdown",
   "metadata": {},
   "source": [
    "\n",
    "$$\\frac{\\phi}{B_w}\\frac{\\partial \\vec{S_w}}{\\partial t} \\Delta V_{i, j} + B^{s, w} \\frac{\\partial p}{\\partial t} = T^{upd}_{k^{s,w}} \\vec{p} + \\tilde{Q} + \\vec{q^{well}_w}\n",
    "$$\n"
   ]
  },
  {
   "cell_type": "markdown",
   "metadata": {},
   "source": [
    "\n",
    "$$\\frac{\\phi}{B_o}\\frac{\\partial \\vec{S_o}}{\\partial t} \\Delta V_{i, j} + B^{s, o} \\frac{\\partial p}{\\partial t} = T^{upd}_{k^{s, o}} \\vec{p} + \\vec{q^{well}_o}\n",
    "$$\n"
   ]
  },
  {
   "cell_type": "markdown",
   "metadata": {},
   "source": [
    "Осталось реализовать все константы и решить уравнения!\n",
    "\n",
    "$$\\vec{p^{n+1}} = \\vec{p^{n}} + \\Delta t \\big[B^{p, w}\\big]^{-1}\\big[ T^{upd}_{\\tilde{k}} \\vec{p} + \\tilde{Q} + \\frac{B_o}{B_w} q_o^{well} + q_w^{well}\\big]$$"
   ]
  },
  {
   "cell_type": "markdown",
   "metadata": {},
   "source": [
    "$$\\vec{S^{n+1}_{w}} = \\vec{S^{n}_{w}} - \\phi^{-1}B^{sw}B^{w}\\frac{\\vec{p^{n+1}} - \\vec{p^{n}}}{\\Delta V}\n",
    "+ \\Delta t \\phi^{-1}B^{w} \\big[ T^{upd}_{k^{s, w}} \\vec{p^{n+1}} + \\tilde{Q} + \\vec{q_w^{well}} \\big]$$"
   ]
  },
  {
   "cell_type": "markdown",
   "metadata": {},
   "source": [
    "$$\\vec{S^{n+1}_{o}} = \\vec{S^{n}_{o}} - \\phi^{-1}B^{so}B^{o}\\frac{\\vec{p^{n+1}} - \\vec{p^{n}}}{\\Delta V}\n",
    "+ \\Delta t \\phi^{-1}B^{o} \\big[ T^{upd}_{k^{s, o}} \\vec{p^{n+1}} + \\vec{q_o^{well}} \\big]$$"
   ]
  },
  {
   "cell_type": "markdown",
   "metadata": {},
   "source": [
    "А все вычисления уже в другом ноутбуке!"
   ]
  }
 ],
 "metadata": {
  "kernelspec": {
   "display_name": "Python 3",
   "language": "python",
   "name": "python3"
  },
  "language_info": {
   "codemirror_mode": {
    "name": "ipython",
    "version": 3
   },
   "file_extension": ".py",
   "mimetype": "text/x-python",
   "name": "python",
   "nbconvert_exporter": "python",
   "pygments_lexer": "ipython3",
   "version": "3.8.2"
  }
 },
 "nbformat": 4,
 "nbformat_minor": 4
}
