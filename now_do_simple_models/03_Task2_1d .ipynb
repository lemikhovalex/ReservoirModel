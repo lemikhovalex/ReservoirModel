{
 "cells": [
  {
   "cell_type": "markdown",
   "metadata": {},
   "source": [
    "#  Task 2\n",
    "## Statement\n",
    "\n",
    "$$\n",
    "\\frac{k}{\\mu B}\\Delta_x p(t, x) = \\frac{V_b \\phi c }{\\alpha}\\frac{\\partial}{\\partial t}p(t, x)\\\\\n",
    "\\frac{\\partial}{\\partial x}\\big(\\frac{k_x A_x}{\\mu B} \\frac{\\partial p}{\\partial x}\\big) \n",
    "+ q\n",
    "=\\frac{V_b \\phi c }{\\alpha}\\frac{\\partial p}{\\partial t}\n",
    "$$\n",
    "\n",
    "$$ \\frac{\\partial }{\\partial t} p= \\frac{1}{\\alpha} \\Delta p + q\\\\\n",
    "\\frac{\\partial}{\\partial x}p(0, t) = 0,\\ \\frac{\\partial}{\\partial x}p(L, t)=c_1,\\ p(x, 0) = p_0\n",
    "$$\n"
   ]
  },
  {
   "cell_type": "markdown",
   "metadata": {},
   "source": [
    "<img src=\"figures/Task2.png\">"
   ]
  },
  {
   "cell_type": "markdown",
   "metadata": {},
   "source": [
    "## Numerical solution\n",
    "$$\\frac{1}{\\mu B}\\Big(\\frac{k_{-\\frac{1}{2}} A_{-\\frac{1}{2}}}{\\Delta x_{-\\frac{1}{2}}}p_{-1}\n",
    "- \\big( \\frac{k_{\\frac{1}{2}} A_{\\frac{1}{2}}}{\\Delta x_{\\frac{1}{2}}} + \\frac{k_{-\\frac{1}{2}} A_{-\\frac{1}{2}}}{\\Delta x_{-\\frac{1}{2}}}\\big)p_{0}\n",
    "+\\frac{k_{\\frac{1}{2}} A_{\\frac{1}{2}}}{\\Delta x_{\\frac{1}{2}}}p_{1}\\Big) + q_0\n",
    "= \\frac{p^{n+1}_0 - p^{n}_0}{\\Delta t} \\frac{V_b \\phi c}{\\alpha}\n",
    "$$\n",
    "$\\tilde{q}_0 = q_0 + \\frac{1}{\\mu B}\\frac{k_{-\\frac{1}{2}} A_{-\\frac{1}{2}}}{\\Delta x_{-\\frac{1}{2}}}p_{-1}$, где $p_{-1}$ \n"
   ]
  },
  {
   "cell_type": "code",
   "execution_count": 123,
   "metadata": {},
   "outputs": [],
   "source": [
    "import numpy as np\n",
    "import matplotlib.pyplot as plt\n",
    "from IPython import display"
   ]
  },
  {
   "cell_type": "code",
   "execution_count": 124,
   "metadata": {},
   "outputs": [],
   "source": [
    "k = 1e-1 * 1.987e-13  # 1 darcy to m^2\n",
    "dx = 1 # m\n",
    "dy = 5 # m\n",
    "c = 15.8e-10 # # Pa^-1\n",
    "phi = 0.4\n",
    "B = 1\n",
    "mu = 2.9e-4  # m^2 / s\n",
    "p_0 = 4e4 * 6894  # psi to Pa\n",
    "nx = 7\n",
    "d = 3  # m\n",
    "dt = 1  # s\n",
    "w = 2"
   ]
  },
  {
   "cell_type": "code",
   "execution_count": 125,
   "metadata": {},
   "outputs": [],
   "source": [
    "lapl = np.zeros((nx, nx))\n",
    "for dia in range(nx):\n",
    "    lapl[dia, dia] = -2 * k * d * dy / dx\n",
    "    if dia-1 >= 0:\n",
    "        lapl[dia, dia-1] = k * d * dy / dx\n",
    "    if dia+1 < nx:\n",
    "        lapl[dia, dia+1] = k * d * dy / dx\n",
    "# no flux for left bound        \n",
    "lapl[0, 0] = -1 * k * d * dy / dx   \n",
    "lapl *= 1 / (mu * B)"
   ]
  },
  {
   "cell_type": "code",
   "execution_count": 126,
   "metadata": {},
   "outputs": [],
   "source": [
    "dt_coeff = dx * dy * d * phi * c / dt"
   ]
  },
  {
   "cell_type": "code",
   "execution_count": null,
   "metadata": {},
   "outputs": [],
   "source": [
    "c_1 = 220 * 6894  # psi to Pa\n",
    "q_w = -5e-4 # m3/s"
   ]
  },
  {
   "cell_type": "code",
   "execution_count": 127,
   "metadata": {},
   "outputs": [
    {
     "data": {
      "image/png": "[encoded data removed]",
      "text/plain": [
       "<Figure size 432x288 with 1 Axes>"
      ]
     },
     "metadata": {
      "needs_background": "light"
     },
     "output_type": "display_data"
    }
   ],
   "source": [
    "n_iter = int(3e3)\n",
    "p_ex = np.ones((nx, 1)) * p_0\n",
    "p_im = np.ones((nx, 1)) * p_0\n",
    "t = 0\n",
    "xs = list((np.linspace(0, nx-1, nx) + dx/2) * dx)\n",
    "plot_freq = int(1e1)\n",
    "\n",
    "q_tilde = np.zeros((nx, 1))\n",
    "q_tilde[w, 0] = q_w\n",
    "for i in range(1, n_iter):\n",
    "    q_tilde[nx-1] = 1 / (mu * B) * k * dy * d / dx * (p_ex[nx-1][0] + dx * c_1) +  k * d * dy / (dx * mu * B)\n",
    "    p_ex += 1 / dt_coeff * (lapl.dot(p_ex) + q_tilde)\n",
    "    t += dt\n",
    "    if i % plot_freq == 0:\n",
    "        display.clear_output(wait=True)\n",
    "        plt.plot(xs, p_ex / 6894, label=f'numerical solution, explicit')\n",
    "        plt.xlabel('x, m')\n",
    "        plt.ylabel('p, psi')\n",
    "        plt.title(f'1d pressure problem for const boundary condition\\nt={t} s')\n",
    "        plt.legend()\n",
    "        plt.show()"
   ]
  }
 ],
 "metadata": {
  "kernelspec": {
   "display_name": "Python 3",
   "language": "python",
   "name": "python3"
  },
  "language_info": {
   "codemirror_mode": {
    "name": "ipython",
    "version": 3
   },
   "file_extension": ".py",
   "mimetype": "text/x-python",
   "name": "python",
   "nbconvert_exporter": "python",
   "pygments_lexer": "ipython3",
   "version": "3.8.2"
  }
 },
 "nbformat": 4,
 "nbformat_minor": 4
}
