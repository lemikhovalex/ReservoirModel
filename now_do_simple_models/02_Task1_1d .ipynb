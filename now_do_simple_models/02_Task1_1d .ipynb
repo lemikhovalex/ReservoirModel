{
 "cells": [
  {
   "cell_type": "markdown",
   "metadata": {},
   "source": [
    "#  Task 1\n",
    "## Statement\n",
    "\n",
    "$$\n",
    "\\frac{k}{\\mu B}\\Delta_x p(t, x) = \\frac{V_b \\phi c }{\\alpha}\\frac{\\partial}{\\partial t}p(t, x)\\\\\n",
    "\\frac{\\partial}{\\partial x}\\big(\\frac{k_x A_x}{\\mu B} \\frac{\\partial p}{\\partial x}\\big) \n",
    "+ q\n",
    "=\\frac{V_b \\phi c }{\\alpha}\\frac{\\partial p}{\\partial t}\n",
    "$$\n",
    "\n",
    "$$ \\frac{\\partial }{\\partial t} p= \\frac{1}{\\alpha} \\Delta p\\\\\n",
    "p(x, 0) = p_0,\\ p(0, t)=p_1,\\ p(L, t) = p_2\n",
    "$$\n"
   ]
  },
  {
   "cell_type": "markdown",
   "metadata": {},
   "source": [
    "<img src=\"figures/Task1.png\">"
   ]
  },
  {
   "cell_type": "markdown",
   "metadata": {},
   "source": [
    "## Numerical solution\n",
    "$$\\frac{1}{\\mu B}\\Big(\\frac{k_{-\\frac{1}{2}} A_{-\\frac{1}{2}}}{\\Delta x_{-\\frac{1}{2}}}p_{-1}\n",
    "- \\big( \\frac{k_{\\frac{1}{2}} A_{\\frac{1}{2}}}{\\Delta x_{\\frac{1}{2}}} + \\frac{k_{-\\frac{1}{2}} A_{-\\frac{1}{2}}}{\\Delta x_{-\\frac{1}{2}}}\\big)p_{0}\n",
    "+\\frac{k_{\\frac{1}{2}} A_{\\frac{1}{2}}}{\\Delta x_{\\frac{1}{2}}}p_{1}\\Big) + q_0\n",
    "= \\frac{p^{n+1}_0 - p^{n}_0}{\\Delta t} \\frac{V_b \\phi c}{\\alpha}\n",
    "$$\n",
    "$\\tilde{q}_0 = q_0 + \\frac{1}{\\mu B}\\frac{k_{-\\frac{1}{2}} A_{-\\frac{1}{2}}}{\\Delta x_{-\\frac{1}{2}}}p_{-1}$, где $p_{-1}$ \n",
    "\n",
    "## Analitical solution\n",
    "\n",
    "$$\n",
    "p(x, t) = \\frac{p_2 - p_1}{L}x + p_1 + \\sum_{k=1}^{\\inf}-2\\frac{e^{-\\frac{\\pi^2 t k^2}{L^2 \\alpha}}\\Big(p_1 + (-1)^{k+1}p_2 + \\big(-1 + (-1)^{k}\\big)p_0\\Big)\\sin(\\frac{\\pi x k}{L})}{\\pi k}\n",
    "$$"
   ]
  },
  {
   "cell_type": "code",
   "execution_count": 1,
   "metadata": {},
   "outputs": [],
   "source": [
    "import numpy as np\n",
    "import matplotlib.pyplot as plt\n",
    "from IPython import display"
   ]
  },
  {
   "cell_type": "code",
   "execution_count": 2,
   "metadata": {},
   "outputs": [],
   "source": [
    "k = 1e-1 * 1.987e-13  # 1 darcy to m^2\n",
    "dx = 1 # m\n",
    "dy = 5 # m\n",
    "c = 15.8e-10 # # Pa^-1\n",
    "phi = 0.4\n",
    "B = 1\n",
    "mu = 2.9e-4  # m^2 / s\n",
    "p_0 = 4e4 * 6894  # psi to Pa\n",
    "p_1 = 4.1e4 * 6894  # psi to Pa\n",
    "p_2 = 3.9e4 * 6894  # psi to Pa\n",
    "nx = 15\n",
    "d = 3  # m\n",
    "dt = 1  # s"
   ]
  },
  {
   "cell_type": "code",
   "execution_count": 3,
   "metadata": {},
   "outputs": [],
   "source": [
    "lapl = np.zeros((nx, nx))\n",
    "for dia in range(nx):\n",
    "    lapl[dia, dia] = -2 * k * d * dy / dx\n",
    "    if dia-1 >= 0:\n",
    "        lapl[dia, dia-1] = k * d * dy / dx\n",
    "    if dia+1 < nx:\n",
    "        lapl[dia, dia+1] = k * d * dy / dx\n",
    "lapl *= 1 / (mu * B)"
   ]
  },
  {
   "cell_type": "code",
   "execution_count": 4,
   "metadata": {},
   "outputs": [],
   "source": [
    "q_tilde = np.zeros((nx, 1))\n",
    "q_tilde[0] = 1 / (mu * B) * k * dy * d / dx * p_1\n",
    "q_tilde[nx-1] = 1 / (mu * B) * k * dy * d / dx * p_2"
   ]
  },
  {
   "cell_type": "code",
   "execution_count": 5,
   "metadata": {},
   "outputs": [],
   "source": [
    "dt_coeff = dx * dy * d * phi * c / dt"
   ]
  },
  {
   "cell_type": "code",
   "execution_count": 6,
   "metadata": {},
   "outputs": [
    {
     "data": {
      "text/plain": [
       "9.223955712128838"
      ]
     },
     "execution_count": 6,
     "metadata": {},
     "output_type": "execute_result"
    }
   ],
   "source": [
    "alpha_analit = mu * B * phi * c / k\n",
    "alpha_analit"
   ]
  },
  {
   "cell_type": "code",
   "execution_count": 7,
   "metadata": {},
   "outputs": [],
   "source": [
    "def accurate_solution(x, t, alpha, L, p_0, p_1, p_2, n=1000):\n",
    "    out = p_1 + (p_2 - p_1) * x / L\n",
    "    for k in range(1, n+1):\n",
    "        adj = -2. * np.exp((-1. * np.pi * np.pi * t * k * k) / (L * L * alpha))\n",
    "        adj *= (p_1 - (-1.)**k * p_2 + (-1. + (-1.)**k)*p_0)\n",
    "        adj *= np.sin(np.pi * x * k / L)\n",
    "        adj /= np.pi\n",
    "        adj /= k\n",
    "        out += adj\n",
    "    return out"
   ]
  },
  {
   "cell_type": "code",
   "execution_count": 8,
   "metadata": {},
   "outputs": [
    {
     "data": {
      "image/png": "[encoded data removed]",
      "text/plain": [
       "<Figure size 432x288 with 1 Axes>"
      ]
     },
     "metadata": {
      "needs_background": "light"
     },
     "output_type": "display_data"
    }
   ],
   "source": [
    "n_iter = int(3e2)\n",
    "p_ex = np.ones((nx, 1)) * p_0\n",
    "p_im = np.ones((nx, 1)) * p_0\n",
    "t = 0\n",
    "xs = list((np.linspace(0, nx-1, nx) + dx/2) * dx)\n",
    "plot_freq = int(1e1)\n",
    "for i in range(1, n_iter):\n",
    "    p_ex += 1 / dt_coeff * (lapl.dot(p_ex) + q_tilde)\n",
    "    p_im += 1 / dt_coeff * (q_tilde)\n",
    "    p_im = np.linalg.inv(np.eye(nx) - 1 / dt_coeff * lapl).dot(p_im)\n",
    "    t += dt\n",
    "    if i % plot_freq == 0:\n",
    "        p_analit = [accurate_solution(x + dx / 2, t, alpha_analit, (nx+1)*dx, p_0, p_1, p_2) / 6894. for x in xs]\n",
    "        display.clear_output(wait=True)\n",
    "        plt.plot(xs, p_ex / 6894, label=f'numerical solution, explicit')\n",
    "        plt.plot(xs, p_im / 6894, label=f'numerical solution, implicit')\n",
    "        plt.plot(xs, p_analit, label=f'analitical solution')\n",
    "        plt.xlabel('x, m')\n",
    "        plt.ylabel('p, psi')\n",
    "        plt.title(f'1d pressure problem for const boundary condition\\nt={t} s')\n",
    "        plt.legend()\n",
    "        plt.show()"
   ]
  }
 ],
 "metadata": {
  "kernelspec": {
   "display_name": "Python 3",
   "language": "python",
   "name": "python3"
  },
  "language_info": {
   "codemirror_mode": {
    "name": "ipython",
    "version": 3
   },
   "file_extension": ".py",
   "mimetype": "text/x-python",
   "name": "python",
   "nbconvert_exporter": "python",
   "pygments_lexer": "ipython3",
   "version": "3.8.2"
  }
 },
 "nbformat": 4,
 "nbformat_minor": 4
}
