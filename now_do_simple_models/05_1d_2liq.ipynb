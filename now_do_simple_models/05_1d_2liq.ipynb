{
 "cells": [
  {
   "cell_type": "markdown",
   "metadata": {},
   "source": [
    "Читатель, прости, это слишком `1d`, оч много нужно для `2d` переписать"
   ]
  },
  {
   "cell_type": "code",
   "execution_count": 1,
   "metadata": {},
   "outputs": [],
   "source": [
    "import numpy as np\n",
    "import matplotlib.pyplot as plt\n",
    "\n",
    "from IPython import display"
   ]
  },
  {
   "cell_type": "markdown",
   "metadata": {},
   "source": [
    "Последнее достижение - 2d модель с одной жидкостью. Шаг вперёд, шаг назад. Теперь 1d с 2 жидкостями"
   ]
  },
  {
   "cell_type": "markdown",
   "metadata": {},
   "source": [
    "Запишем некоторые свойства общие для резервуара"
   ]
  },
  {
   "cell_type": "code",
   "execution_count": 2,
   "metadata": {},
   "outputs": [],
   "source": [
    "nx = 25\n",
    "k = 1e-1 * 1.987e-13  # 1 darcy to m^2\n",
    "dx = 3 # m\n",
    "dy = 8 # m\n",
    "phi = 0.4\n",
    "p_0 = 150 * 10 ** 5  # psi to Pa\n",
    "p = np.ones((nx, 1)) * p_0\n",
    "d = 10  # m\n",
    "dt = 30  # s\n",
    "s_0 = 0.9\n",
    "s_b = 0.\n",
    "s_o = np.ones((nx, 1)) * s_0\n",
    "s_w = np.ones((nx, 1))* (1 - s_0)"
   ]
  },
  {
   "cell_type": "markdown",
   "metadata": {},
   "source": [
    "Перейдём к сжимаемости для [rock](https://www.sciencedirect.com/topics/engineering/formation-compressibility), [water and oil](http://www.fekete.com/san/webhelp/feketeharmony/harmony_webhelp/content/html_files/reference_material/general_concepts/reservoir_properties.htm)"
   ]
  },
  {
   "cell_type": "code",
   "execution_count": 3,
   "metadata": {},
   "outputs": [],
   "source": [
    "c_w = 1e-6 # # Pa^-1\n",
    "c_o = 1e-6 # # Pa^-1\n",
    "c_r = 3e-6 #  Pa^-1 "
   ]
  },
  {
   "cell_type": "markdown",
   "metadata": {},
   "source": [
    "Также различаются вязкости [oil](https://petrowiki.org/Oil_viscosity) и [water](http://fekete.com/SAN/TheoryAndEquations/HarmonyTheoryEquations/Content/HTML_Files/Reference_Material/General_Concepts/Reservoir_Fluid_Properties.htm)"
   ]
  },
  {
   "cell_type": "code",
   "execution_count": 4,
   "metadata": {},
   "outputs": [],
   "source": [
    "B_o = 1\n",
    "B_w = 1\n",
    "mu_o = 15 / 1000 # cp to Pa * s\n",
    "mu_w = 1 / 1000 # cp to Pa * s"
   ]
  },
  {
   "cell_type": "markdown",
   "metadata": {},
   "source": [
    "Теперь напишем уравнение для одной фазы\n",
    "\n",
    "Поток в скважину\n",
    "$$q_{\\alpha} = (p_{w} - p_{l}) \\cdot \\frac{4\\pi k_{\\alpha}}{B_{\\alpha}\\mu_{\\alpha}} \\cdot \\frac{r_w r_{ref}}{r_w - r_{ref}}=\\\\\n",
    "(p_{w} - p_{l}) \\cdot J_l^{\\alpha} k_{\\alpha}\n",
    "$$\n",
    "\n",
    "Уравнение для резурвуара\n",
    "$$\\frac{\\partial}{\\partial x}\\big(\\frac{k k^{rel}_{\\alpha} A_x}{\\mu B_{\\alpha}} \\frac{\\partial p}{\\partial x}\\big) \\Delta x\n",
    "+ q_{\\alpha}\n",
    "=\\frac{V_b}{\\alpha}\\frac{\\partial}{\\partial t}\\big(S_{\\alpha}\\frac{\\phi}{B_{\\alpha}}\\big)\n",
    "$$"
   ]
  },
  {
   "cell_type": "markdown",
   "metadata": {},
   "source": [
    "\n",
    "$$\\frac{\\partial}{\\partial t} \\frac{\\phi S_{\\alpha}}{B_{\\alpha}} = \\frac{\\phi}{B_{\\alpha}} \\frac{\\partial S_{\\alpha}}{\\partial t} + \\big( \\frac{\\phi S_{\\alpha}}{B_{\\alpha}} c_{\\alpha}  + \\frac{\\phi S_{\\alpha}}{B_{\\alpha}} c_r \\big) \\frac{\\partial p}{\\partial t}$$"
   ]
  },
  {
   "cell_type": "markdown",
   "metadata": {},
   "source": [
    "Домножим левую и правую части на $B_{\\alpha}$"
   ]
  },
  {
   "cell_type": "markdown",
   "metadata": {},
   "source": [
    "$$\\frac{\\partial}{\\partial x}\\big(\\frac{k k^{rel}_{\\alpha} A_x}{\\mu} \\frac{\\partial p}{\\partial x}\\big) \\Delta x\n",
    "+ q_{\\alpha} B_{\\alpha}\n",
    "= V_b\\Big(\n",
    "\\phi \\frac{\\partial S_{\\alpha}}{\\partial t} + \\phi \\big(S_{\\alpha} c_{\\alpha}  + S_{\\alpha} c_r \\big) \\frac{\\partial p}{\\partial t}\n",
    "\\Big)\n",
    "$$"
   ]
  },
  {
   "cell_type": "markdown",
   "metadata": {},
   "source": [
    "Сложим два этих уравнения для $\\alpha$ нефть (o) и вода (w), учитывая что $S_w + S_o = 1$"
   ]
  },
  {
   "cell_type": "markdown",
   "metadata": {},
   "source": [
    "$$\\frac{\\partial}{\\partial x}\\big(\\big[\\frac{k k^{rel}_{o} A_x}{\\mu_o} + \\frac{k k^{rel}_{w} A_x}{\\mu_w}\\big]\n",
    "\\frac{\\partial p}{\\partial x}\\big) \\Delta x\n",
    "+ q_{o} B_{o} + q_{w} B_{w}\n",
    "= V_b\\Big(\n",
    "0 +\\phi \\big(S_o c_o + S_w c_w  +1\\cdot c_r \\big) \\frac{\\partial p}{\\partial t}\n",
    "\\Big)\n",
    "$$"
   ]
  },
  {
   "cell_type": "markdown",
   "metadata": {},
   "source": [
    "Добавим сюда расчёт значения расхода $q_{\\alpha}$"
   ]
  },
  {
   "cell_type": "markdown",
   "metadata": {},
   "source": [
    "$$\\frac{\\partial}{\\partial x}\\big(k A_x \\big[\\frac{k^{rel}_{o}}{\\mu_o} + \\frac{k^{rel}_{w}}{\\mu_w}\\big]\n",
    "\\frac{\\partial p}{\\partial x}\\big) \\Delta x + \\\\\n",
    "(\\vec{p}_{\\texttt{well}} - \\vec{p}) \\cdot J_l^{o} k_{o} k_{o}^{rel} B_{o} + \n",
    "(\\vec{p}_{\\texttt{well}} - \\vec{p}) \\cdot J_l^{w} k_{w} k_{w}^{rel} B_{w} = \\\\\n",
    "V_b\\phi \\Big(S_o c_o + S_w c_w  +c_r\n",
    "\\Big)\\frac{\\partial p}{\\partial t}\n",
    "$$"
   ]
  },
  {
   "cell_type": "markdown",
   "metadata": {},
   "source": [
    "По сути тут опять нужно определить матрицу `lapl`, чтобы приблизить общий лапласиан с коэффициентами.\n",
    "Все коэффициенты понятны, табличные величины, кроме $k_{\\alpha}^{rel}$.\n",
    "\n",
    "\n",
    "Реализуем $k_{\\alpha}^{rel}$ как написано в википеии, по [LET](https://en.wikipedia.org/wiki/Relative_permeability)"
   ]
  },
  {
   "cell_type": "code",
   "execution_count": 5,
   "metadata": {},
   "outputs": [],
   "source": [
    "l_w = 2.\n",
    "l_o = 2.\n",
    "s_wir = 0.2\n",
    "s_wor = 0.8\n",
    "k_rwr = 0.1\n",
    "k_rot = 1.\n",
    "e_w = 1.\n",
    "e_o = 1.\n",
    "t_w = 2.\n",
    "t_o = 2."
   ]
  },
  {
   "cell_type": "code",
   "execution_count": 6,
   "metadata": {},
   "outputs": [],
   "source": [
    "def get_s_wn(s_w):\n",
    "    s_wn = (s_w - s_wir) / (s_wor - s_wir)\n",
    "    if (s_wn < 0):\n",
    "        s_wn = 0\n",
    "    if (s_wn > 1):\n",
    "        s_wn = 1\n",
    "    return s_wn\n",
    "\n",
    "\n",
    "def k_rel_w(s_w):\n",
    "    s_wn = get_s_wn(s_w)\n",
    "    out = s_wn ** l_w * k_rwr\n",
    "    out /= s_wn ** l_w + e_w * (1 - s_wn) ** t_w\n",
    "    return out\n",
    "\n",
    "def k_rel_o(s_o):\n",
    "    s_w = 1 - s_o\n",
    "    s_wn = get_s_wn(s_w)\n",
    "    out = k_rot * (1 - s_wn) ** l_o\n",
    "    out /= (1 - s_wn) ** l_o + e_o * s_wn ** t_o\n",
    "    return out"
   ]
  },
  {
   "cell_type": "code",
   "execution_count": 7,
   "metadata": {},
   "outputs": [
    {
     "data": {
      "image/png": "[encoded data removed]",
      "text/plain": [
       "<Figure size 432x288 with 1 Axes>"
      ]
     },
     "metadata": {
      "needs_background": "light"
     },
     "output_type": "display_data"
    }
   ],
   "source": [
    "ss = np.linspace(0, 1, 200)\n",
    "k_rels_w = [k_rel_w(1-s) for s in ss]\n",
    "k_rels_o = [k_rel_o(s) for s in ss]\n",
    "plt.plot(ss, k_rels_w, label='water')\n",
    "plt.plot(ss, k_rels_o, label='oil')\n",
    "plt.xlabel('S oil')\n",
    "plt.ylabel(\"k relative\")\n",
    "plt.title('Relative permeability')\n",
    "plt.legend()\n",
    "plt.show()"
   ]
  },
  {
   "cell_type": "markdown",
   "metadata": {},
   "source": [
    "В этой модели будем учитывать, что при перетекании жидкости из ячеек берётся $k^{\\texttt{rel}^{\\alpha}}(S\\texttt{[i,j]})$ той ячейки, где больше давление.\n",
    "Пока ограничимся равномерным распределением permeability."
   ]
  },
  {
   "cell_type": "code",
   "execution_count": 8,
   "metadata": {},
   "outputs": [],
   "source": [
    "class ResState:\n",
    "    def __init__(self, values, bound_value):\n",
    "        self.values = values\n",
    "        self.bound_v = bound_value\n",
    "        self.shape = values.shape\n",
    "    def __getitem__(self, item):\n",
    "        i, j = item\n",
    "        if (i < 0) | (j < 0) | (i >= self.shape[0]) | (j >= self.shape[0]):\n",
    "            return self.bound_v\n",
    "        else:\n",
    "            return self.values[i, j]"
   ]
  },
  {
   "cell_type": "code",
   "execution_count": 9,
   "metadata": {},
   "outputs": [],
   "source": [
    "p = ResState(p, p_0)\n",
    "s_o = ResState(s_o, s_b)\n",
    "s_w = ResState(s_w, 1 - s_b)"
   ]
  },
  {
   "cell_type": "code",
   "execution_count": 10,
   "metadata": {},
   "outputs": [],
   "source": [
    "def k_rel_o_p(i, j, s, p):\n",
    "    if p[i, 0] > p[j, 0]:\n",
    "        out =  k_rel_o(s[i, 0])\n",
    "    else:\n",
    "        out = k_rel_o(s[j, 0])\n",
    "    return out\n",
    "\n",
    "\n",
    "def k_rel_w_p(i, j, s, p):\n",
    "    if p[i, 0] > p[j, 0]:\n",
    "        out =  k_rel_w(s[i, 0])\n",
    "    else:\n",
    "        out = k_rel_w(s[j, 0])\n",
    "    return out\n",
    "\n",
    "\n",
    "def k_rel_ph(i, j, s, p, ph):\n",
    "    out = 0       \n",
    "        \n",
    "    if ph == 'o':\n",
    "        out = k_rel_o_p(i, j, s, p)\n",
    "    elif ph == 'w':\n",
    "        out = k_rel_w_p(i, j, s, p)\n",
    "    return out"
   ]
  },
  {
   "cell_type": "markdown",
   "metadata": {},
   "source": [
    "Ну что, быстренько заполним матрицу для расчёта лапласиана"
   ]
  },
  {
   "cell_type": "markdown",
   "metadata": {},
   "source": [
    "$$A_x \\Big(\\frac{\\big[\\frac{k k^{rel}_{o}}{\\mu_o} + \\frac{k k^{rel}_{w}}{\\mu_w}\\big]_{i-\\frac{1}{2}}}{\\Delta x_{i-\\frac{1}{2}}}p_{i-1}\n",
    "- \\big( \\frac{\\big[\\frac{k k^{rel}_{o}}{\\mu_o} + \\frac{k k^{rel}_{w}}{\\mu_w}\\big]_{i+\\frac{1}{2}}}\n",
    "{\\Delta x_{i+\\frac{1}{2}}} + \n",
    "\\frac{\\big[\\frac{k k^{rel}_{o}}{\\mu_o} + \\frac{k k^{rel}_{w}}{\\mu_w}\\big]_{i-\\frac{1}{2}}}{\\Delta x_{i-\\frac{1}{2}}}\\big)p_{i}\n",
    "+\\frac{\\big[\\frac{k k^{rel}_{o}}{\\mu_o} + \\frac{k k^{rel}_{w}}{\\mu_w}\\big]_{i+\\frac{1}{2}}}{\\Delta x_{i+\\frac{1}{2}}}p_{i+1}\\Big) + \\\\\n",
    "+ (\\vec{p}_{\\texttt{well}} - \\vec{p}) \\cdot J^{o} k_{o} k_{o}^{rel} B_{o} + \n",
    "(\\vec{p}_{\\texttt{well}} - \\vec{p}) \\cdot J^{w} k_{w} k_{w}^{rel} B_{w}=\\\\\n",
    "=\\phi V_b \\big(S_o c_o + S_w c_w  +1\\cdot c_r \\big) \\frac{p^{n+1}_i - p^{n}_i}{\\Delta t}\n",
    "$$"
   ]
  },
  {
   "cell_type": "markdown",
   "metadata": {},
   "source": [
    "В уравнении лапласиан можно представить как сумму двух, для воды и нефти.\n",
    "Так и будем их реализовывать."
   ]
  },
  {
   "cell_type": "code",
   "execution_count": 11,
   "metadata": {},
   "outputs": [],
   "source": [
    "def get_lapl_one_ph(p, s, mu, k, d, dx, dy, ph):\n",
    "    lapl = np.zeros((nx, nx))\n",
    "    for dia in range(nx): \n",
    "        lapl[dia, dia] -= k * k_rel_ph(dia, dia-1, s, p, ph) / mu / dx\n",
    "        lapl[dia, dia] -= k * k_rel_ph(dia, dia+1, s, p, ph) / mu / dx\n",
    "        if dia-1 >= 0:\n",
    "            lapl[dia, dia-1] += k * k_rel_ph(dia, dia-1, s, p, ph) / mu / dx\n",
    "        if dia+1 < nx:\n",
    "            lapl[dia, dia+1] += k * k_rel_ph(dia, dia+1, s, p, ph) / mu / dx\n",
    "    lapl *= d * dy\n",
    "    return lapl"
   ]
  },
  {
   "cell_type": "code",
   "execution_count": 12,
   "metadata": {
    "scrolled": true
   },
   "outputs": [],
   "source": [
    "lapl_w = get_lapl_one_ph(p, s_w, mu_w, k, d, dx, dy, 'w')\n",
    "lapl_o = get_lapl_one_ph(p, s_o, mu_o, k, d, dx, dy, 'o')"
   ]
  },
  {
   "cell_type": "markdown",
   "metadata": {},
   "source": [
    "Также нужны граничные условия для этого лапласиана"
   ]
  },
  {
   "cell_type": "code",
   "execution_count": 13,
   "metadata": {},
   "outputs": [],
   "source": [
    "def get_q_bound(p, s, ph, mu):\n",
    "    out = np.zeros((nx, 1))\n",
    "    out[0][0] += k * k_rel_ph(0, -1, s, p, ph) / mu / dx * p[-1, 0]\n",
    "    out[nx-1][0] += k * k_rel_ph(nx-1, nx, s, p, ph) / mu / dx * p[nx, 0]\n",
    "    out *= d * dy \n",
    "    return out"
   ]
  },
  {
   "cell_type": "code",
   "execution_count": 14,
   "metadata": {},
   "outputs": [],
   "source": [
    "q_bound_w = get_q_bound(p, s_w, 'w', mu_w)\n",
    "q_bound_o = get_q_bound(p, s_o, 'o', mu_o)"
   ]
  },
  {
   "cell_type": "markdown",
   "metadata": {},
   "source": [
    "Так, ещё уделим внимание получению расхода\n",
    "$$\n",
    "q = \n",
    "(\\vec{p}_{\\texttt{well}} - \\vec{p}) \\cdot J^{o} k_{o} k_{o}^{rel} + \n",
    "(\\vec{p}_{\\texttt{well}} - \\vec{p}) \\cdot J^{w} k_{w} k_{w}^{rel} = \\\\\n",
    "=  - \\big(J^{o} k_{o} k_{o}^{rel} +  J^{w} k_{w} k_{w}^{rel}\\big) \\vec{p}  + \\\\\n",
    "+ \\big(J^{o} k_{o} k_{o}^{rel} +  J^{w} k_{w} k_{w}^{rel}\\big) \\vec{p}_{\\texttt{well}} = \\\\\n",
    "- \\big( J_w(S_w) + J_o(S_o)\\big) \\vec{p} + \\big( J_w(S_w) + J_o(S_o)\\big) \\vec{p}_{\\texttt{well}}\n",
    "$$"
   ]
  },
  {
   "cell_type": "markdown",
   "metadata": {},
   "source": [
    "$$\n",
    "J_{\\alpha}\\big(S_{\\alpha}\\big) = \\frac{4\\pi k_{\\alpha}}{B_{\\alpha} \\mu_{\\alpha}} \\frac{r_{\\texttt{ref}}r_{\\texttt{well}}}{r_{\\texttt{ref}}+r_{\\texttt{well}}} \\cdot k_{\\alpha}^{\\texttt{rel}}\n",
    "$$"
   ]
  },
  {
   "cell_type": "markdown",
   "metadata": {},
   "source": [
    "\n",
    "$$\n",
    "r_{ref} = \\frac{1}{\\frac{1}{\\Delta x} + \\frac{\\pi}{d}}$$"
   ]
  },
  {
   "cell_type": "code",
   "execution_count": 15,
   "metadata": {},
   "outputs": [],
   "source": [
    "r_ref = 1 / (1 / dx + np.pi / d)"
   ]
  },
  {
   "cell_type": "code",
   "execution_count": 16,
   "metadata": {},
   "outputs": [],
   "source": [
    "def get_j_matrix(p, s, mu, k, B, pos_r, r_ref, ph):\n",
    "    out = np.zeros((nx, 1))\n",
    "    for pos in pos_r:\n",
    "        out[pos] = 4 * np.pi * k / B / mu\n",
    "        out[pos] *= r_ref * pos_r[pos]\n",
    "        out[pos] /= (r_ref + pos_r[pos])\n",
    "        out[pos] *= k_rel_ph(i=pos[0], j=pos[0], s=s, p=p, ph=ph)\n",
    "    return out"
   ]
  },
  {
   "cell_type": "code",
   "execution_count": 17,
   "metadata": {},
   "outputs": [],
   "source": [
    "pos_r = {(12, 0): 0.12, (19, 0): 0.1}\n",
    "p_well = np.zeros((nx, 1))\n",
    "delta_p_well = 100 * 6894.\n",
    "delta_p_vec = np.ones((nx, 1)) * (-1) * delta_p_well\n",
    "# p_w = p_0 - 70 * 6894.\n",
    "# for pos in pos_r:\n",
    "#     p_well[pos] = delta_p_well"
   ]
  },
  {
   "cell_type": "code",
   "execution_count": 18,
   "metadata": {},
   "outputs": [],
   "source": [
    "j_o = get_j_matrix(p=p, s=s_o, mu=mu_o, k=k, B=B_o, pos_r=pos_r, r_ref=r_ref, ph='o')\n",
    "j_w = get_j_matrix(p=p, s=s_w, mu=mu_w, k=k, B=B_w, pos_r=pos_r, r_ref=r_ref, ph='w')"
   ]
  },
  {
   "cell_type": "markdown",
   "metadata": {},
   "source": [
    "И последний штрих - перед производной по времени есть $V_b\\big(S_o c_o + S_w c_w  +1\\cdot c_r\\big)$. Назовём это `dt_comp_sat`"
   ]
  },
  {
   "cell_type": "code",
   "execution_count": 19,
   "metadata": {},
   "outputs": [],
   "source": [
    "dt_comp_sat = dx * dy * d *(s_o.values * c_o + s_w.values * c_w + np.ones((nx, 1)) * c_r)"
   ]
  },
  {
   "cell_type": "markdown",
   "metadata": {},
   "source": [
    "Похоже на то что можно писать основной цикл для процесса\n",
    "\n",
    "Поправка, у нас не давлени в скважине постоянное, а разность давлений скважина-ячейка. Пока в формулу это не записываю"
   ]
  },
  {
   "cell_type": "markdown",
   "metadata": {},
   "source": [
    "$$J^{\\alpha} k_{\\alpha} k_{\\alpha}^{rel} = \\tilde{J}^{\\alpha}$$\n",
    "\\\n",
    "\\\n",
    "$$\n",
    "L \\vec{p}^{n} + \\big(\\tilde{J}^{o}B_{o} +  \\tilde{J}^{w}B_{w}\\big)\\big( \\vec{p}^{n} - \\vec{p}_{\\texttt{well}} \\big)\n",
    "+ \\vec{q}_{\\texttt{bound}}^{w} + \\vec{q}_{\\texttt{bound}}^{o} = \\\\\n",
    "= \\phi \\cdot \\texttt{dt_comp_sat} \\cdot \\frac{\\vec{p}^{n+1}_i - \\vec{p}^{n}_i}{\\Delta t}\n",
    "$$"
   ]
  },
  {
   "cell_type": "markdown",
   "metadata": {},
   "source": [
    "$$\n",
    "\\big[\n",
    "\\phi \\cdot \\texttt{dt_comp_sat}\\cdot I - L \\cdot dt \\big] \\vec{p}^{n+1} =\\\\\n",
    "= \\phi \\cdot \\texttt{dt_comp_sat}\\cdot \\vec{p}^{n} + \\vec{q}_{\\texttt{bound}}^{w} + \\vec{q}_{\\texttt{bound}}^{o}\n",
    "+ \\big(J^{o} +  J^{w}\\big)\\big( \\vec{p}_{\\Delta} \\big)\n",
    "$$"
   ]
  },
  {
   "cell_type": "markdown",
   "metadata": {},
   "source": [
    "А вот так обновляется насыщение\n",
    "$$\\frac{\\partial}{\\partial x}\\big(\\frac{k k^{rel}_{\\alpha} A_x}{\\mu} \\frac{\\partial p}{\\partial x}\\big) \\Delta x\n",
    "+ q_{\\alpha} B_{\\alpha}\n",
    "= V_b\\Big(\n",
    "\\phi \\frac{\\partial S_{\\alpha}}{\\partial t} + \\phi \\big(S_{\\alpha} c_{\\alpha}  + S_{\\alpha} c_r \\big) \\frac{\\partial p}{\\partial t}\n",
    "\\Big)\n",
    "$$"
   ]
  },
  {
   "cell_type": "markdown",
   "metadata": {},
   "source": [
    "$$\n",
    "L_o \\vec{p^{n+1}} + \\vec{q}_{\\texttt{bound}}^{o} + \\tilde{J}^{o}B_{o} \\vec{p}_{\\Delta}\n",
    "= V_b \\phi \\frac{\\vec{S}_{\\alpha}^{n+1} - \\vec{S}_{\\alpha}^{n}}{dt} + \\phi V_b \n",
    "\\big(\\vec{S}_{\\alpha}^{n+1} c_{\\alpha}  + \\vec{S}_{\\alpha}^{n+1} c_r \\big) \\frac{\\vec{p}^{n+1}- \\vec{p}^n}{dt}\n",
    "$$"
   ]
  },
  {
   "cell_type": "markdown",
   "metadata": {},
   "source": [
    "$$\n",
    "V_b \\phi \\big[I + \\big(c_{\\alpha} + c_r\\big) \\cdot \\big(\\vec{p}^{n+1}- \\vec{p}^n\\big)\\big] \\vec{S}_{\\alpha}^{n+1} =\\\\\n",
    "= V_b\\phi \\vec{S}_{\\alpha}^{n} + \\big(L_o \\vec{p^{n+1}} + \\vec{q}_{\\texttt{bound}}^{o} +\n",
    "\\tilde{J}^{o}B_{o} \\vec{p}_{\\Delta} \\big) dt\n",
    "$$"
   ]
  },
  {
   "cell_type": "code",
   "execution_count": 25,
   "metadata": {},
   "outputs": [],
   "source": [
    "n_iter = int(5e4)\n",
    "p_ex = np.ones((nx, 1)) * p_0\n",
    "t = 0\n",
    "xs = list((np.linspace(0, nx-1, nx) + dx/2) * dx)\n",
    "plot_freq = int(0.3e4)\n",
    "times = []\n",
    "p_well_hist = {}\n",
    "s_o_well_hist = {}\n",
    "q_o_hist = {}\n",
    "q_w_hist = {}\n",
    "for w in pos_r:\n",
    "    p_well_hist[w] = []\n",
    "    s_o_well_hist[w] = []\n",
    "    q_o_hist[w] = []\n",
    "    q_w_hist[w] = []"
   ]
  },
  {
   "cell_type": "code",
   "execution_count": 26,
   "metadata": {},
   "outputs": [
    {
     "data": {
      "image/png": "[encoded data removed]",
      "text/plain": [
       "<Figure size 1152x1152 with 6 Axes>"
      ]
     },
     "metadata": {
      "needs_background": "light"
     },
     "output_type": "display_data"
    }
   ],
   "source": [
    "for i in range(1, n_iter):\n",
    "    # gonna increase time step\n",
    "    if t < 60 * 24 * 1: # a day\n",
    "        dt = 1\n",
    "    elif 60 * 24 < t < 60 * 24 * 7: # a week\n",
    "        dt = 2\n",
    "    elif 60 * 24 * 7 < t < 60 * 24 * 7 * 4 * 2: # 2 month\n",
    "        dt = 3\n",
    "    elif 60 * 24 * 7 * 4 * 2 < t < 60 * 24 * 365: # more then 2 month\n",
    "        dt = 4\n",
    "    # matrixes depends on saturation\n",
    "    dt_comp_sat = dx * dy * d *(s_o.values * c_o + s_w.values * c_w + np.ones((nx, 1)) * c_r)\n",
    "    j_o = get_j_matrix(p=p, s=s_o, mu=mu_o, k=k, B=B_o, pos_r=pos_r, r_ref=r_ref, ph='o')\n",
    "    j_w = get_j_matrix(p=p, s=s_w, mu=mu_w, k=k, B=B_w, pos_r=pos_r, r_ref=r_ref, ph='w')\n",
    "    lapl_w = get_lapl_one_ph(p, s_w, mu_w, k, d, dx, dy, 'w')\n",
    "    lapl_o = get_lapl_one_ph(p, s_o, mu_o, k, d, dx, dy, 'o')\n",
    "    q_bound_w = get_q_bound(p, s_w, 'w', mu_w)\n",
    "    q_bound_o = get_q_bound(p, s_o, 'o', mu_o)\n",
    "    # matrix for implicit pressure\n",
    "    # a = phi * np.eye(nx) * dt_comp_sat - (lapl_w+lapl_o) * dt + np.diag((j_o * B_o + j_w * B_w).reshape(-1)) * dt\n",
    "    a = phi * np.eye(nx) * dt_comp_sat - (lapl_w+lapl_o) * dt\n",
    "    #right hand state for ax = b\n",
    "    b = phi * dt_comp_sat * p.values + q_bound_w*dt + q_bound_o*dt + (j_o * B_o + j_w * B_w) * ( delta_p_vec )* dt\n",
    "    # upd time stamp\n",
    "    t += dt\n",
    "    # solve p\n",
    "    p_new = np.linalg.solve(a, b)\n",
    "    # upd oil saturation\n",
    "    # a matrix for implicit stuff\n",
    "    # a = dx*dy*d * phi *( np.ones((nx, 1)) + (c_r + c_w) * (p_new - p.values))\n",
    "    # b = phi * dx*dy*d * s_w.values + dt * (lapl_w.dot(p_new) + q_bound_w + j_w * B_w * (p_well - p_new))\n",
    "    # upd sat wat\n",
    "    # s_w = ResState(b / a, 1 - s_0) \n",
    "    # s_o\n",
    "    a = dx*dy*d * phi *( np.ones((nx, 1)) + (c_r + c_o) * (p_new - p.values))\n",
    "    b = phi * dx*dy*d * s_o.values + dt * (lapl_o.dot(p_new) + q_bound_o + j_o * B_o * (delta_p_vec))\n",
    "    # upd sat wat\n",
    "    s_o = ResState(b / a, s_b) \n",
    "    s_w = ResState(np.ones((nx, 1)) - s_o.values, 1 - s_b) \n",
    "    \n",
    "    \n",
    "    dp = p_new - p.values\n",
    "    p = ResState(p_new, p_0)\n",
    "    if i % plot_freq == 0:\n",
    "        \n",
    "        q_o = (-1) * j_o * (p_well - p.values)\n",
    "        q_w = (-1) * j_w * (p_well - p.values)\n",
    "        \n",
    "        times.append(t)\n",
    "        for w in pos_r:\n",
    "            p_well_hist[w].append(p[w] / 6894.)\n",
    "            s_o_well_hist[w].append(s_o[w])\n",
    "            q_o_hist[w].append(q_o[w])\n",
    "            q_w_hist[w].append(q_w[w])\n",
    "        display.clear_output(wait=True)\n",
    "        f, ax = plt.subplots(nrows=3, ncols=2, figsize=(16, 16))\n",
    "        f.tight_layout(pad=6.0)\n",
    "        ax[0][0].plot(p.values / 6894.)\n",
    "        ax[0][0].set_title(f'Pressure\\nt={t}')\n",
    "        ax[0][0].set_ylabel(f'p, psi')\n",
    "        ax[0][0].set_xlabel(f'x, m')\n",
    "        \n",
    "        ax[0][1].plot(s_o.values)\n",
    "        ax[0][1].set_title(f'Saturation oil\\nt={t}')\n",
    "        ax[0][1].set_ylabel(f'dimensionless')\n",
    "        ax[0][1].set_xlabel(f'x, m')\n",
    "        \n",
    "        for w in pos_r:\n",
    "            ax[1][0].plot(times, p_well_hist[w] , label=f'{w}')\n",
    "            ax[1][1].plot(times, s_o_well_hist[w] , label=f'{w}')\n",
    "            ax[2][0].plot(times, q_o_hist[w] , label=f'{w}')\n",
    "            ax[2][1].plot(times, q_w_hist[w] , label=f'{w}')\n",
    "        ax[1][0].set_xlabel('time, s')\n",
    "        ax[1][0].set_ylabel('pressure, psi')\n",
    "        ax[1][0].set_title('Pressure in wells')\n",
    "        ax[1][0].legend()\n",
    "        \n",
    "        ax[1][1].set_xlabel('time, s')\n",
    "        ax[1][1].set_ylabel('saturation')\n",
    "        ax[1][1].set_title('Oil saturation in wells')\n",
    "        ax[1][1].legend()\n",
    "        \n",
    "        \n",
    "        ax[2][0].set_xlabel('time, s')\n",
    "        ax[2][0].set_ylabel('q, m3/s')\n",
    "        ax[2][0].set_title('Oil rate')\n",
    "        ax[2][0].legend()\n",
    "        \n",
    "        ax[2][1].set_xlabel('time, s')\n",
    "        ax[2][1].set_ylabel('q, m3/s')\n",
    "        ax[2][1].set_title('Water rate')\n",
    "        ax[2][1].legend()\n",
    "        #ax[1][0].set_xscale('log')\n",
    "        #ax[2][0].set_xscale('log')\n",
    "        \n",
    "        ax[0][1].ticklabel_format(useOffset=False, axis='y')\n",
    "        ax[1][1].ticklabel_format(useOffset=False, axis='y')\n",
    "        ax[0][0].ticklabel_format(useOffset=False, axis='y')\n",
    "        ax[1][0].ticklabel_format(useOffset=False, axis='y')\n",
    "        ax[2][0].ticklabel_format(useOffset=False, axis='y')\n",
    "        plt.show()"
   ]
  }
 ],
 "metadata": {
  "kernelspec": {
   "display_name": "Python 3",
   "language": "python",
   "name": "python3"
  },
  "language_info": {
   "codemirror_mode": {
    "name": "ipython",
    "version": 3
   },
   "file_extension": ".py",
   "mimetype": "text/x-python",
   "name": "python",
   "nbconvert_exporter": "python",
   "pygments_lexer": "ipython3",
   "version": "3.8.2"
  }
 },
 "nbformat": 4,
 "nbformat_minor": 4
}
