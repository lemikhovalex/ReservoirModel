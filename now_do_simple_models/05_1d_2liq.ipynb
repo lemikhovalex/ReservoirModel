{
 "cells": [
  {
   "cell_type": "markdown",
   "metadata": {},
   "source": [
    "Читатель, прости, это слишком `1d`, оч много нужно для `2d` переписать"
   ]
  },
  {
   "cell_type": "code",
   "execution_count": 1,
   "metadata": {},
   "outputs": [],
   "source": [
    "import numpy as np\n",
    "import matplotlib.pyplot as plt"
   ]
  },
  {
   "cell_type": "markdown",
   "metadata": {},
   "source": [
    "Последнее достижение - 2d модель с одной жидкостью. Шаг вперёд, шаг назад. Теперь 1d с 2 жидкостями"
   ]
  },
  {
   "cell_type": "markdown",
   "metadata": {},
   "source": [
    "Запишем некоторые свойства общие для резервуара"
   ]
  },
  {
   "cell_type": "code",
   "execution_count": 2,
   "metadata": {},
   "outputs": [],
   "source": [
    "nx = 15\n",
    "k = 1e-1 * 1.987e-13  # 1 darcy to m^2\n",
    "dx = 1 # m\n",
    "dy = 5 # m\n",
    "phi = 0.4\n",
    "p_0 = 4e4 * 6894  # psi to Pa\n",
    "p = np.ones((nx, 1)) * p_0\n",
    "d = 3  # m\n",
    "dt = 1  # s\n",
    "s_0 = 0.4\n",
    "s_o = np.ones((nx, 1)) * s_0\n",
    "s_w = np.ones((nx, 1))* (1 - s_0)"
   ]
  },
  {
   "cell_type": "markdown",
   "metadata": {},
   "source": [
    "Перейдём к сжимаемости для [rock](https://www.sciencedirect.com/topics/engineering/formation-compressibility), [water and oil](http://www.fekete.com/san/webhelp/feketeharmony/harmony_webhelp/content/html_files/reference_material/general_concepts/reservoir_properties.htm)"
   ]
  },
  {
   "cell_type": "code",
   "execution_count": 3,
   "metadata": {},
   "outputs": [],
   "source": [
    "c_w = 1e-6 # # Pa^-1\n",
    "c_o = 1e-6 # # Pa^-1\n",
    "c_r = 20e-6 #  Pa^-1 "
   ]
  },
  {
   "cell_type": "markdown",
   "metadata": {},
   "source": [
    "Также различаются вязкости [oil](https://petrowiki.org/Oil_viscosity) и [water](http://fekete.com/SAN/TheoryAndEquations/HarmonyTheoryEquations/Content/HTML_Files/Reference_Material/General_Concepts/Reservoir_Fluid_Properties.htm)"
   ]
  },
  {
   "cell_type": "code",
   "execution_count": 4,
   "metadata": {},
   "outputs": [],
   "source": [
    "B_o = 1\n",
    "B_w = 1\n",
    "mu_o = 1e2 / 1000 # cp to Pa * s\n",
    "mu_w = 0.7 / 1000 # cp to Pa * s"
   ]
  },
  {
   "cell_type": "markdown",
   "metadata": {},
   "source": [
    "Теперь напишем уравнение для одной фазы\n",
    "\n",
    "Поток в скважину\n",
    "$$q_{\\alpha} = (p_{w} - p_{l}) \\cdot \\frac{4\\pi k_{\\alpha}}{B_{\\alpha}\\mu_{\\alpha}} \\cdot \\frac{r_w r_{ref}}{r_w - r_{ref}}=\\\\\n",
    "(p_{w} - p_{l}) \\cdot J_l^{\\alpha} k_{\\alpha}\n",
    "$$\n",
    "\n",
    "Уравнение для резурвуара\n",
    "$$\\frac{\\partial}{\\partial x}\\big(\\frac{k k^{rel}_{\\alpha} A_x}{\\mu B_{\\alpha}} \\frac{\\partial p}{\\partial x}\\big) \\Delta x\n",
    "+ q_{\\alpha}\n",
    "=\\frac{V_b}{\\alpha}\\frac{\\partial}{\\partial t}\\big(S_{\\alpha}\\frac{\\phi}{B_{\\alpha}}\\big)\n",
    "$$"
   ]
  },
  {
   "cell_type": "markdown",
   "metadata": {},
   "source": [
    "\n",
    "$$\\frac{\\partial}{\\partial t} \\frac{\\phi S_{\\alpha}}{B_{\\alpha}} = \\frac{\\phi}{B_{\\alpha}} \\frac{\\partial S_{\\alpha}}{\\partial t} + \\big( \\frac{\\phi S_{\\alpha}}{B_{\\alpha}} c_{\\alpha}  + \\frac{\\phi S_{\\alpha}}{B_{\\alpha}} c_r \\big) \\frac{\\partial p}{\\partial t}$$"
   ]
  },
  {
   "cell_type": "markdown",
   "metadata": {},
   "source": [
    "Домножим левую и правую части на $B_{\\alpha}$"
   ]
  },
  {
   "cell_type": "markdown",
   "metadata": {},
   "source": [
    "$$\\frac{\\partial}{\\partial x}\\big(\\frac{k k^{rel}_{\\alpha} A_x}{\\mu} \\frac{\\partial p}{\\partial x}\\big) \\Delta x\n",
    "+ q_{\\alpha} B_{\\alpha}\n",
    "= V_b\\Big(\n",
    "\\phi \\frac{\\partial S_{\\alpha}}{\\partial t} + \\phi \\big(S_{\\alpha} c_{\\alpha}  + S_{\\alpha} c_r \\big) \\frac{\\partial p}{\\partial t}\n",
    "\\Big)\n",
    "$$"
   ]
  },
  {
   "cell_type": "markdown",
   "metadata": {},
   "source": [
    "Сложим два этих уравнения для $\\alpha$ нефть (o) и вода (w), учитывая что $S_w + S_o = 1$"
   ]
  },
  {
   "cell_type": "markdown",
   "metadata": {},
   "source": [
    "$$\\frac{\\partial}{\\partial x}\\big(\\big[\\frac{k k^{rel}_{o} A_x}{\\mu_o} + \\frac{k k^{rel}_{w} A_x}{\\mu_w}\\big]\n",
    "\\frac{\\partial p}{\\partial x}\\big) \\Delta x\n",
    "+ q_{o} B_{o} + q_{w} B_{w}\n",
    "= V_b\\Big(\n",
    "0 +\\phi \\big(S_o c_o + S_w c_w  +1\\cdot c_r \\big) \\frac{\\partial p}{\\partial t}\n",
    "\\Big)\n",
    "$$"
   ]
  },
  {
   "cell_type": "markdown",
   "metadata": {},
   "source": [
    "Добавим сюда расчёт значения расхода $q_{\\alpha}$"
   ]
  },
  {
   "cell_type": "markdown",
   "metadata": {},
   "source": [
    "$$\\frac{\\partial}{\\partial x}\\big(k A_x \\big[\\frac{k^{rel}_{o}}{\\mu_o} + \\frac{k^{rel}_{w}}{\\mu_w}\\big]\n",
    "\\frac{\\partial p}{\\partial x}\\big) \\Delta x + \\\\\n",
    "(\\vec{p}_{\\texttt{well}} - \\vec{p}) \\cdot J_l^{o} k_{o} k_{o}^{rel} B_{o} + \n",
    "(\\vec{p}_{\\texttt{well}} - \\vec{p}) \\cdot J_l^{w} k_{w} k_{w}^{rel} B_{w} = \\\\\n",
    "V_b\\phi \\Big(S_o c_o + S_w c_w  +c_r\n",
    "\\Big)\\frac{\\partial p}{\\partial t}\n",
    "$$"
   ]
  },
  {
   "cell_type": "markdown",
   "metadata": {},
   "source": [
    "По сути тут опять нужно определить матрицу `lapl`, чтобы приблизить общий лапласиан с коэффициентами.\n",
    "Все коэффициенты понятны, табличные величины, кроме $k_{\\alpha}^{rel}$.\n",
    "Все модели что я видел достаточно сложны, поэтому напишу быстренько функцию, похожую на то что есть на графиках"
   ]
  },
  {
   "cell_type": "code",
   "execution_count": 5,
   "metadata": {},
   "outputs": [],
   "source": [
    "def k_rel_w(s):\n",
    "    trh_b = 0.2\n",
    "    trh_t = 0.6\n",
    "    mult = 3\n",
    "    out = 0\n",
    "    if s < trh_b:\n",
    "        out = 0\n",
    "    elif s < trh_t:\n",
    "        out = (s - trh_b) ** 2\n",
    "    else:\n",
    "        out = (trh_t - trh_b) ** 2\n",
    "    return out * mult\n",
    "\n",
    "\n",
    "def k_rel_o(s):\n",
    "    trh_b = 0.2\n",
    "    trh_t = 0.8\n",
    "    mult = 2\n",
    "    out = 0\n",
    "    if s < trh_b:\n",
    "        out = 0\n",
    "    elif s < trh_t:\n",
    "        out = (s - trh_b) ** 2\n",
    "    else:\n",
    "        out = (trh_t - trh_b) ** 2\n",
    "    return out * mult"
   ]
  },
  {
   "cell_type": "code",
   "execution_count": 6,
   "metadata": {},
   "outputs": [
    {
     "data": {
      "image/png": "[encoded data removed]",
      "text/plain": [
       "<Figure size 432x288 with 1 Axes>"
      ]
     },
     "metadata": {
      "needs_background": "light"
     },
     "output_type": "display_data"
    }
   ],
   "source": [
    "ss = np.linspace(0, 1, 20)\n",
    "k_rels_w = [k_rel_w(s) for s in ss]\n",
    "k_rels_o = [k_rel_o(1 - s) for s in ss]\n",
    "plt.plot(ss, k_rels_w, label='k_w')\n",
    "plt.plot(ss, k_rels_o, label='k_o')\n",
    "plt.xlabel('$S water$')\n",
    "plt.ylabel(\"k relative\")\n",
    "plt.title('Relative permeability')\n",
    "plt.legend()\n",
    "plt.show()"
   ]
  },
  {
   "cell_type": "markdown",
   "metadata": {},
   "source": [
    "В этой модели будем учитывать, что при перетекании жидкости из ячеек берётся $k^{\\texttt{rel}^{\\alpha}}(S\\texttt{[i,j]})$ той ячейки, где больше давление.\n",
    "Пока ограничимся равномерным распределением permeability."
   ]
  },
  {
   "cell_type": "code",
   "execution_count": 7,
   "metadata": {},
   "outputs": [],
   "source": [
    "class ResState:\n",
    "    def __init__(self, values, bound_value):\n",
    "        self.values = values\n",
    "        self.bound_v = bound_value\n",
    "        self.shape = values.shape\n",
    "    def __getitem__(self, item):\n",
    "        i, j = item\n",
    "        if (i < 0) | (j < 0) | (i >= self.shape[0]) | (j >= self.shape[0]):\n",
    "            return self.bound_v\n",
    "        else:\n",
    "            return self.values[i, j]"
   ]
  },
  {
   "cell_type": "code",
   "execution_count": 8,
   "metadata": {},
   "outputs": [],
   "source": [
    "p = ResState(p, p_0)\n",
    "s_o = ResState(s_o, s_0)\n",
    "s_w = ResState(s_w, 1 - s_0)"
   ]
  },
  {
   "cell_type": "code",
   "execution_count": 9,
   "metadata": {},
   "outputs": [],
   "source": [
    "def k_rel_o_p(i, j, s, p):\n",
    "    if p[i, 0] > p[j, 0]:\n",
    "        out =  k_rel_o(s[i, 0])\n",
    "    else:\n",
    "        out = k_rel_o(s[j, 0])\n",
    "    return out\n",
    "\n",
    "\n",
    "def k_rel_w_p(i, j, s, p):\n",
    "    if p[i, 0] > p[j, 0]:\n",
    "        out =  k_rel_w(s[i, 0])\n",
    "    else:\n",
    "        out = k_rel_w(s[j, 0])\n",
    "    return out\n",
    "\n",
    "\n",
    "def k_rel_ph(i, j, s, p, ph):\n",
    "    out = 0       \n",
    "        \n",
    "    if ph == 'o':\n",
    "        out = k_rel_o_p(i, j, s, p)\n",
    "    elif ph == 'w':\n",
    "        out = k_rel_w_p(i, j, s, p)\n",
    "    return out"
   ]
  },
  {
   "cell_type": "markdown",
   "metadata": {},
   "source": [
    "Ну что, быстренько заполним матрицу для расчёта лапласиана"
   ]
  },
  {
   "cell_type": "markdown",
   "metadata": {},
   "source": [
    "$$A_x \\Big(\\frac{\\big[\\frac{k k^{rel}_{o}}{\\mu_o} + \\frac{k k^{rel}_{w}}{\\mu_w}\\big]_{i-\\frac{1}{2}}}{\\Delta x_{i-\\frac{1}{2}}}p_{i-1}\n",
    "- \\big( \\frac{\\big[\\frac{k k^{rel}_{o}}{\\mu_o} + \\frac{k k^{rel}_{w}}{\\mu_w}\\big]_{i+\\frac{1}{2}}}\n",
    "{\\Delta x_{i+\\frac{1}{2}}} + \n",
    "\\frac{\\big[\\frac{k k^{rel}_{o}}{\\mu_o} + \\frac{k k^{rel}_{w}}{\\mu_w}\\big]_{i-\\frac{1}{2}}}{\\Delta x_{i-\\frac{1}{2}}}\\big)p_{i}\n",
    "+\\frac{\\big[\\frac{k k^{rel}_{o}}{\\mu_o} + \\frac{k k^{rel}_{w}}{\\mu_w}\\big]_{i+\\frac{1}{2}}}{\\Delta x_{i+\\frac{1}{2}}}p_{i+1}\\Big) + \\\\\n",
    "+ (\\vec{p}_{\\texttt{well}} - \\vec{p}) \\cdot J^{o} k_{o} k_{o}^{rel} B_{o} + \n",
    "(\\vec{p}_{\\texttt{well}} - \\vec{p}) \\cdot J^{w} k_{w} k_{w}^{rel} B_{w}=\\\\\n",
    "=\\phi \\big(S_o c_o + S_w c_w  +1\\cdot c_r \\big) \\frac{p^{n+1}_i - p^{n}_i}{\\Delta t}\n",
    "$$"
   ]
  },
  {
   "cell_type": "markdown",
   "metadata": {},
   "source": [
    "В уравнении лапласиан можно представить как сумму двух, для воды и нефти.\n",
    "Так и будем их реализовывать."
   ]
  },
  {
   "cell_type": "code",
   "execution_count": 10,
   "metadata": {},
   "outputs": [],
   "source": [
    "def get_lapl_one_ph(p, s, mu, k, d, dx, dy, ph):\n",
    "    lapl = np.zeros((nx, nx))\n",
    "    for dia in range(nx):        \n",
    "        lapl[dia, dia] += k_rel_ph(dia, dia-1, s, p, ph) / mu / dx\n",
    "        lapl[dia, dia] += k_rel_ph(dia, dia+1, s, p, ph) / mu / dx\n",
    "        if dia-1 >= 0:\n",
    "            lapl[dia, dia-1] += k_rel_ph(dia, dia-1, s, p, ph) / mu / dx\n",
    "        if dia+1 < nx:\n",
    "            lapl[dia, dia+1] += k_rel_ph(dia, dia-1, s, p, ph) / mu / dx\n",
    "    lapl *= d * dy\n",
    "    return lapl"
   ]
  },
  {
   "cell_type": "code",
   "execution_count": 11,
   "metadata": {},
   "outputs": [],
   "source": [
    "lapl_w = get_lapl_one_ph(p, s_o, mu_w, k, d, dx, dy, 'w')\n",
    "lapl_o = get_lapl_one_ph(p, s_w, mu_o, k, d, dx, dy, 'o')"
   ]
  },
  {
   "cell_type": "markdown",
   "metadata": {},
   "source": [
    "Также нужны граничные условия для этого лапласиана"
   ]
  },
  {
   "cell_type": "code",
   "execution_count": 12,
   "metadata": {},
   "outputs": [],
   "source": [
    "q_tilde_w = np.zeros((nx, 1))\n",
    "q_tilde_w[0][0] = k_rel_ph(0, -1, s_w, p,'w') / mu_w / dx * d * dy * p_0\n",
    "q_tilde_w[nx-1][0] = k_rel_ph(0, nx, s_w, p, 'w') / mu_w / dx * d * dy * p_0\n",
    "\n",
    "q_tilde_w = np.zeros((nx, 1))\n",
    "q_tilde_w[0][0] = k_rel_ph(0, -1, s_o, p, 'o') / mu_o / dx * d * dy * p_0\n",
    "q_tilde_w[nx-1][0] = k_rel_ph(0, nx, s_o, p, 'o') / mu_o / dx * d * dy * p_0"
   ]
  },
  {
   "cell_type": "markdown",
   "metadata": {},
   "source": [
    "Так, ещё уделим внимание получению расхода\n",
    "$$\n",
    "q = \n",
    "(\\vec{p}_{\\texttt{well}} - \\vec{p}) \\cdot J^{o} k_{o} k_{o}^{rel} B_{o} + \n",
    "(\\vec{p}_{\\texttt{well}} - \\vec{p}) \\cdot J^{w} k_{w} k_{w}^{rel} B_{w} = \\\\\n",
    "=  - \\big(J^{o} k_{o} k_{o}^{rel} B_{o} +  J^{w} k_{w} k_{w}^{rel} B_{w}\\big) \\vec{p}  + \\\\\n",
    "+ \\big(J^{o} k_{o} k_{o}^{rel} B_{o} +  J^{w} k_{w} k_{w}^{rel} B_{w}\\big) \\vec{p}_{\\texttt{well}} = \\\\\n",
    "- \\big( J_w(S_w) + J_o(S_o)\\big) \\vec{p} + \\big( J_w(S_w) + J_o(S_o)\\big) \\vec{p}_{\\texttt{well}}\n",
    "$$"
   ]
  },
  {
   "cell_type": "markdown",
   "metadata": {},
   "source": [
    "$$\n",
    "J_{\\alpha}\\big(S_{\\alpha}\\big) = \\frac{4\\pi}{B_{\\alpha} \\mu_{\\alpha}} \\frac{r_{\\texttt{ref}}r_{\\texttt{well}}}{r_{\\texttt{ref}}+r_{\\texttt{well}}} \\cdot k_{\\alpha}^{\\texttt{rel}}\n",
    "$$"
   ]
  }
 ],
 "metadata": {
  "kernelspec": {
   "display_name": "Python 3",
   "language": "python",
   "name": "python3"
  },
  "language_info": {
   "codemirror_mode": {
    "name": "ipython",
    "version": 3
   },
   "file_extension": ".py",
   "mimetype": "text/x-python",
   "name": "python",
   "nbconvert_exporter": "python",
   "pygments_lexer": "ipython3",
   "version": "3.8.6"
  }
 },
 "nbformat": 4,
 "nbformat_minor": 4
}
