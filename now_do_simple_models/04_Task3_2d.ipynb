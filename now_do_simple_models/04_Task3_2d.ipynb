{
 "cells": [
  {
   "cell_type": "markdown",
   "metadata": {},
   "source": [
    "#  Task 3\n",
    "## Statement\n",
    "\n",
    "$$\n",
    "\\frac{k}{\\mu B}\\Delta_{x, y} p(t, x, y) = \\frac{V_b \\phi c }{\\alpha}\\frac{\\partial}{\\partial t}p(t, x)\\\\\n",
    "\\frac{\\partial}{\\partial x}\\big(\\frac{k_x A_x}{\\mu B} \\frac{\\partial p}{\\partial x}\\big) \n",
    "+ q\n",
    "=\\frac{V_b \\phi c }{\\alpha}\\frac{\\partial p}{\\partial t}\n",
    "$$\n",
    "\n",
    "$$ \\frac{\\partial }{\\partial t} p= \\frac{1}{\\alpha} \\Delta p + q\\\\\n",
    "\\frac{\\partial}{\\partial x}p(t, x, 0) = 0,\\ p(t, L, y)=c_1,\\ p(x, 0) = p_0\\\\\n",
    "\\frac{\\partial}{\\partial x}p(t, x, L) = 0,\\ \\frac{\\partial}{\\partial x}p(t, y, 0) = 0,\n",
    "$$\n"
   ]
  },
  {
   "cell_type": "markdown",
   "metadata": {},
   "source": [
    "<img src=\"figures/Task3.png\">"
   ]
  },
  {
   "cell_type": "code",
   "execution_count": 21,
   "metadata": {},
   "outputs": [],
   "source": [
    "import numpy as np\n",
    "import matplotlib.pyplot as plt\n",
    "import seaborn as sns\n",
    "from IPython import display\n",
    "from math import ceil, floor"
   ]
  },
  {
   "cell_type": "code",
   "execution_count": 22,
   "metadata": {},
   "outputs": [],
   "source": [
    "nx = 10\n",
    "ny = 10\n",
    "\n",
    "k = 1e-1 * 1.987e-13  # 1 darcy to m^2\n",
    "dx = 1 # m\n",
    "dy = 5 # m\n",
    "c = 15.8e-10 # # Pa^-1\n",
    "phi = 0.4\n",
    "B = 1\n",
    "mu = 2.9e-4  # m^2 / s\n",
    "p_0 = 4e4 * 6894  # psi to Pa\n",
    "p_b = 4.03e4 * 6894\n",
    "d = 3  # m\n",
    "dt = 1  # s\n",
    "qw = -0.1 # m3/s"
   ]
  },
  {
   "cell_type": "markdown",
   "metadata": {},
   "source": [
    "Теперь я поставлю задачу так - в центре есть скважина, в неё течёт $q=\\texttt{const}$.\n",
    "\n",
    "Нужно немного поправить матрицу для лапласиана"
   ]
  },
  {
   "cell_type": "code",
   "execution_count": 23,
   "metadata": {},
   "outputs": [],
   "source": [
    "def lapl_martix(p_b, k, dx, dy, d, nx, ny, mu, B):\n",
    "    lapl = np.zeros((nx*ny, nx*ny))\n",
    "    # inner body\n",
    "    for dia in range(nx*ny):\n",
    "        # gonna have 4 neibours\n",
    "        lapl[dia, dia] = -4 * k * d * dy / dx\n",
    "        # two neibours on x - axis\n",
    "        if (int((dia-1) / ny) == int(dia / ny)) & (dia-1 >= 0):\n",
    "            lapl[dia, dia-1] = k * d * dy / dx\n",
    "        if (int((dia+1) / ny) == int(dia / ny)) & (dia+1 < nx*ny):\n",
    "            lapl[dia, dia+1] = k * d * dy / dx\n",
    "        # two neybours on y axis\n",
    "        if dia-ny >= 0:\n",
    "            lapl[dia, dia-ny] = k * d * dy / dx\n",
    "        if dia+ny < nx*ny:\n",
    "            lapl[dia, dia+ny] = k * d * dy / dx\n",
    "        \n",
    "    for col in range(ny):\n",
    "        # corners later\n",
    "        if (col > 0) & (col < ny-1):\n",
    "            # up bound\n",
    "            lapl[col, col] = -3 * k * d * dy / dx\n",
    "            # bot bound\n",
    "            lapl[(nx-1) * ny + col, (nx-1) * ny + col] = -4 * k * d * dy / dx\n",
    "        # bot bound\n",
    "        # corners later\n",
    "    for row in range(nx):\n",
    "        if (row > 0) & (row < nx-1): \n",
    "            # left bound\n",
    "            lapl[row * ny, row * ny] = -3 * k * d * dy / dx\n",
    "            # right bound\n",
    "            lapl[(row+1) * ny-1 , (row+1) * ny-1 ] = -3 * k * d * dy / dx\n",
    "    lapl[0, 0] = -2 * k * d * dy / dx\n",
    "    lapl[ny-1, ny-1] = -2 * k * d * dy / dx\n",
    "    lapl[nx*ny-1, nx*ny-1] = -3 * k * d * dy / dx\n",
    "    lapl[nx*ny-1 - (ny-1), nx*ny-1 - (ny-1)] = -3 * k * d * dy / dx\n",
    "    lapl *= 1 / (mu * B)\n",
    "    return lapl"
   ]
  },
  {
   "cell_type": "code",
   "execution_count": 24,
   "metadata": {},
   "outputs": [],
   "source": [
    "lapl = lapl_martix(p_b, k, dx, dy, d, nx, ny, mu, B)"
   ]
  },
  {
   "cell_type": "markdown",
   "metadata": {},
   "source": [
    "А $\\vec{\\tilde{q}}$ становится намного сложнее"
   ]
  },
  {
   "cell_type": "code",
   "execution_count": 25,
   "metadata": {},
   "outputs": [],
   "source": [
    "wells_q = {(4, 4): -1e-3}"
   ]
  },
  {
   "cell_type": "code",
   "execution_count": 26,
   "metadata": {},
   "outputs": [],
   "source": [
    "def get_q_bound(p_b, k, dx, dy, d, nx, ny, mu, B, wells_q):\n",
    "    q_tilde = np.zeros((nx, ny))\n",
    "    for col in range(ny):\n",
    "        q_tilde[nx-1, col] = k * d * dy / (dx * mu * B) * p_b\n",
    "        \n",
    "    for well in wells_q:\n",
    "        q_tilde[well] += wells_q[well]\n",
    "        \n",
    "    q_tilde = q_tilde.reshape((-1, 1))\n",
    "    return q_tilde"
   ]
  },
  {
   "cell_type": "code",
   "execution_count": 27,
   "metadata": {},
   "outputs": [],
   "source": [
    "q_tilde = get_q_bound(p_b, k, dx, dy, d, nx, ny, mu, B, wells_q)"
   ]
  },
  {
   "cell_type": "code",
   "execution_count": 28,
   "metadata": {},
   "outputs": [],
   "source": [
    "dt_coeff = dx * dy * d * phi * c / dt"
   ]
  },
  {
   "cell_type": "markdown",
   "metadata": {},
   "source": [
    "К сожалению, анаилическое решение  этой задаче представить нет возможности"
   ]
  },
  {
   "cell_type": "code",
   "execution_count": 29,
   "metadata": {},
   "outputs": [],
   "source": [
    "n_iter = int(1.2e3)\n",
    "p_ex = np.ones((nx*ny, 1)) * p_0\n",
    "p_im = np.ones((nx*ny, 1)) * p_0\n",
    "t = 0\n",
    "xs = list(np.linspace(0, nx-1, nx) * dx * 1.01)\n",
    "plot_freq = int(1e1)"
   ]
  },
  {
   "cell_type": "code",
   "execution_count": 30,
   "metadata": {},
   "outputs": [
    {
     "data": {
      "image/png": "[encoded data removed]",
      "text/plain": [
       "<Figure size 432x288 with 2 Axes>"
      ]
     },
     "metadata": {
      "needs_background": "light"
     },
     "output_type": "display_data"
    }
   ],
   "source": [
    "for i in range(1, n_iter):\n",
    "    # upd pressure\n",
    "    p_ex += 1 / dt_coeff * (lapl.dot(p_ex) + q_tilde)\n",
    "    t += dt\n",
    "    if i % plot_freq == 0:\n",
    "    # append some history\n",
    "    # let's draw\n",
    "        display.clear_output(wait=True)\n",
    "        sns.heatmap(p_ex.reshape((nx, ny)) / 6894., cbar=True)\n",
    "        plt.title(f'Pressure\\nt={t}s')\n",
    "        plt.show()"
   ]
  }
 ],
 "metadata": {
  "kernelspec": {
   "display_name": "Python 3",
   "language": "python",
   "name": "python3"
  },
  "language_info": {
   "codemirror_mode": {
    "name": "ipython",
    "version": 3
   },
   "file_extension": ".py",
   "mimetype": "text/x-python",
   "name": "python",
   "nbconvert_exporter": "python",
   "pygments_lexer": "ipython3",
   "version": "3.8.6"
  }
 },
 "nbformat": 4,
 "nbformat_minor": 4
}
