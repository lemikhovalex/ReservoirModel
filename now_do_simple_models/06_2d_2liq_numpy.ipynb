{
 "cells": [
  {
   "cell_type": "markdown",
   "metadata": {},
   "source": [
    "Имея решение `1d`  задачи для двух жидкостей, можем получить `2d` решение"
   ]
  },
  {
   "cell_type": "code",
   "execution_count": 70,
   "metadata": {},
   "outputs": [],
   "source": [
    "import numpy as np\n",
    "import matplotlib.pyplot as plt\n",
    "import seaborn as sns\n",
    "from tqdm import tqdm\n",
    "import utils as u\n",
    "import scipy\n",
    "import pandas as pd\n",
    "\n",
    "from IPython import display"
   ]
  },
  {
   "cell_type": "code",
   "execution_count": 71,
   "metadata": {},
   "outputs": [],
   "source": [
    "# import torch\n",
    "# import ctypes\n",
    "# ctypes.cdll.LoadLibrary('caffe2_nvrtc.dll')"
   ]
  },
  {
   "cell_type": "code",
   "execution_count": 72,
   "metadata": {},
   "outputs": [],
   "source": [
    "# device = torch.device(\"cuda\" if torch.cuda.is_available() else \"cpu\")\n",
    "# device = torch.device(\"cpu\")\n",
    "# device"
   ]
  },
  {
   "cell_type": "code",
   "execution_count": 73,
   "metadata": {},
   "outputs": [],
   "source": [
    "def two_dim_index_to_one(i: int, j: int, ny: int) -> int:\n",
    "    return ny * i + j\n",
    "def one_d_index_to_two(one_d: int, ny: int):\n",
    "    i = int(one_d / ny)\n",
    "    j = one_d % ny\n",
    "    return i, j"
   ]
  },
  {
   "cell_type": "code",
   "execution_count": 74,
   "metadata": {},
   "outputs": [],
   "source": [
    "nx = 25\n",
    "ny = 25\n",
    "k = 1e-1 * 1.987e-13  # 1 darcy to m^2\n",
    "dx = 3 # m\n",
    "dy = 3 # m\n",
    "phi = 0.4\n",
    "p_0 = 150 * 10 ** 5  # psi to Pa\n",
    "d = 10  # m\n",
    "dt = 120  # s\n",
    "s_0 = 0.3\n",
    "s_b = 0.1\n",
    "p = np.ones((nx*ny, 1)) * p_0\n",
    "s_o = np.ones((nx*ny, 1)) * s_0\n",
    "s_w = np.ones((nx*ny, 1))* (1 - s_0)"
   ]
  },
  {
   "cell_type": "code",
   "execution_count": null,
   "metadata": {},
   "outputs": [],
   "source": []
  },
  {
   "cell_type": "markdown",
   "metadata": {},
   "source": [
    "Перейдём к сжимаемости для [rock](https://www.sciencedirect.com/topics/engineering/formation-compressibility), [water and oil](http://www.fekete.com/san/webhelp/feketeharmony/harmony_webhelp/content/html_files/reference_material/general_concepts/reservoir_properties.htm)"
   ]
  },
  {
   "cell_type": "code",
   "execution_count": 75,
   "metadata": {},
   "outputs": [],
   "source": [
    "c_w = 1e-6 # # Pa^-1\n",
    "c_o = 1e-6 # # Pa^-1\n",
    "c_r = 3e-6 #  Pa^-1 "
   ]
  },
  {
   "cell_type": "markdown",
   "metadata": {},
   "source": [
    "Также различаются вязкости [oil](https://petrowiki.org/Oil_viscosity) и [water](http://fekete.com/SAN/TheoryAndEquations/HarmonyTheoryEquations/Content/HTML_Files/Reference_Material/General_Concepts/Reservoir_Fluid_Properties.htm)"
   ]
  },
  {
   "cell_type": "code",
   "execution_count": 76,
   "metadata": {},
   "outputs": [],
   "source": [
    "B_o = 1\n",
    "B_w = 1\n",
    "mu_o = 15 / 1000 # cp to Pa * s\n",
    "mu_w = 1 / 1000 # cp to Pa * s"
   ]
  },
  {
   "cell_type": "markdown",
   "metadata": {},
   "source": [
    "Такс, вводим гиперпараметры для относитльной проницаемости"
   ]
  },
  {
   "cell_type": "code",
   "execution_count": 77,
   "metadata": {},
   "outputs": [],
   "source": [
    "l_w = 2.\n",
    "l_o = 2.\n",
    "s_wir = 0.2\n",
    "s_wor = 0.8\n",
    "k_rwr = 0.1\n",
    "k_rot = 1.\n",
    "e_w = 1.\n",
    "e_o = 1.\n",
    "t_w = 2.\n",
    "t_o = 2."
   ]
  },
  {
   "cell_type": "markdown",
   "metadata": {},
   "source": [
    "Запихнём всю эту информацию в специальный класс"
   ]
  },
  {
   "cell_type": "code",
   "execution_count": 78,
   "metadata": {},
   "outputs": [
    {
     "data": {
      "text/plain": [
       "<module 'res_properties' from 'C:\\\\Users\\\\PC\\\\Documents\\\\SLB\\\\01_Reservoir_model_master\\\\now_do_simple_models\\\\res_properties.py'>"
      ]
     },
     "execution_count": 78,
     "metadata": {},
     "output_type": "execute_result"
    }
   ],
   "source": [
    "import res_properties\n",
    "import imp\n",
    "imp.reload(res_properties)"
   ]
  },
  {
   "cell_type": "code",
   "execution_count": 79,
   "metadata": {},
   "outputs": [],
   "source": [
    "prop = res_properties.Properties(nx=nx, ny=ny, k=k, dx=dx, dy=dy, phi=phi, p_0=p_0, d=d, dt=dt, s_0=s_0,\n",
    "                 c_w=c_w, c_o=c_w, c_r=c_r, mu_w=mu_w, mu_o=mu_o, b_o=B_o, b_w=B_w, l_w=l_w, l_o=l_o,\n",
    "                 s_wir=s_wir, s_wor=s_wor, k_rwr=k_rwr, k_rot=k_rot, e_w=e_w, e_o=e_o, t_w=t_w, t_o=t_o)"
   ]
  },
  {
   "cell_type": "code",
   "execution_count": 80,
   "metadata": {},
   "outputs": [
    {
     "data": {
      "image/png": "[encoded data removed]",
      "text/plain": [
       "<Figure size 432x288 with 1 Axes>"
      ]
     },
     "metadata": {
      "needs_background": "light"
     },
     "output_type": "display_data"
    }
   ],
   "source": [
    "ss = np.linspace(0, 1, 200)\n",
    "k_rels_w = [prop.k_rel_w(1-s) for s in ss]\n",
    "k_rels_o = [prop.k_rel_o(s) for s in ss]\n",
    "plt.plot(ss, k_rels_w, label='water')\n",
    "plt.plot(ss, k_rels_o, label='oil')\n",
    "plt.xlabel('S oil')\n",
    "plt.ylabel(\"k relative\")\n",
    "plt.title('Relative permeability')\n",
    "plt.legend()\n",
    "plt.show()"
   ]
  },
  {
   "cell_type": "code",
   "execution_count": 81,
   "metadata": {},
   "outputs": [],
   "source": [
    "from reservoir import ResState"
   ]
  },
  {
   "cell_type": "code",
   "execution_count": 82,
   "metadata": {},
   "outputs": [],
   "source": [
    "p = ResState(p, p_0, prop)\n",
    "s_o = ResState(s_o, s_b, prop)\n",
    "s_w = ResState(s_w, 1 - s_b, prop)"
   ]
  },
  {
   "cell_type": "markdown",
   "metadata": {},
   "source": [
    "Дальше немного сложенее - теперь нужно вводить межблочную относительную проницаемость"
   ]
  },
  {
   "cell_type": "markdown",
   "metadata": {},
   "source": [
    "Небольшие изменения потерпит матарица, отвечающая за лапласиан"
   ]
  },
  {
   "cell_type": "code",
   "execution_count": 83,
   "metadata": {},
   "outputs": [],
   "source": [
    "from reservoir import get_lapl_one_ph_np as get_lapl_one_ph"
   ]
  },
  {
   "cell_type": "code",
   "execution_count": 84,
   "metadata": {},
   "outputs": [],
   "source": [
    "lapl_w = np.zeros((prop.nx * prop.ny, prop.nx * prop.ny))\n",
    "lapl_o = np.zeros((prop.nx * prop.ny, prop.nx * prop.ny))"
   ]
  },
  {
   "cell_type": "code",
   "execution_count": 85,
   "metadata": {},
   "outputs": [],
   "source": [
    "from reservoir import get_q_bound"
   ]
  },
  {
   "cell_type": "code",
   "execution_count": 86,
   "metadata": {},
   "outputs": [],
   "source": [
    "q_bound_w = np.zeros((prop.nx * prop.ny, 1))\n",
    "q_bound_o = np.zeros((prop.nx * prop.ny, 1))"
   ]
  },
  {
   "cell_type": "markdown",
   "metadata": {},
   "source": [
    "Теперь про моделирование скважины"
   ]
  },
  {
   "cell_type": "markdown",
   "metadata": {},
   "source": [
    "Закинем координаты скважин"
   ]
  },
  {
   "cell_type": "code",
   "execution_count": 87,
   "metadata": {},
   "outputs": [],
   "source": [
    "pos_r = {(12, 8): 0.1, (18, 21): 0.1}\n",
    "delta_p_well = -100 * 6894.\n",
    "delta_p_vec = np.ones((nx*ny, 1)) * delta_p_well"
   ]
  },
  {
   "cell_type": "code",
   "execution_count": 88,
   "metadata": {},
   "outputs": [],
   "source": [
    "from reservoir import get_j_matrix"
   ]
  },
  {
   "cell_type": "code",
   "execution_count": 89,
   "metadata": {},
   "outputs": [],
   "source": [
    "j_o = np.zeros((prop.nx * prop.ny, 1))\n",
    "j_w = np.zeros((prop.nx * prop.ny, 1))\n",
    "_ = get_j_matrix(s=s_o, p=p, pos_r=pos_r, ph='o', prop=prop, j_matr=j_o)\n",
    "_ = get_j_matrix(s=s_w, p=p, pos_r=pos_r, ph='w', prop=prop, j_matr=j_w)"
   ]
  },
  {
   "cell_type": "markdown",
   "metadata": {},
   "source": [
    "И последний штрих - перед производной по времени есть $V_b\\big(S_o c_o + S_w c_w  +1\\cdot c_r\\big)$. Назовём это `dt_comp_sat`"
   ]
  },
  {
   "cell_type": "markdown",
   "metadata": {},
   "source": [
    "Кстати, у нас теперь `2d` и теперь нужно делать `.reshape`"
   ]
  },
  {
   "cell_type": "code",
   "execution_count": 90,
   "metadata": {},
   "outputs": [],
   "source": [
    "dt_comp_sat = dx * dy * d *(s_o.v * c_o + s_w.v * c_w + np.ones((nx*ny, 1)) * c_r)"
   ]
  },
  {
   "cell_type": "code",
   "execution_count": 91,
   "metadata": {},
   "outputs": [],
   "source": [
    "nxny_ones = np.ones((nx*ny, 1))\n",
    "nxny_eye = np.eye(nx*ny) "
   ]
  },
  {
   "cell_type": "markdown",
   "metadata": {},
   "source": [
    "Закаидываем пареметры для запуска сессии и записи истории"
   ]
  },
  {
   "cell_type": "code",
   "execution_count": 92,
   "metadata": {},
   "outputs": [],
   "source": [
    "n_iter = int(5e1)\n",
    "p_ex = np.ones((nx, 1)) * p_0\n",
    "t = 0\n",
    "xs = list((np.linspace(0, nx-1, nx) + dx/2) * dx)\n",
    "plot_freq = int(1e5)\n",
    "times = []\n",
    "p_well_hist = {}\n",
    "s_o_well_hist = {}\n",
    "q_o_hist = {}\n",
    "q_w_hist = {}\n",
    "for w in pos_r:\n",
    "    p_well_hist[w] = []\n",
    "    s_o_well_hist[w] = []\n",
    "    q_o_hist[w] = []\n",
    "    q_w_hist[w] = []"
   ]
  },
  {
   "cell_type": "code",
   "execution_count": 93,
   "metadata": {},
   "outputs": [],
   "source": [
    "from reservoir import Env"
   ]
  },
  {
   "cell_type": "code",
   "execution_count": 94,
   "metadata": {},
   "outputs": [
    {
     "name": "stderr",
     "output_type": "stream",
     "text": [
      "100%|██████████████████████████████████████████████████████████████████████████████████| 50/50 [00:01<00:00, 42.18it/s]"
     ]
    },
    {
     "name": "stdout",
     "output_type": "stream",
     "text": [
      "Wall time: 1.19 s\n"
     ]
    },
    {
     "name": "stderr",
     "output_type": "stream",
     "text": [
      "\n"
     ]
    }
   ],
   "source": [
    "%%time\n",
    "for i in tqdm(range(n_iter)):\n",
    "    # gonna increase time step\n",
    "    # matrixes depends on saturation\n",
    "    dt_comp_sat = (dx * dy * d *s_o.v * c_o + dx * dy * d * s_w.v * c_w + np.ones((nx*ny, 1)) * c_r)\n",
    "    _ = get_j_matrix(s=s_o, p=p, pos_r=pos_r, ph='o', prop=prop, j_matr=j_o)\n",
    "    _ = get_j_matrix(s=s_w, p=p, pos_r=pos_r, ph='w', prop=prop, j_matr=j_w)\n",
    "    lapl_w, si_w = get_lapl_one_ph(p=p, s=s_w, ph='w', prop=prop)\n",
    "    lapl_o, si_o = get_lapl_one_ph(p=p, s=s_o, ph='o', prop=prop)\n",
    "    _ = get_q_bound(p, s_w, 'w', prop, q_b=q_bound_w)\n",
    "    _ = get_q_bound(p, s_o, 'o', prop, q_b=q_bound_o)\n",
    "    prop.dt = 0.1 * 0.5 * phi * dt_comp_sat.min() / (si_o + si_w)\n",
    "    # matrix for implicit pressure\n",
    "    a = phi * np.eye(nx*ny) * dt_comp_sat - (lapl_w + lapl_o) * prop.dt\n",
    "    #right hand state for ax = b\n",
    "    \n",
    "    b = phi * dt_comp_sat * p.v + q_bound_w*prop.dt + q_bound_o*prop.dt \n",
    "    b += (j_o * B_o + j_w * B_w) * delta_p_vec * prop.dt\n",
    "    # upd time stamp\n",
    "    t += prop.dt / (60. * 60 * 24)\n",
    "    # solve p\n",
    "    p_new = np.linalg.solve(a, b)\n",
    "    dp = p_new - p.v\n",
    "    \n",
    "    a = dx*dy*d * phi *(np.ones((nx * ny, 1)) + (c_r + c_o) * (p_new - p.v))\n",
    "    \n",
    "    b = phi * dx*dy*d * s_o.v + prop.dt * (lapl_o.dot(p_new) + q_bound_o + j_o * B_o * delta_p_vec)\n",
    "    # upd target values\n",
    "    s_o = ResState((b / a), s_b, prop) \n",
    "    s_w = ResState(np.ones((nx*ny, 1)) - s_o.v, 1 - s_b, prop) \n",
    "    p = ResState(p_new, p_0, prop)\n",
    "    if i % plot_freq == -1:\n",
    "        \n",
    "        q_o = ((-1) * j_o * (delta_p_vec)).reshape((nx, ny))\n",
    "        q_w = ((-1) * j_w * (delta_p_vec)).reshape((nx, ny))\n",
    "        \n",
    "        # gonna set wells as nan to see gradient\n",
    "        # p_v_disp = p.v.reshape((nx, ny)).copy() / 6894.\n",
    "        # s_o_disp = s_o.v.reshape((nx, ny)).copy()\n",
    "        \n",
    "        times.append(t)\n",
    "        for w in pos_r:\n",
    "            p_well_hist[w].append(p[w] / 6894.)\n",
    "            s_o_well_hist[w].append(s_o[w])\n",
    "            q_o_hist[w].append(q_o[w])\n",
    "            q_w_hist[w].append(q_w[w])\n",
    "            # set wells as nan to see gradient\n",
    "            # p_v_disp[w] = np.nan\n",
    "            # s_o_disp[w] = np.nan\n",
    "        display.clear_output(wait=True)\n",
    "        f, ax = plt.subplots(nrows=3, ncols=2, figsize=(16, 12))\n",
    "        f.tight_layout(pad=6.0)\n",
    "        \n",
    "        sns.heatmap(p.v.reshape((nx, ny)) / 6894., ax=ax[0][0], cbar=True)\n",
    "        ax[0][0].set_title(f'Pressure, psi\\nt={t: .1f} days \\n nan at well pos')\n",
    "        \n",
    "        sns.heatmap(s_o.v.reshape((nx, ny)), ax=ax[0][1], cbar=True, fmt=\".2f\")\n",
    "        ax[0][1].set_title(f'Saturation, oil, psi\\nt={t: .1f} days\\n nan at well pos')\n",
    "        \n",
    "        for w in pos_r:\n",
    "            ax[1][0].plot(times, p_well_hist[w] , label=f'{w}')\n",
    "            ax[1][1].plot(times, s_o_well_hist[w] , label=f'{w}')\n",
    "            ax[2][0].plot(times, q_o_hist[w] , label=f'{w}')\n",
    "            ax[2][1].plot(times, q_w_hist[w] , label=f'{w}')\n",
    "        ax[1][0].set_xlabel('time, days')\n",
    "        ax[1][0].set_ylabel('pressure, psi')\n",
    "        ax[1][0].set_title('Pressure in wells')\n",
    "        ax[1][0].legend()\n",
    "        \n",
    "        ax[1][1].set_xlabel('time, days')\n",
    "        ax[1][1].set_ylabel('saturation')\n",
    "        ax[1][1].set_title('Oil saturation in wells')\n",
    "        ax[1][1].legend()\n",
    "        \n",
    "        ax[2][0].set_xlabel('time, days')\n",
    "        ax[2][0].set_ylabel('q, m3/s')\n",
    "        ax[2][0].set_title('Oil rate')\n",
    "        ax[2][0].legend()\n",
    "        \n",
    "        ax[2][1].set_xlabel('time, days')\n",
    "        ax[2][1].set_ylabel('q, m3/s')\n",
    "        ax[2][1].set_title('Water rate')\n",
    "        ax[2][1].legend()\n",
    "                \n",
    "        plt.show()"
   ]
  },
  {
   "cell_type": "code",
   "execution_count": 95,
   "metadata": {},
   "outputs": [
    {
     "name": "stderr",
     "output_type": "stream",
     "text": [
      "100%|███████████████████████████████████████████████████████████████████████████████| 99/99 [00:00<00:00, 24751.79it/s]\n"
     ]
    }
   ],
   "source": [
    "for i in tqdm(range(1, 100)):\n",
    "    dt_comp_sat = (dx * dy * d *(s_o.v) * c_o + s_w.v * c_w + nxny_ones * c_r)\n",
    "    _ = get_j_matrix(p=p, s=s_o, pos_r=pos_r, ph='o', prop=prop, j_matr=j_o)\n",
    "    _ = get_j_matrix(p=p, s=s_w, pos_r=pos_r, ph='w', prop=prop, j_matr=j_o)"
   ]
  },
  {
   "cell_type": "code",
   "execution_count": 102,
   "metadata": {},
   "outputs": [
    {
     "name": "stdout",
     "output_type": "stream",
     "text": [
      "3.87 ms ± 3.26 µs per loop (mean ± std. dev. of 7 runs, 100 loops each)\n"
     ]
    }
   ],
   "source": [
    "%%timeit\n",
    "l_w = get_lapl_one_ph(p=p, s=s_w, ph='w', prop=prop)\n",
    "# l_o = get_lapl_one_ph(p=p, s=s_o, ph='o', prop=prop)"
   ]
  },
  {
   "cell_type": "code",
   "execution_count": 55,
   "metadata": {},
   "outputs": [],
   "source": [
    "s = s_o\n",
    "ph = 'o'"
   ]
  },
  {
   "cell_type": "markdown",
   "metadata": {},
   "source": [
    "С заполнением списка - 103\n",
    "\n",
    "Без - 400"
   ]
  },
  {
   "cell_type": "code",
   "execution_count": 99,
   "metadata": {},
   "outputs": [],
   "source": [
    "s = s_o\n",
    "ph = 'o'"
   ]
  },
  {
   "cell_type": "code",
   "execution_count": 104,
   "metadata": {},
   "outputs": [
    {
     "name": "stdout",
     "output_type": "stream",
     "text": [
      "971 µs ± 1.24 µs per loop (mean ± std. dev. of 7 runs, 1000 loops each)\n"
     ]
    }
   ],
   "source": [
    "%%timeit \n",
    "s_b_test_x = np.ones((prop.nx, 1)) * s.bound_v\n",
    "p_b_test_x = np.ones((prop.nx, 1)) * p.bound_v\n",
    "\n",
    "s_x_ext = np.append(s.v.reshape((prop.nx, prop.ny)), s_b_test_x, axis=1)\n",
    "s_x_ext = s_x_ext.reshape(-1)\n",
    "s_x_ext = np.insert(s_x_ext, 0, s.bound_v)\n",
    "\n",
    "p_x_ext = np.append(p.v.reshape((prop.nx, prop.ny)), p_b_test_x, axis=1)\n",
    "p_x_ext = p_x_ext.reshape(-1)\n",
    "p_x_ext = np.insert(p_x_ext, 0, p.bound_v)\n",
    "\n",
    "out_x = np.zeros(prop.nx * (prop.ny + 1))\n",
    "for i in range(len(p_x_ext) - 1):\n",
    "    if p_x_ext[i] >= p_x_ext[i + 1]:\n",
    "        out_x[i] = s_x_ext[i]\n",
    "    else:\n",
    "        out_x[i] = s_x_ext[i + 1]\n",
    "k_rel_x = prop.k_rel_ph_1val_np(out_x, ph)\n",
    "sigma = k_rel_x.max()\n",
    "    ##############################################\n",
    "s_b_test_y = np.ones((1, prop.ny)) * s_b_test_x[0]\n",
    "p_b_test_y = np.ones((1, prop.ny)) * p_b_test_x[0]\n",
    "\n",
    "s_y_ext = np.append(s.v.reshape((prop.nx, prop.ny)), s_b_test_y, axis=0)\n",
    "s_y_ext = s_y_ext.T.reshape(-1)\n",
    "s_y_ext = np.insert(s_y_ext, 0, s.bound_v)\n",
    "\n",
    "p_y_ext = np.append(p.v.reshape((prop.nx, prop.ny)), p_b_test_y, axis=0)\n",
    "p_y_ext = p_y_ext.T.reshape(-1)\n",
    "p_y_ext = np.insert(p_y_ext, 0, p.bound_v)\n",
    "\n",
    "out_y = np.zeros((prop.nx + 1) * prop.ny)\n",
    "\n",
    "for i in range(len(p_y_ext) - 1):\n",
    "    if p_y_ext[i] >= p_y_ext[i + 1]:\n",
    "        out_y[i] = s_y_ext[i]\n",
    "    elif p_y_ext[i] <= p_y_ext[i + 1]:\n",
    "        out_y[i] = s_y_ext[i + 1]\n",
    "    \n",
    "k_rel_y = prop.k_rel_ph_1val_np(out_y, ph)\n",
    "sigma = min(sigma, k_rel_y.max())\n",
    "# k_rel_w_y = [f(1 - s_o) for s_o in out_y] # consuming\n",
    "\n",
    "# let's go diagonals\n",
    "# main is first\n",
    "# for x we need to drop first and last col\n",
    "main_dia = np.zeros(prop.nx * prop.ny)\n",
    "main_dia += np.delete(k_rel_x.reshape((prop.nx, prop.ny + 1)), obj=-1, axis=1).reshape(-1)\n",
    "main_dia += np.delete(k_rel_x.reshape((prop.nx, prop.ny + 1)), obj=0, axis=1).reshape(-1)\n",
    "\n",
    "main_dia += np.delete(k_rel_y.reshape((prop.ny, prop.nx + 1)), obj=-1, axis=1).T.reshape(-1)\n",
    "main_dia += np.delete(k_rel_y.reshape((prop.ny, prop.nx + 1)), obj=0, axis=1).T.reshape(-1)\n",
    "\n",
    "close_dia = k_rel_x.reshape((prop.nx, prop.ny + 1))\n",
    "close_dia = np.delete(close_dia, obj=-1, axis=1)\n",
    "close_dia = close_dia.reshape(-1)\n",
    "close_dia *= prop.mask_close\n",
    "\n",
    "dist_dia = k_rel_y.reshape((prop.ny, prop.nx + 1))\n",
    "dist_dia = np.delete(dist_dia, obj=-1, axis=1)\n",
    "dist_dia = np.delete(dist_dia, obj=0, axis=1)\n",
    "dist_dia = dist_dia.T.reshape(-1)\n",
    "\n",
    "lapl = scipy.sparse.diags(diagonals=[dist_dia, close_dia[1:],\n",
    "                                     -1 * main_dia,\n",
    "                                     close_dia[1:], dist_dia\n",
    "                                    ],\n",
    "                          offsets=[-1 * prop.ny, -1, 0, 1, prop.ny])  # .toarray()\n",
    "lapl *= prop.k * prop.d * prop.dy / prop.mu[ph] / prop.dx\n",
    "sigma *= prop.k * prop.d * prop.dy / prop.mu[ph] / prop.dx"
   ]
  },
  {
   "cell_type": "code",
   "execution_count": 105,
   "metadata": {},
   "outputs": [
    {
     "name": "stdout",
     "output_type": "stream",
     "text": [
      "821 µs ± 1.88 µs per loop (mean ± std. dev. of 7 runs, 1000 loops each)\n"
     ]
    }
   ],
   "source": [
    "%%timeit \n",
    "s_b_test_x = np.ones((prop.nx, 1)) * s.bound_v\n",
    "p_b_test_x = np.ones((prop.nx, 1)) * p.bound_v\n",
    "\n",
    "s_x_ext = np.append(s.v.reshape((prop.nx, prop.ny)), s_b_test_x, axis=1)\n",
    "s_x_ext = s_x_ext.reshape(-1)\n",
    "s_x_ext = np.insert(s_x_ext, 0, s.bound_v)\n",
    "\n",
    "p_x_ext = np.append(p.v.reshape((prop.nx, prop.ny)), p_b_test_x, axis=1)\n",
    "p_x_ext = p_x_ext.reshape(-1)\n",
    "p_x_ext = np.insert(p_x_ext, 0, p.bound_v)\n",
    "\n",
    "out_x = np.zeros(prop.nx * (prop.ny + 1))\n",
    "for i in range(len(p_x_ext) - 1):\n",
    "    if p_x_ext[i] >= p_x_ext[i + 1]:\n",
    "        out_x[i] = s_x_ext[i]\n",
    "    else:\n",
    "        out_x[i] = s_x_ext[i + 1]\n",
    "k_rel_x = prop.k_rel_ph_1val_np(out_x, ph)\n",
    "sigma = k_rel_x.max()\n",
    "    ##############################################\n",
    "s_b_test_y = np.ones((1, prop.ny)) * s_b_test_x[0]\n",
    "p_b_test_y = np.ones((1, prop.ny)) * p_b_test_x[0]\n",
    "\n",
    "s_y_ext = np.append(s.v.reshape((prop.nx, prop.ny)), s_b_test_y, axis=0)\n",
    "s_y_ext = s_y_ext.T.reshape(-1)\n",
    "s_y_ext = np.insert(s_y_ext, 0, s.bound_v)\n",
    "\n",
    "p_y_ext = np.append(p.v.reshape((prop.nx, prop.ny)), p_b_test_y, axis=0)\n",
    "p_y_ext = p_y_ext.T.reshape(-1)\n",
    "p_y_ext = np.insert(p_y_ext, 0, p.bound_v)\n",
    "\n",
    "out_y = np.zeros((prop.nx + 1) * prop.ny)\n",
    "\n",
    "for i in range(len(p_y_ext) - 1):\n",
    "    if p_y_ext[i] >= p_y_ext[i + 1]:\n",
    "        out_y[i] = s_y_ext[i]\n",
    "    elif p_y_ext[i] <= p_y_ext[i + 1]:\n",
    "        out_y[i] = s_y_ext[i + 1]\n",
    "    \n",
    "k_rel_y = prop.k_rel_ph_1val_np(out_y, ph)\n",
    "sigma = min(sigma, k_rel_y.max())\n",
    "# k_rel_w_y = [f(1 - s_o) for s_o in out_y] # consuming\n",
    "\n",
    "# let's go diagonals\n",
    "# main is first\n",
    "# for x we need to drop first and last col\n",
    "main_dia = np.zeros(prop.nx * prop.ny)\n",
    "main_dia += np.delete(k_rel_x.reshape((prop.nx, prop.ny + 1)), obj=-1, axis=1).reshape(-1)\n",
    "main_dia += np.delete(k_rel_x.reshape((prop.nx, prop.ny + 1)), obj=0, axis=1).reshape(-1)\n",
    "\n",
    "main_dia += np.delete(k_rel_y.reshape((prop.ny, prop.nx + 1)), obj=-1, axis=1).T.reshape(-1)\n",
    "main_dia += np.delete(k_rel_y.reshape((prop.ny, prop.nx + 1)), obj=0, axis=1).T.reshape(-1)\n",
    "\n",
    "close_dia = k_rel_x.reshape((prop.nx, prop.ny + 1))\n",
    "close_dia = np.delete(close_dia, obj=-1, axis=1)\n",
    "close_dia = close_dia.reshape(-1)\n",
    "close_dia *= prop.mask_close\n",
    "\n",
    "dist_dia = k_rel_y.reshape((prop.ny, prop.nx + 1))\n",
    "dist_dia = np.delete(dist_dia, obj=-1, axis=1)\n",
    "dist_dia = np.delete(dist_dia, obj=0, axis=1)\n",
    "dist_dia = dist_dia.T.reshape(-1)\n",
    "    \n",
    "lapl = scipy.sparse.diags(diagonals=[dist_dia, close_dia[1:],\n",
    "                                     -1 * main_dia,\n",
    "                                     close_dia[1:], dist_dia\n",
    "                                    ],\n",
    "                          offsets=[-1 * prop.ny, -1, 0, 1, prop.ny])  # .toarray()\n",
    "lapl *= prop.k * prop.d * prop.dy / prop.mu[ph] / prop.dx\n",
    "sigma *= prop.k * prop.d * prop.dy / prop.mu[ph] / prop.dx"
   ]
  },
  {
   "cell_type": "code",
   "execution_count": 108,
   "metadata": {},
   "outputs": [
    {
     "name": "stdout",
     "output_type": "stream",
     "text": [
      "359 µs ± 950 ns per loop (mean ± std. dev. of 7 runs, 1000 loops each)\n"
     ]
    }
   ],
   "source": [
    "%%timeit\n",
    "for i in range(len(p_y_ext) - 1):\n",
    "    if p_y_ext[i] >= p_y_ext[i + 1]:\n",
    "        out_y[i] = s_y_ext[i]\n",
    "    elif p_y_ext[i] <= p_y_ext[i + 1]:\n",
    "        out_y[i] = s_y_ext[i + 1]"
   ]
  },
  {
   "cell_type": "code",
   "execution_count": 30,
   "metadata": {},
   "outputs": [],
   "source": [
    "sat_a = np.linspace(0, 1, 100)"
   ]
  },
  {
   "cell_type": "code",
   "execution_count": 32,
   "metadata": {},
   "outputs": [],
   "source": [
    "def get_s_wn_ph_np(prop, sat_arr):\n",
    "    out = sat_arr - prop.s_wir\n",
    "    out /= (prop.s_wor - prop.s_wir)\n",
    "    out = np.where(out >= 0, out, 0)\n",
    "    out = np.where(out < 1, out, 1)    \n",
    "    return out"
   ]
  },
  {
   "cell_type": "code",
   "execution_count": 51,
   "metadata": {},
   "outputs": [],
   "source": [
    "def k_rel_w_np(prop, sat_arr):\n",
    "    s_wn = get_s_wn_ph_np(prop, sat_arr)\n",
    "    out = s_wn ** prop.l_w * prop.k_rwr\n",
    "    out /= s_wn ** prop.l_w + prop.e_w * (1 - s_wn) ** prop.t_w\n",
    "    return out"
   ]
  },
  {
   "cell_type": "code",
   "execution_count": 52,
   "metadata": {},
   "outputs": [
    {
     "data": {
      "text/plain": [
       "[<matplotlib.lines.Line2D at 0x176ee785880>]"
      ]
     },
     "execution_count": 52,
     "metadata": {},
     "output_type": "execute_result"
    },
    {
     "data": {
      "image/png": "[encoded data removed]",
      "text/plain": [
       "<Figure size 432x288 with 1 Axes>"
      ]
     },
     "metadata": {
      "needs_background": "light"
     },
     "output_type": "display_data"
    }
   ],
   "source": [
    "plt.plot(sat_a, k_rel_w_np(prop, sat_a))"
   ]
  },
  {
   "cell_type": "code",
   "execution_count": 53,
   "metadata": {},
   "outputs": [],
   "source": [
    "def k_rel_o_np(prop, s_o):\n",
    "    s_w = 1 - s_o\n",
    "    s_wn = get_s_wn_ph_np(prop, s_w)\n",
    "    out = prop.k_rot * (1 - s_wn) ** prop.l_o\n",
    "    out /= (1 - s_wn) ** prop.l_o + prop.e_o * s_wn ** prop.t_o\n",
    "    return out"
   ]
  },
  {
   "cell_type": "code",
   "execution_count": 54,
   "metadata": {},
   "outputs": [
    {
     "data": {
      "text/plain": [
       "[<matplotlib.lines.Line2D at 0x176ee7d6e20>]"
      ]
     },
     "execution_count": 54,
     "metadata": {},
     "output_type": "execute_result"
    },
    {
     "data": {
      "image/png": "[encoded data removed]",
      "text/plain": [
       "<Figure size 432x288 with 1 Axes>"
      ]
     },
     "metadata": {
      "needs_background": "light"
     },
     "output_type": "display_data"
    }
   ],
   "source": [
    "plt.plot(sat_a, k_rel_o_np(prop, sat_a))"
   ]
  },
  {
   "cell_type": "code",
   "execution_count": 68,
   "metadata": {},
   "outputs": [],
   "source": [
    "def k_rel_ph_1val_np(prop, s_arr, ph):\n",
    "    out = None\n",
    "    if ph == 'o':\n",
    "        out = k_rel_o_np(prop, s_arr)\n",
    "    elif ph == 'w':\n",
    "        out = k_rel_w_np(prop, s_arr)\n",
    "    return out"
   ]
  },
  {
   "cell_type": "code",
   "execution_count": 60,
   "metadata": {},
   "outputs": [],
   "source": [
    "ph = 'o'"
   ]
  },
  {
   "cell_type": "code",
   "execution_count": 61,
   "metadata": {},
   "outputs": [
    {
     "name": "stdout",
     "output_type": "stream",
     "text": [
      "2.86 ms ± 8.54 µs per loop (mean ± std. dev. of 7 runs, 100 loops each)\n"
     ]
    }
   ],
   "source": [
    "%%timeit\n",
    "k_rel_y = np.array([prop.k_rel_ph_1val(s_o, ph) for s_o in np.random.rand(25 * 25)])  # consuming\n",
    "k_rel_y = np.array([prop.k_rel_ph_1val(s_o, ph) for s_o in np.random.rand(25 * 25)])  # consuming"
   ]
  },
  {
   "cell_type": "code",
   "execution_count": 69,
   "metadata": {},
   "outputs": [
    {
     "name": "stdout",
     "output_type": "stream",
     "text": [
      "58.5 µs ± 94.4 ns per loop (mean ± std. dev. of 7 runs, 10000 loops each)\n"
     ]
    }
   ],
   "source": [
    "%%timeit\n",
    "k_rel_y = k_rel_ph_1val_np(prop, np.random.rand(25 * 25), ph)  # consuming\n",
    "k_rel_y = k_rel_ph_1val_np(prop, np.random.rand(25 * 25), ph)  # consuming"
   ]
  },
  {
   "cell_type": "code",
   "execution_count": 31,
   "metadata": {},
   "outputs": [],
   "source": [
    "from multiprocessing import Pool\n",
    "from functools import partial"
   ]
  },
  {
   "cell_type": "code",
   "execution_count": 32,
   "metadata": {},
   "outputs": [],
   "source": [
    "k_rel_fix_ph = partial(prop.k_rel_ph_1val, ph=ph)"
   ]
  },
  {
   "cell_type": "code",
   "execution_count": 33,
   "metadata": {},
   "outputs": [
    {
     "name": "stdout",
     "output_type": "stream",
     "text": [
      "1.44 s ± 130 ms per loop (mean ± std. dev. of 7 runs, 1 loop each)\n"
     ]
    }
   ],
   "source": [
    "%%timeit\n",
    "p = Pool(6)\n",
    "pool_res = p.map_async(k_rel_fix_ph, np.random.rand(int(1e5)))\n",
    "pool_res.wait()\n",
    "a = pool_res.get()"
   ]
  },
  {
   "cell_type": "code",
   "execution_count": 34,
   "metadata": {},
   "outputs": [
    {
     "name": "stdout",
     "output_type": "stream",
     "text": [
      "1.07 s ± 45.9 ms per loop (mean ± std. dev. of 7 runs, 1 loop each)\n"
     ]
    }
   ],
   "source": [
    "%%timeit\n",
    "p = Pool(3)\n",
    "pool_res = p.map_async(k_rel_fix_ph, np.random.rand(int(1e5)))\n",
    "pool_res.wait()\n",
    "a = pool_res.get()"
   ]
  },
  {
   "cell_type": "code",
   "execution_count": null,
   "metadata": {},
   "outputs": [],
   "source": [
    "for i in tqdm(range(1, 100)):\n",
    "    dt_comp_sat = (dx * dy * d *(s_o.v) * c_o + s_w.v * c_w + nxny_ones * c_r)\n",
    "    _ = get_q_bound(p, s_w, 'w', prop, q_b=q_bound_w)\n",
    "    _ = get_q_bound(p, s_o, 'o', prop, q_b=q_bound_w)"
   ]
  },
  {
   "cell_type": "code",
   "execution_count": null,
   "metadata": {},
   "outputs": [],
   "source": [
    "a = phi * scipy.sparse.diags(diagonals=[dt_comp_sat.reshape(-1)],\n",
    "                              offsets=[0])\n",
    "a = a - (l_o[0] + l_w[0]) * dt\n",
    "b = phi * dt_comp_sat * p.v + q_bound_w*dt + q_bound_o*dt \n",
    "b += (j_o * B_o + j_w * B_w) * delta_p_vec * dt\n",
    "for i in tqdm(range(1, 1000)):\n",
    "    p_new = scipy.sparse.linalg.spsolve(a, b)"
   ]
  },
  {
   "cell_type": "code",
   "execution_count": null,
   "metadata": {},
   "outputs": [],
   "source": [
    "p_new.shape"
   ]
  },
  {
   "cell_type": "code",
   "execution_count": null,
   "metadata": {},
   "outputs": [],
   "source": [
    "a = phi * scipy.sparse.diags(diagonals=[dt_comp_sat.reshape(-1)],\n",
    "                              offsets=[0])\n"
   ]
  },
  {
   "cell_type": "code",
   "execution_count": null,
   "metadata": {},
   "outputs": [],
   "source": [
    "type(l_w[0])"
   ]
  },
  {
   "cell_type": "code",
   "execution_count": null,
   "metadata": {},
   "outputs": [],
   "source": [
    "type(a + l_w[0])"
   ]
  },
  {
   "cell_type": "code",
   "execution_count": null,
   "metadata": {},
   "outputs": [],
   "source": [
    "lapl_o.dot(p_new)"
   ]
  },
  {
   "cell_type": "code",
   "execution_count": null,
   "metadata": {},
   "outputs": [],
   "source": [
    "for i in tqdm(range(1, 1000)):\n",
    "    a = dx*dy*d * phi *(nxny_ones + (c_r + c_o) * (p_new - p.v))\n",
    "    b = phi * dx*dy*d * s_o.v + dt * (lapl_o.dot(p_new) + q_bound_o + j_o * B_o * delta_p_vec)"
   ]
  },
  {
   "cell_type": "code",
   "execution_count": null,
   "metadata": {},
   "outputs": [],
   "source": [
    "a = dx*dy*d * phi *(nxny_ones + (c_r + c_o) * (p_new - p.v))\n",
    "b = phi * dx*dy*d * s_o.v + dt * (lapl_o.dot(p_new) + q_bound_o + j_o * B_o * delta_p_vec)\n",
    "for i in tqdm(range(1, 1000)):\n",
    "    s_o = ResState((b / a), s_b, prop) \n",
    "    s_w = ResState(nxny_ones - s_o.v, 1 - s_b, prop) \n",
    "    p = ResState(p_new, p_0, prop)"
   ]
  }
 ],
 "metadata": {
  "kernelspec": {
   "display_name": "Python 3",
   "language": "python",
   "name": "python3"
  },
  "language_info": {
   "codemirror_mode": {
    "name": "ipython",
    "version": 3
   },
   "file_extension": ".py",
   "mimetype": "text/x-python",
   "name": "python",
   "nbconvert_exporter": "python",
   "pygments_lexer": "ipython3",
   "version": "3.8.6"
  }
 },
 "nbformat": 4,
 "nbformat_minor": 4
}
