{
 "cells": [
  {
   "cell_type": "markdown",
   "metadata": {},
   "source": [
    "В этом ноутбуке начинаю с `1d` модели c одной жидкостью\n",
    "## Ещё раз напишу теорию\n",
    "Вообще тут всего 2 больших закона: сохранения массы и Дарси\n",
    "\n",
    "$$q = \\alpha A \\frac{k}{\\mu}\\frac{\\partial p}{\\partial x}$$ где $A$ - прощадь, $\\alpha$ - коэффициент перевода единиц\n",
    "$$\\frac{\\partial}{\\partial t} (\\phi \\rho ) = - \\nabla (\\rho v)$$\n",
    "\n",
    "Скорость течения связана с расходом: $V = \\frac{q}{A} $.\n",
    "Получается что \n",
    "$$\\frac{\\partial}{\\partial x}\\big(\\rho \\frac{k_x}{\\mu} \\frac{\\partial p}{\\partial x}\\big)\n",
    "+ \\frac{\\partial}{\\partial y}\\big(\\rho \\frac{k_y}{\\mu} \\frac{\\partial p}{\\partial y}\\big)\n",
    "+ \\frac{\\partial}{\\partial z}\\big(\\rho \\frac{k_z}{\\mu} \\frac{\\partial p}{\\partial z}\\big)\n",
    "=\\frac{1}{\\alpha}\\frac{\\partial}{\\partial t}(\\phi \\rho)\n",
    "$$\n",
    "\n",
    "Сразу, на будующее, добавим в это уравнение возможность добавить $q$ от шахты.\n",
    "\n",
    "$$\\frac{\\partial}{\\partial x}\\big(\\rho \\frac{k_x A_x}{\\mu B} \\frac{\\partial p}{\\partial x}\\big) \\Delta x\n",
    "+ \\frac{\\partial}{\\partial y}\\big(\\rho \\frac{k_y A_y}{\\mu B} \\frac{\\partial p}{\\partial y}\\big) \\Delta y\n",
    "+ \\frac{\\partial}{\\partial z}\\big(\\rho \\frac{k_z A_z}{\\mu B} \\frac{\\partial p}{\\partial z}\\big) \\Delta z\n",
    "+ q\n",
    "=\\frac{V_b}{\\alpha}\\frac{\\partial}{\\partial t}\\big(\\frac{\\phi}{B}\\big)\n",
    "$$ где $V_b$ - объём ячейки\n",
    "\n",
    "Для слабо сжимаемой жидкости $\\frac{\\partial}{\\partial t}\\big(\\frac{\\phi}{B}\\big) = \\phi c \\frac{\\partial p}{\\partial t}$\n",
    "где $c$ - сжимаемость\n",
    "\n",
    "Итого:\n",
    "$$\\frac{\\partial}{\\partial x}\\big(\\frac{k_x A_x}{\\mu B} \\frac{\\partial p}{\\partial x}\\big) \\Delta x\n",
    "+ \\frac{\\partial}{\\partial y}\\big(\\frac{k_y A_y}{\\mu B} \\frac{\\partial p}{\\partial y}\\big) \\Delta y\n",
    "+ \\frac{\\partial}{\\partial z}\\big(\\frac{k_z A_z}{\\mu B} \\frac{\\partial p}{\\partial z}\\big) \\Delta z\n",
    "+ q\n",
    "=\\frac{V_b \\phi c }{\\alpha}\\frac{\\partial p}{\\partial t}\n",
    "$$"
   ]
  },
  {
   "cell_type": "markdown",
   "metadata": {},
   "source": [
    "$$\\frac{\\partial}{\\partial x}\\big(\\frac{ k A}{\\mu B} \\frac{\\partial p}{\\partial x}\\big) \\Delta x + q_i\n",
    "= \\frac{\\partial}{\\partial x}\\big(\\frac{ k_{i+\\frac{1}{2}} A}{\\mu B} \\frac{p_{i+1} - p_{i}}{\\Delta x}\\big) \\Delta x + q_i=\n",
    "\\\\\n",
    "\\Big(\\frac{k_{i+\\frac{1}{2}} A}{\\mu B} \\frac{p_{i+1} - p_{i}}{\\Delta x}\n",
    "-\\frac{ k_{i-\\frac{1}{2}} A}{\\mu B} \\frac{p_{i} - p_{i-1}}{\\Delta x}\\Big) + q_i\n",
    "= \\frac{p^{n+1}_i - p^{n}_i}{\\Delta t} \\frac{V_b \\phi c}{\\alpha}\n",
    "$$\n",
    "Перепишем приближение лапласиана в таком порядке, чтобы сразу стало понятно как писать матрицу для обновления давления\n",
    "\n",
    "$$\\frac{1}{\\mu B }\\Big(\\frac{k_{i-\\frac{1}{2}} A_{i-\\frac{1}{2}}}{\\Delta x_{i-\\frac{1}{2}}}p_{i-1}\n",
    "- \\big( \\frac{k_{i+\\frac{1}{2}} A_{i+\\frac{1}{2}}}{\\Delta x_{i+\\frac{1}{2}}} + \\frac{k_{i-\\frac{1}{2}} A_{i-\\frac{1}{2}}}{\\Delta x_{i-\\frac{1}{2}}}\\big)p_{i}\n",
    "+\\frac{k_{i+\\frac{1}{2}} A_{i+\\frac{1}{2}}}{\\Delta x_{i+\\frac{1}{2}}}p_{i+1}\\Big) + q_i\n",
    "= \\frac{p^{n+1}_i - p^{n}_i}{\\Delta t} \\frac{V_b \\phi c}{\\alpha}\n",
    "$$"
   ]
  },
  {
   "cell_type": "markdown",
   "metadata": {},
   "source": [
    "В 1D случае когда удем расчитывать для `i=0` возникнет $p_{-1}$. С этим нужно бороться, исходя из начальных условий. Тоесть добавлять к $\\vec{q}$ поправку. Тоесть, перепишу\n",
    "$$\\frac{1}{\\mu B}\\Big(\\frac{k_{-\\frac{1}{2}} A_{-\\frac{1}{2}}}{\\Delta x_{-\\frac{1}{2}}}p_{-1}\n",
    "- \\big( \\frac{k_{\\frac{1}{2}} A_{\\frac{1}{2}}}{\\Delta x_{\\frac{1}{2}}} + \\frac{k_{-\\frac{1}{2}} A_{-\\frac{1}{2}}}{\\Delta x_{-\\frac{1}{2}}}\\big)p_{0}\n",
    "+\\frac{k_{\\frac{1}{2}} A_{\\frac{1}{2}}}{\\Delta x_{\\frac{1}{2}}}p_{1}\\Big) + q_0\n",
    "= \\frac{p^{n+1}_0 - p^{n}_0}{\\Delta t} \\frac{V_b \\phi c}{\\alpha}\n",
    "$$\n",
    "Получается $\\tilde{q}_0 = q_0 + \\frac{1}{\\mu B}\\frac{k_{-\\frac{1}{2}} A_{-\\frac{1}{2}}}{\\Delta x_{-\\frac{1}{2}}}p_{-1}$, где $p_{-1}$ например определяется из граничных условий.\n"
   ]
  },
  {
   "cell_type": "markdown",
   "metadata": {},
   "source": [
    "## Решаем задачу\n",
    "\n",
    "Мы, значит, оставляем 1d и решаем \"уже решенню задачу\", как решено [здесь](https://johnfoster.pge.utexas.edu/PGE323M-ResEngineeringIII/course-mat/) "
   ]
  },
  {
   "cell_type": "code",
   "execution_count": 29,
   "metadata": {},
   "outputs": [],
   "source": [
    "import numpy as np\n",
    "import matplotlib.pyplot as plt\n",
    "from IPython import display"
   ]
  },
  {
   "cell_type": "markdown",
   "metadata": {},
   "source": [
    "Зафиксируем постоянные пористость, и проводимость. Поскольку все единицы будут в СИ, то $\\alpha = 1$"
   ]
  },
  {
   "cell_type": "code",
   "execution_count": 30,
   "metadata": {},
   "outputs": [],
   "source": [
    "k = 1e-1 * 1.987e-13  # 1 darcy to m^2\n",
    "dx = 1 # m\n",
    "dy = 5 # m\n",
    "c = 15.8e-10 # # Pa^-1\n",
    "phi = 0.4\n",
    "B = 1\n",
    "mu = 2.9e-4  # m^2 / s\n",
    "p_0 = 4e4 * 6894  # psi to Pa\n",
    "p_1 = 4.1e4 * 6894  # psi to Pa\n",
    "p_2 = 3.9e4 * 6894  # psi to Pa\n",
    "nx = 15\n",
    "d = 3  # m\n",
    "dt = 1  # s"
   ]
  },
  {
   "cell_type": "markdown",
   "metadata": {},
   "source": [
    "Получается, теперь нужно собрать матрицу для подсчёта лапласиана в каждой точке."
   ]
  },
  {
   "cell_type": "code",
   "execution_count": 31,
   "metadata": {},
   "outputs": [],
   "source": [
    "lapl = np.zeros((nx, nx))\n",
    "for dia in range(nx):\n",
    "    lapl[dia, dia] = -2 * k * d * dy / dx\n",
    "    if dia-1 >= 0:\n",
    "        lapl[dia, dia-1] = k * d * dy / dx\n",
    "    if dia+1 < nx:\n",
    "        lapl[dia, dia+1] = k * d * dy / dx\n",
    "lapl *= 1 / (mu * B)"
   ]
  },
  {
   "cell_type": "markdown",
   "metadata": {},
   "source": [
    "Теперь конструируем вектор $\\tilde{q}$"
   ]
  },
  {
   "cell_type": "code",
   "execution_count": 32,
   "metadata": {},
   "outputs": [],
   "source": [
    "q_tilde = np.zeros((nx, 1))\n",
    "q_tilde[0] = 1 / (mu * B) * k * dy * d / dx * p_1\n",
    "q_tilde[nx-1] = 1 / (mu * B) * k * dy * d / dx * p_2"
   ]
  },
  {
   "cell_type": "markdown",
   "metadata": {},
   "source": [
    "И запихнём всё в коэффициент что перед производной по врмени"
   ]
  },
  {
   "cell_type": "code",
   "execution_count": 33,
   "metadata": {},
   "outputs": [],
   "source": [
    "dt_coeff = dx * dy * d * phi * c / dt"
   ]
  },
  {
   "cell_type": "markdown",
   "metadata": {},
   "source": [
    "$$\\texttt{Lapl} \\cdot \\vec{p^n} + \\vec{\\tilde{q}} = \\texttt{dt_coeff} \\cdot (\\vec{p^{n+1}} - \\vec{p^{n}})\\\\\n",
    "\\vec{p^{n+1}} = \\vec{p^{n}} + \\frac{1}{\\texttt{dt_coeff}} \\cdot\\Big( \\texttt{Lapl} \\cdot \\vec{p^n} + \\vec{\\tilde{q}} \\Big)\n",
    "$$"
   ]
  },
  {
   "cell_type": "markdown",
   "metadata": {},
   "source": [
    "Пока у нас есть численное решение. Перепишем аналитическое решение.\n",
    "\n",
    "$$ \\frac{\\partial }{\\partial t} p= \\frac{1}{\\alpha} \\Delta p\\\\\n",
    "p(x, 0) = p_0,\\ p(0, t)=p_1,\\ p(L, t) = p_2\\\\\n",
    "p(x, t) = \\frac{p_2 - p_1}{L}x + p_1 + \\sum_{k=1}^{\\inf}-2\\frac{e^{-\\frac{\\pi^2 t k^2}{L^2 \\alpha}}\\Big(p_1 + (-1)^{k+1}p_2 + \\big(-1 + (-1)^{k}\\big)p_0\\Big)\\sin(\\frac{\\pi x k}{L})}{\\pi k}$$"
   ]
  },
  {
   "cell_type": "markdown",
   "metadata": {},
   "source": [
    "А как же выражается $\\alpha$?\n",
    "\n",
    "$\\alpha = \\frac{\\mu B \\phi c}{k}$"
   ]
  },
  {
   "cell_type": "code",
   "execution_count": 34,
   "metadata": {},
   "outputs": [
    {
     "data": {
      "text/plain": [
       "9.223955712128838"
      ]
     },
     "execution_count": 34,
     "metadata": {},
     "output_type": "execute_result"
    }
   ],
   "source": [
    "alpha_analit = mu * B * phi * c / k\n",
    "alpha_analit"
   ]
  },
  {
   "cell_type": "code",
   "execution_count": 35,
   "metadata": {},
   "outputs": [],
   "source": [
    "def accurate_solution(x, t, alpha, L, p_0, p_1, p_2, n=1000):\n",
    "    out = p_1 + (p_2 - p_1) * x / L\n",
    "    for k in range(1, n+1):\n",
    "        adj = -2. * np.exp((-1. * np.pi * np.pi * t * k * k) / (L * L * alpha))\n",
    "        adj *= (p_1 - (-1.)**k * p_2 + (-1. + (-1.)**k)*p_0)\n",
    "        adj *= np.sin(np.pi * x * k / L)\n",
    "        adj /= np.pi\n",
    "        adj /= k\n",
    "        out += adj\n",
    "    return out"
   ]
  },
  {
   "cell_type": "markdown",
   "metadata": {},
   "source": [
    "Ну и будем строить"
   ]
  },
  {
   "cell_type": "code",
   "execution_count": 36,
   "metadata": {},
   "outputs": [
    {
     "data": {
      "image/png": "[encoded data removed]",
      "text/plain": [
       "<Figure size 432x288 with 1 Axes>"
      ]
     },
     "metadata": {
      "needs_background": "light"
     },
     "output_type": "display_data"
    }
   ],
   "source": [
    "n_iter = int(1e3)\n",
    "p = np.ones((nx, 1)) * p_0\n",
    "t = 0\n",
    "xs = list(np.linspace(0, nx-1, nx) * dx * 1.01)\n",
    "for i in range(1, n_iter):\n",
    "    p = p + 1 / dt_coeff * (lapl.dot(p) + q_tilde)\n",
    "    t += dt\n",
    "    p_analit = [accurate_solution(x, t, alpha_analit, (nx-1)*dx, p_0, p_1, p_2) / 6894. for x in xs]\n",
    "    display.clear_output(wait=True)\n",
    "    plt.plot(p / 6894, label=f'numerical solution')\n",
    "    plt.plot(p_analit, label=f'analitical solution')\n",
    "    plt.legend()\n",
    "    plt.show()"
   ]
  }
 ],
 "metadata": {
  "kernelspec": {
   "display_name": "Python 3",
   "language": "python",
   "name": "python3"
  }
 },
 "nbformat": 4,
 "nbformat_minor": 4
}
