{
 "cells": [
  {
   "cell_type": "markdown",
   "metadata": {},
   "source": [
    "Имея решение `1d`  задачи для двух жидкостей, можем получить `2d` решение"
   ]
  },
  {
   "cell_type": "code",
   "execution_count": 1,
   "metadata": {},
   "outputs": [],
   "source": [
    "import numpy as np\n",
    "import matplotlib.pyplot as plt\n",
    "import seaborn as sns\n",
    "\n",
    "from IPython import display"
   ]
  },
  {
   "cell_type": "code",
   "execution_count": 2,
   "metadata": {},
   "outputs": [],
   "source": [
    "def two_dim_index_to_one(i: int, j: int, ny: int) -> int:\n",
    "    return ny * i + j\n",
    "def one_d_index_to_two(one_d: int, ny: int):\n",
    "    i = int(one_d / ny)\n",
    "    j = one_d % ny\n",
    "    return i, j"
   ]
  },
  {
   "cell_type": "code",
   "execution_count": 3,
   "metadata": {},
   "outputs": [],
   "source": [
    "nx = 25\n",
    "ny = 25\n",
    "k = 1e-1 * 1.987e-13  # 1 darcy to m^2\n",
    "dx = 3 # m\n",
    "dy = 3 # m\n",
    "phi = 0.4\n",
    "p_0 = 150 * 10 ** 5  # psi to Pa\n",
    "d = 10  # m\n",
    "dt = 30  # s\n",
    "s_0 = 0.4\n",
    "s_b = 0.1\n",
    "p = np.ones((nx*ny, 1)) * p_0\n",
    "s_o = np.ones((nx*ny, 1)) * s_0\n",
    "s_w = np.ones((nx*ny, 1))* (1 - s_0)"
   ]
  },
  {
   "cell_type": "markdown",
   "metadata": {},
   "source": [
    "Перейдём к сжимаемости для [rock](https://www.sciencedirect.com/topics/engineering/formation-compressibility), [water and oil](http://www.fekete.com/san/webhelp/feketeharmony/harmony_webhelp/content/html_files/reference_material/general_concepts/reservoir_properties.htm)"
   ]
  },
  {
   "cell_type": "code",
   "execution_count": 4,
   "metadata": {},
   "outputs": [],
   "source": [
    "c_w = 1e-6 # # Pa^-1\n",
    "c_o = 1e-6 # # Pa^-1\n",
    "c_r = 3e-6 #  Pa^-1 "
   ]
  },
  {
   "cell_type": "markdown",
   "metadata": {},
   "source": [
    "Также различаются вязкости [oil](https://petrowiki.org/Oil_viscosity) и [water](http://fekete.com/SAN/TheoryAndEquations/HarmonyTheoryEquations/Content/HTML_Files/Reference_Material/General_Concepts/Reservoir_Fluid_Properties.htm)"
   ]
  },
  {
   "cell_type": "code",
   "execution_count": 5,
   "metadata": {},
   "outputs": [],
   "source": [
    "B_o = 1\n",
    "B_w = 1\n",
    "mu_o = 15 / 1000 # cp to Pa * s\n",
    "mu_w = 1 / 1000 # cp to Pa * s"
   ]
  },
  {
   "cell_type": "markdown",
   "metadata": {},
   "source": [
    "Такс, вводим гиперпараметры для относитльной проницаемости"
   ]
  },
  {
   "cell_type": "code",
   "execution_count": 6,
   "metadata": {},
   "outputs": [],
   "source": [
    "l_w = 2.\n",
    "l_o = 2.\n",
    "s_wir = 0.2\n",
    "s_wor = 0.8\n",
    "k_rwr = 0.1\n",
    "k_rot = 1.\n",
    "e_w = 1.\n",
    "e_o = 1.\n",
    "t_w = 2.\n",
    "t_o = 2."
   ]
  },
  {
   "cell_type": "markdown",
   "metadata": {},
   "source": [
    "Запихнём всю эту информацию в специальный класс"
   ]
  },
  {
   "cell_type": "code",
   "execution_count": 7,
   "metadata": {},
   "outputs": [
    {
     "data": {
      "text/plain": [
       "<module 'res_properties' from 'C:\\\\Users\\\\PC\\\\Documents\\\\SLB\\\\01_Reservoir_model_master\\\\now_do_simple_models\\\\res_properties.py'>"
      ]
     },
     "execution_count": 7,
     "metadata": {},
     "output_type": "execute_result"
    }
   ],
   "source": [
    "import res_properties\n",
    "import imp\n",
    "imp.reload(res_properties)"
   ]
  },
  {
   "cell_type": "code",
   "execution_count": 8,
   "metadata": {},
   "outputs": [],
   "source": [
    "prop = res_properties.Properties(nx=nx, ny=ny, k=k, dx=dx, dy=dy, phi=phi, p_0=p_0, d=d, dt=dt, s_0=s_0,\n",
    "                 c_w=c_w, c_o=c_w, c_r=c_r, mu_w=mu_w, mu_o=mu_o, b_o=B_o, b_w=B_w, l_w=l_w, l_o=l_o,\n",
    "                 s_wir=s_wir, s_wor=s_wor, k_rwr=k_rwr, k_rot=k_rot, e_w=e_w, e_o=e_o, t_w=t_w, t_o=t_o)"
   ]
  },
  {
   "cell_type": "code",
   "execution_count": 9,
   "metadata": {},
   "outputs": [
    {
     "data": {
      "image/png": "[encoded data removed]",
      "text/plain": [
       "<Figure size 432x288 with 1 Axes>"
      ]
     },
     "metadata": {
      "needs_background": "light"
     },
     "output_type": "display_data"
    }
   ],
   "source": [
    "ss = np.linspace(0, 1, 200)\n",
    "k_rels_w = [prop.k_rel_w(1-s) for s in ss]\n",
    "k_rels_o = [prop.k_rel_o(s) for s in ss]\n",
    "plt.plot(ss, k_rels_w, label='water')\n",
    "plt.plot(ss, k_rels_o, label='oil')\n",
    "plt.xlabel('S oil')\n",
    "plt.ylabel(\"k relative\")\n",
    "plt.title('Relative permeability')\n",
    "plt.legend()\n",
    "plt.show()"
   ]
  },
  {
   "cell_type": "code",
   "execution_count": 10,
   "metadata": {},
   "outputs": [],
   "source": [
    "from reservoir import ResState"
   ]
  },
  {
   "cell_type": "code",
   "execution_count": 11,
   "metadata": {},
   "outputs": [],
   "source": [
    "p = ResState(p, p_0, prop)\n",
    "s_o = ResState(s_o, s_b, prop)\n",
    "s_w = ResState(s_w, 1 - s_b, prop)"
   ]
  },
  {
   "cell_type": "markdown",
   "metadata": {},
   "source": [
    "Дальше немного сложенее - теперь нужно вводить межблочную относительную проницаемость\n",
    "\n",
    "Раньше `i` и `j` это номера соседних ячеек по единственной оси.\n",
    "Теперь это будет номер \"межблока\", например (0.5, 1).\n",
    "Это всё реализованно в свойствах резервуара"
   ]
  },
  {
   "cell_type": "markdown",
   "metadata": {},
   "source": [
    "Небольшие изменения потерпит матарица, отвечающая за лапласиан"
   ]
  },
  {
   "cell_type": "code",
   "execution_count": 12,
   "metadata": {},
   "outputs": [],
   "source": [
    "from reservoir import get_lapl_one_ph"
   ]
  },
  {
   "cell_type": "code",
   "execution_count": 13,
   "metadata": {},
   "outputs": [],
   "source": [
    "lapl_w = get_lapl_one_ph(p=p, s=s_w, ph='w', prop=prop)\n",
    "lapl_o = get_lapl_one_ph(p=p, s=s_o, ph='o', prop=prop)"
   ]
  },
  {
   "cell_type": "markdown",
   "metadata": {},
   "source": [
    "Также изменился вектор для граничных условий"
   ]
  },
  {
   "cell_type": "code",
   "execution_count": 14,
   "metadata": {},
   "outputs": [],
   "source": [
    "from reservoir import get_q_bound"
   ]
  },
  {
   "cell_type": "code",
   "execution_count": 15,
   "metadata": {},
   "outputs": [],
   "source": [
    "q_bound_w = get_q_bound(p, s_w, 'w', prop)\n",
    "q_bound_o = get_q_bound(p, s_o, 'o', prop)"
   ]
  },
  {
   "cell_type": "markdown",
   "metadata": {},
   "source": [
    "Теперь про моделирование скважины"
   ]
  },
  {
   "cell_type": "markdown",
   "metadata": {},
   "source": [
    "Закинем координаты скважин"
   ]
  },
  {
   "cell_type": "code",
   "execution_count": 16,
   "metadata": {},
   "outputs": [],
   "source": [
    "pos_r = {(12, 8): 0.1, (18, 21): 0.1}\n",
    "p_well = np.zeros((nx, ny))\n",
    "delta_p_well = -100 * 6894.\n",
    "delta_p_vec = np.ones((nx*ny, 1)) * delta_p_well"
   ]
  },
  {
   "cell_type": "code",
   "execution_count": 17,
   "metadata": {},
   "outputs": [],
   "source": [
    "from reservoir import get_j_matrix"
   ]
  },
  {
   "cell_type": "code",
   "execution_count": 18,
   "metadata": {},
   "outputs": [],
   "source": [
    "j_o = get_j_matrix(p=p, s=s_o, pos_r=pos_r, ph='o', prop=prop)\n",
    "j_w = get_j_matrix(p=p, s=s_w, pos_r=pos_r, ph='w', prop=prop)"
   ]
  },
  {
   "cell_type": "markdown",
   "metadata": {},
   "source": [
    "И последний штрих - перед производной по времени есть $V_b\\big(S_o c_o + S_w c_w  +1\\cdot c_r\\big)$. Назовём это `dt_comp_sat`"
   ]
  },
  {
   "cell_type": "markdown",
   "metadata": {},
   "source": [
    "Кстати, у нас теперь `2d` и теперь нужно делать `.reshape`"
   ]
  },
  {
   "cell_type": "code",
   "execution_count": 19,
   "metadata": {},
   "outputs": [],
   "source": [
    "dt_comp_sat = dx * dy * d *(s_o.v * c_o + s_w.v * c_w + np.ones((nx*ny, 1)) * c_r)"
   ]
  },
  {
   "cell_type": "markdown",
   "metadata": {},
   "source": [
    "Закаидываем пареметры для запуска сессии и записи истории"
   ]
  },
  {
   "cell_type": "code",
   "execution_count": 20,
   "metadata": {},
   "outputs": [],
   "source": [
    "n_iter = int(1e1)\n",
    "p_ex = np.ones((nx, 1)) * p_0\n",
    "t = 0\n",
    "xs = list((np.linspace(0, nx-1, nx) + dx/2) * dx)\n",
    "plot_freq = int(4e1)\n",
    "times = []\n",
    "p_well_hist = {}\n",
    "s_o_well_hist = {}\n",
    "q_o_hist = {}\n",
    "q_w_hist = {}\n",
    "for w in pos_r:\n",
    "    p_well_hist[w] = []\n",
    "    s_o_well_hist[w] = []\n",
    "    q_o_hist[w] = []\n",
    "    q_w_hist[w] = []"
   ]
  },
  {
   "cell_type": "code",
   "execution_count": 21,
   "metadata": {},
   "outputs": [],
   "source": [
    "from tqdm import tqdm"
   ]
  },
  {
   "cell_type": "code",
   "execution_count": 22,
   "metadata": {},
   "outputs": [
    {
     "name": "stderr",
     "output_type": "stream",
     "text": [
      "100%|██████████████████████████████████████████████████████████████████████████████████| 10/10 [00:00<00:00, 26.04it/s]"
     ]
    },
    {
     "name": "stdout",
     "output_type": "stream",
     "text": [
      "Wall time: 388 ms\n"
     ]
    },
    {
     "name": "stderr",
     "output_type": "stream",
     "text": [
      "\n"
     ]
    }
   ],
   "source": [
    "%%time\n",
    "for i in tqdm(range(1, n_iter+1)):\n",
    "    # gonna increase time step\n",
    "    # matrixes depends on saturation\n",
    "    dt_comp_sat = (dx * dy * d *(s_o.v) * c_o + s_w.v * c_w + np.ones((nx*ny, 1)) * c_r)\n",
    "    j_o = get_j_matrix(p=p, s=s_o, pos_r=pos_r, ph='o', prop=prop)\n",
    "    j_w = get_j_matrix(p=p, s=s_w, pos_r=pos_r, ph='w', prop=prop)\n",
    "    lapl_w = get_lapl_one_ph(p=p, s=s_w, ph='w', prop=prop)\n",
    "    lapl_o = get_lapl_one_ph(p=p, s=s_o, ph='o', prop=prop)\n",
    "    q_bound_w = get_q_bound(p, s_w, 'w', prop)\n",
    "    q_bound_o = get_q_bound(p, s_o, 'o', prop)\n",
    "    # matrix for implicit pressure\n",
    "    a = phi * np.eye(nx*ny) * dt_comp_sat - (lapl_w + lapl_o) * dt\n",
    "    #right hand state for ax = b\n",
    "    b = phi * dt_comp_sat * p.v + q_bound_w*dt + q_bound_o*dt \n",
    "    b += (j_o * B_o + j_w * B_w) * delta_p_vec * dt\n",
    "    # upd time stamp\n",
    "    t += dt\n",
    "    # solve p\n",
    "    p_new = np.linalg.solve(a, b)\n",
    "    dp = p_new - p.v\n",
    "    a = dx*dy*d * phi *(np.ones((nx * ny, 1)) + (c_r + c_o) * (p_new - p.v))\n",
    "    b = phi * dx*dy*d * s_o.v + dt * (lapl_o.dot(p_new) + q_bound_o + j_o * B_o * delta_p_vec)\n",
    "    # upd target values\n",
    "    s_o = ResState((b / a), s_b, prop) \n",
    "    s_w = ResState(np.ones((nx*ny, 1)) - s_o.v, 1 - s_b, prop) \n",
    "    p = ResState(p_new, p_0, prop)\n",
    "    if i % plot_freq == 0:\n",
    "        \n",
    "        q_o = ((-1) * j_o * (delta_p_vec)).reshape((nx, ny))\n",
    "        q_w = ((-1) * j_w * (delta_p_vec)).reshape((nx, ny))\n",
    "        \n",
    "        # gonna set wells as nan to see gradient\n",
    "        p_v_disp = p.v.reshape((nx, ny)).copy() / 6894.\n",
    "        s_o_disp = s_o.v.reshape((nx, ny)).copy()\n",
    "        \n",
    "        times.append(t)\n",
    "        for w in pos_r:\n",
    "            p_well_hist[w].append(p[w] / 6894.)\n",
    "            s_o_well_hist[w].append(s_o[w])\n",
    "            q_o_hist[w].append(q_o[w])\n",
    "            q_w_hist[w].append(q_w[w])\n",
    "            # set wells as nan to see gradient\n",
    "            # p_v_disp[w] = np.nan\n",
    "            # s_o_disp[w] = np.nan\n",
    "        display.clear_output(wait=True)\n",
    "        f, ax = plt.subplots(nrows=3, ncols=2, figsize=(16, 16))\n",
    "        f.tight_layout(pad=6.0)\n",
    "        \n",
    "        sns.heatmap(p_v_disp, ax=ax[0][0], cbar=True)\n",
    "        ax[0][0].set_title(f'Pressure, psi\\nt={t}\\n nan at well pos')\n",
    "        \n",
    "        sns.heatmap(s_o_disp, ax=ax[0][1], cbar=True, fmt=\".2f\")\n",
    "        ax[0][1].set_title(f'Saturation, oil, psi\\nt={t}\\n nan at well pos')\n",
    "        \n",
    "        for w in pos_r:\n",
    "            ax[1][0].plot(times, p_well_hist[w] , label=f'{w}')\n",
    "            ax[1][1].plot(times, s_o_well_hist[w] , label=f'{w}')\n",
    "            ax[2][0].plot(times, q_o_hist[w] , label=f'{w}')\n",
    "            ax[2][1].plot(times, q_w_hist[w] , label=f'{w}')\n",
    "        ax[1][0].set_xlabel('time, s')\n",
    "        ax[1][0].set_ylabel('pressure, psi')\n",
    "        ax[1][0].set_title('Pressure in wells')\n",
    "        ax[1][0].legend()\n",
    "        \n",
    "        ax[1][1].set_xlabel('time, s')\n",
    "        ax[1][1].set_ylabel('saturation')\n",
    "        ax[1][1].set_title('Oil saturation in wells')\n",
    "        ax[1][1].legend()\n",
    "        \n",
    "        ax[2][0].set_xlabel('time, s')\n",
    "        ax[2][0].set_ylabel('q, m3/s')\n",
    "        ax[2][0].set_title('Oil rate')\n",
    "        ax[2][0].legend()\n",
    "        \n",
    "        ax[2][1].set_xlabel('time, s')\n",
    "        ax[2][1].set_ylabel('q, m3/s')\n",
    "        ax[2][1].set_title('Water rate')\n",
    "        ax[2][1].legend()\n",
    "                \n",
    "        plt.show()"
   ]
  },
  {
   "cell_type": "code",
   "execution_count": 23,
   "metadata": {},
   "outputs": [],
   "source": [
    "n_iter = int(1e2)"
   ]
  },
  {
   "cell_type": "code",
   "execution_count": 46,
   "metadata": {},
   "outputs": [
    {
     "name": "stderr",
     "output_type": "stream",
     "text": [
      "100%|██████████████████████████████████████████████████████████████████████████████████| 99/99 [00:02<00:00, 41.57it/s]\n"
     ]
    }
   ],
   "source": [
    "for i in tqdm(range(1, n_iter)):\n",
    "    # gonna increase time step\n",
    "    # matrixes depends on saturation\n",
    "    dt_comp_sat = (dx * dy * d *(s_o.v) * c_o + s_w.v * c_w + np.ones((nx*ny, 1)) * c_r)\n",
    "    j_o = get_j_matrix(p=p, s=s_o, pos_r=pos_r, ph='o', prop=prop)\n",
    "    j_w = get_j_matrix(p=p, s=s_w, pos_r=pos_r, ph='w', prop=prop)\n",
    "    lapl_w = get_lapl_one_ph(p=p, s=s_w, ph='w', prop=prop)\n",
    "    lapl_o = get_lapl_one_ph(p=p, s=s_o, ph='o', prop=prop)\n",
    "    q_bound_w = get_q_bound(p, s_w, 'w', prop)\n",
    "    q_bound_o = get_q_bound(p, s_o, 'o', prop)"
   ]
  },
  {
   "cell_type": "code",
   "execution_count": 41,
   "metadata": {},
   "outputs": [
    {
     "name": "stderr",
     "output_type": "stream",
     "text": [
      "100%|██████████████████████████████████████████████████████████████████████████████████| 99/99 [00:01<00:00, 72.25it/s]\n"
     ]
    }
   ],
   "source": [
    "for i in tqdm(range(1, n_iter)):\n",
    "    a = phi * np.eye(nx*ny) * dt_comp_sat - (lapl_w + lapl_o) * dt\n",
    "    #right hand state for ax = b\n",
    "    b = phi * dt_comp_sat * p.v + q_bound_w*dt + q_bound_o*dt \n",
    "    b += (j_o * B_o + j_w * B_w) * delta_p_vec * dt\n",
    "    # upd time stamp\n",
    "    t += dt\n",
    "    # solve p\n",
    "    p_new = np.linalg.solve(a, b)\n",
    "    dp = p_new - p.v\n",
    "    a = dx*dy*d * phi *(np.ones((nx * ny, 1)) + (c_r + c_o) * (p_new - p.v))\n",
    "    b = phi * dx*dy*d * s_o.v + dt * (lapl_o.dot(p_new) + q_bound_o + j_o * B_o * delta_p_vec)\n",
    "    # upd target values\n",
    "    s_o = ResState((b / a), s_b, prop) \n",
    "    s_w = ResState(np.ones((nx*ny, 1)) - s_o.v, 1 - s_b, prop) \n",
    "    p = ResState(p_new, p_0, prop)"
   ]
  },
  {
   "cell_type": "code",
   "execution_count": 42,
   "metadata": {},
   "outputs": [
    {
     "data": {
      "text/plain": [
       "26.123893805309734"
      ]
     },
     "execution_count": 42,
     "metadata": {},
     "output_type": "execute_result"
    }
   ],
   "source": [
    "1 / (1 / 41 + 1 / 72)"
   ]
  },
  {
   "cell_type": "markdown",
   "metadata": {},
   "source": [
    "Инициализация матриц для подсчёта - самое долгое"
   ]
  },
  {
   "cell_type": "code",
   "execution_count": 26,
   "metadata": {},
   "outputs": [],
   "source": [
    "from reservoir import add_peice_of_lapl, get_lapl_one_ph_mth\n",
    "from mult_func import test_glob_mp"
   ]
  },
  {
   "cell_type": "code",
   "execution_count": 27,
   "metadata": {},
   "outputs": [],
   "source": [
    "import multiprocessing\n",
    "from multiprocessing import Array"
   ]
  },
  {
   "cell_type": "code",
   "execution_count": 28,
   "metadata": {},
   "outputs": [],
   "source": [
    "def mp_stuff(arr):\n",
    "    if __name__ == \"__main__\":\n",
    "        procs = 8   # Number of processes to create\n",
    "\n",
    "        # Create a list of jobs and then iterate through\n",
    "        # the number of processes appending each process to\n",
    "        # the job list \n",
    "        jobs = []\n",
    "        for i in range(procs):\n",
    "            process = multiprocessing.Process(target=test_glob_mp, \n",
    "                                              args=(arr, i)\n",
    "                                             )\n",
    "            jobs.append(process)\n",
    "\n",
    "        # Start the processes (i.e. calculate the random number lists)      \n",
    "        for j in jobs:\n",
    "            j.start()\n",
    "\n",
    "        # Ensure all of the processes have finished\n",
    "        for j in jobs:\n",
    "            j.join()"
   ]
  },
  {
   "cell_type": "code",
   "execution_count": 29,
   "metadata": {},
   "outputs": [],
   "source": [
    "arrr = Array('d', (prop.nx * prop.ny))"
   ]
  },
  {
   "cell_type": "code",
   "execution_count": 30,
   "metadata": {},
   "outputs": [],
   "source": [
    "lapl = get_lapl_one_ph_mth(p=p, s=s_w, ph='w', prop=prop, n_th=8)"
   ]
  },
  {
   "cell_type": "code",
   "execution_count": 31,
   "metadata": {},
   "outputs": [],
   "source": [
    "lapl_w = get_lapl_one_ph(p=p, s=s_w, ph='w', prop=prop)"
   ]
  },
  {
   "cell_type": "code",
   "execution_count": 32,
   "metadata": {},
   "outputs": [
    {
     "data": {
      "text/plain": [
       "1.590042765489649e-11"
      ]
     },
     "execution_count": 32,
     "metadata": {},
     "output_type": "execute_result"
    }
   ],
   "source": [
    "(lapl_w[2]).max()"
   ]
  },
  {
   "cell_type": "code",
   "execution_count": 34,
   "metadata": {},
   "outputs": [
    {
     "name": "stderr",
     "output_type": "stream",
     "text": [
      "100%|██████████████████████████████████████████████████████████████████████████████████| 99/99 [00:01<00:00, 92.16it/s]\n"
     ]
    }
   ],
   "source": [
    "for i in tqdm(range(1, n_iter)):\n",
    "    lapl_w = get_lapl_one_ph(p=p, s=s_w, ph='w', prop=prop)"
   ]
  },
  {
   "cell_type": "markdown",
   "metadata": {},
   "source": [
    "А теперь попробуем всё это ускорить. Использовать многопоточность не получилось, чтож, будем использовать встроеные в `numpy` функции, возможно это будет проудктивно"
   ]
  }
 ],
 "metadata": {
  "kernelspec": {
   "display_name": "Python 3",
   "language": "python",
   "name": "python3"
  },
  "language_info": {
   "codemirror_mode": {
    "name": "ipython",
    "version": 3
   },
   "file_extension": ".py",
   "mimetype": "text/x-python",
   "name": "python",
   "nbconvert_exporter": "python",
   "pygments_lexer": "ipython3",
   "version": "3.8.6"
  }
 },
 "nbformat": 4,
 "nbformat_minor": 4
}
