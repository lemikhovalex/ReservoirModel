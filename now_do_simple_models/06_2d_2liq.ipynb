{
 "cells": [
  {
   "cell_type": "markdown",
   "metadata": {},
   "source": [
    "Имея решение `1d`  задачи для двух жидкостей, можем получить `2d` решение"
   ]
  },
  {
   "cell_type": "code",
   "execution_count": 1,
   "metadata": {},
   "outputs": [],
   "source": [
    "import numpy as np\n",
    "import matplotlib.pyplot as plt\n",
    "import seaborn as sns\n",
    "from tqdm import tqdm\n",
    "import utils as u\n",
    "\n",
    "\n",
    "from IPython import display"
   ]
  },
  {
   "cell_type": "code",
   "execution_count": 2,
   "metadata": {},
   "outputs": [
    {
     "data": {
      "text/plain": [
       "<CDLL 'caffe2_nvrtc.dll', handle 7ff831630000 at 0x142fa8443a0>"
      ]
     },
     "execution_count": 2,
     "metadata": {},
     "output_type": "execute_result"
    }
   ],
   "source": [
    "import torch\n",
    "import ctypes\n",
    "ctypes.cdll.LoadLibrary('caffe2_nvrtc.dll')"
   ]
  },
  {
   "cell_type": "code",
   "execution_count": 3,
   "metadata": {},
   "outputs": [
    {
     "data": {
      "text/plain": [
       "device(type='cuda')"
      ]
     },
     "execution_count": 3,
     "metadata": {},
     "output_type": "execute_result"
    }
   ],
   "source": [
    "device = torch.device(\"cuda\" if torch.cuda.is_available() else \"cpu\")\n",
    "# device = torch.device(\"cpu\")\n",
    "dtype = torch.float64\n",
    "device"
   ]
  },
  {
   "cell_type": "code",
   "execution_count": 4,
   "metadata": {},
   "outputs": [],
   "source": [
    "def two_dim_index_to_one(i: int, j: int, ny: int) -> int:\n",
    "    return ny * i + j\n",
    "def one_d_index_to_two(one_d: int, ny: int):\n",
    "    i = int(one_d / ny)\n",
    "    j = one_d % ny\n",
    "    return i, j"
   ]
  },
  {
   "cell_type": "code",
   "execution_count": 5,
   "metadata": {},
   "outputs": [],
   "source": [
    "nx = 25\n",
    "ny = 25\n",
    "k = 1e-1 * 1.987e-13  # 1 darcy to m^2\n",
    "dx = 3 # m\n",
    "dy = 3 # m\n",
    "phi = 0.4\n",
    "p_0 = 150 * 10 ** 5  # psi to Pa\n",
    "d = 10  # m\n",
    "dt = 30  # s\n",
    "s_0 = 0.4\n",
    "s_b = 0.1\n",
    "p = torch.ones((nx*ny, 1), device=device, dtype=dtype) * p_0\n",
    "s_o = torch.ones((nx*ny, 1), device=device, dtype=dtype) * s_0\n",
    "s_w = torch.ones((nx*ny, 1), device=device, dtype=dtype)* (1 - s_0)"
   ]
  },
  {
   "cell_type": "markdown",
   "metadata": {},
   "source": [
    "Перейдём к сжимаемости для [rock](https://www.sciencedirect.com/topics/engineering/formation-compressibility), [water and oil](http://www.fekete.com/san/webhelp/feketeharmony/harmony_webhelp/content/html_files/reference_material/general_concepts/reservoir_properties.htm)"
   ]
  },
  {
   "cell_type": "code",
   "execution_count": 6,
   "metadata": {},
   "outputs": [],
   "source": [
    "c_w = 1e-6 # # Pa^-1\n",
    "c_o = 1e-6 # # Pa^-1\n",
    "c_r = 3e-6 #  Pa^-1 "
   ]
  },
  {
   "cell_type": "markdown",
   "metadata": {},
   "source": [
    "Также различаются вязкости [oil](https://petrowiki.org/Oil_viscosity) и [water](http://fekete.com/SAN/TheoryAndEquations/HarmonyTheoryEquations/Content/HTML_Files/Reference_Material/General_Concepts/Reservoir_Fluid_Properties.htm)"
   ]
  },
  {
   "cell_type": "code",
   "execution_count": 7,
   "metadata": {},
   "outputs": [],
   "source": [
    "B_o = 1\n",
    "B_w = 1\n",
    "mu_o = 15 / 1000 # cp to Pa * s\n",
    "mu_w = 1 / 1000 # cp to Pa * s"
   ]
  },
  {
   "cell_type": "markdown",
   "metadata": {},
   "source": [
    "Такс, вводим гиперпараметры для относитльной проницаемости"
   ]
  },
  {
   "cell_type": "code",
   "execution_count": 8,
   "metadata": {},
   "outputs": [],
   "source": [
    "l_w = 2.\n",
    "l_o = 2.\n",
    "s_wir = 0.2\n",
    "s_wor = 0.8\n",
    "k_rwr = 0.1\n",
    "k_rot = 1.\n",
    "e_w = 1.\n",
    "e_o = 1.\n",
    "t_w = 2.\n",
    "t_o = 2."
   ]
  },
  {
   "cell_type": "markdown",
   "metadata": {},
   "source": [
    "Запихнём всю эту информацию в специальный класс"
   ]
  },
  {
   "cell_type": "code",
   "execution_count": 9,
   "metadata": {},
   "outputs": [
    {
     "data": {
      "text/plain": [
       "<module 'res_properties' from 'C:\\\\Users\\\\PC\\\\Documents\\\\SLB\\\\01_Reservoir_model_master\\\\now_do_simple_models\\\\res_properties.py'>"
      ]
     },
     "execution_count": 9,
     "metadata": {},
     "output_type": "execute_result"
    }
   ],
   "source": [
    "import res_properties\n",
    "import imp\n",
    "imp.reload(res_properties)"
   ]
  },
  {
   "cell_type": "code",
   "execution_count": 10,
   "metadata": {},
   "outputs": [],
   "source": [
    "prop = res_properties.Properties(nx=nx, ny=ny, k=k, dx=dx, dy=dy, phi=phi, p_0=p_0, d=d, dt=dt, s_0=s_0,\n",
    "                 c_w=c_w, c_o=c_w, c_r=c_r, mu_w=mu_w, mu_o=mu_o, b_o=B_o, b_w=B_w, l_w=l_w, l_o=l_o,\n",
    "                 s_wir=s_wir, s_wor=s_wor, k_rwr=k_rwr, k_rot=k_rot, e_w=e_w, e_o=e_o, t_w=t_w, t_o=t_o)"
   ]
  },
  {
   "cell_type": "code",
   "execution_count": 11,
   "metadata": {},
   "outputs": [
    {
     "data": {
      "image/png": "[encoded data removed]",
      "text/plain": [
       "<Figure size 432x288 with 1 Axes>"
      ]
     },
     "metadata": {
      "needs_background": "light"
     },
     "output_type": "display_data"
    }
   ],
   "source": [
    "ss = np.linspace(0, 1, 200)\n",
    "k_rels_w = [prop.k_rel_w(1-s) for s in ss]\n",
    "k_rels_o = [prop.k_rel_o(s) for s in ss]\n",
    "plt.plot(ss, k_rels_w, label='water')\n",
    "plt.plot(ss, k_rels_o, label='oil')\n",
    "plt.xlabel('S oil')\n",
    "plt.ylabel(\"k relative\")\n",
    "plt.title('Relative permeability')\n",
    "plt.legend()\n",
    "plt.show()"
   ]
  },
  {
   "cell_type": "code",
   "execution_count": 12,
   "metadata": {},
   "outputs": [],
   "source": [
    "from reservoir import ResState"
   ]
  },
  {
   "cell_type": "code",
   "execution_count": 13,
   "metadata": {},
   "outputs": [],
   "source": [
    "p = ResState(p, p_0, prop)\n",
    "s_o = ResState(s_o, s_b, prop)\n",
    "s_w = ResState(s_w, 1 - s_b, prop)"
   ]
  },
  {
   "cell_type": "markdown",
   "metadata": {},
   "source": [
    "Дальше немного сложенее - теперь нужно вводить межблочную относительную проницаемость"
   ]
  },
  {
   "cell_type": "markdown",
   "metadata": {},
   "source": [
    "Небольшие изменения потерпит матарица, отвечающая за лапласиан"
   ]
  },
  {
   "cell_type": "code",
   "execution_count": 14,
   "metadata": {},
   "outputs": [],
   "source": [
    "from reservoir import get_lapl_one_ph"
   ]
  },
  {
   "cell_type": "code",
   "execution_count": 15,
   "metadata": {},
   "outputs": [],
   "source": [
    "lapl_w = torch.zeros((prop.nx * prop.ny, prop.nx * prop.ny), device=device, dtype=dtype)\n",
    "lapl_o = torch.zeros((prop.nx * prop.ny, prop.nx * prop.ny), device=device, dtype=dtype)"
   ]
  },
  {
   "cell_type": "code",
   "execution_count": 16,
   "metadata": {},
   "outputs": [],
   "source": [
    "get_lapl_one_ph(p=p, s=s_w, ph='w', prop=prop, lapl=lapl_w)\n",
    "get_lapl_one_ph(p=p, s=s_o, ph='o', prop=prop, lapl=lapl_o)"
   ]
  },
  {
   "cell_type": "code",
   "execution_count": 17,
   "metadata": {},
   "outputs": [
    {
     "name": "stderr",
     "output_type": "stream",
     "text": [
      "100%|████████████████████████████████████████████████████████████████████████████████████| 9/9 [00:16<00:00,  1.87s/it]\n"
     ]
    }
   ],
   "source": [
    "for i in tqdm(range(9)):\n",
    "    get_lapl_one_ph(p=p, s=s_o, ph='o', prop=prop, lapl=lapl_w)"
   ]
  },
  {
   "cell_type": "markdown",
   "metadata": {},
   "source": [
    "Также изменился вектор для граничных условий"
   ]
  },
  {
   "cell_type": "code",
   "execution_count": 18,
   "metadata": {},
   "outputs": [],
   "source": [
    "from reservoir import get_q_bound"
   ]
  },
  {
   "cell_type": "code",
   "execution_count": 19,
   "metadata": {},
   "outputs": [],
   "source": [
    "q_bound_w = torch.zeros((prop.nx * prop.ny, 1), device=device, dtype=dtype)\n",
    "q_bound_o = torch.zeros((prop.nx * prop.ny, 1), device=device, dtype=dtype)"
   ]
  },
  {
   "cell_type": "code",
   "execution_count": 20,
   "metadata": {},
   "outputs": [],
   "source": [
    "get_q_bound(p, s_w, 'w', prop, q_bound_w)\n",
    "get_q_bound(p, s_o, 'o', prop, q_bound_o)"
   ]
  },
  {
   "cell_type": "markdown",
   "metadata": {},
   "source": [
    "Теперь про моделирование скважины"
   ]
  },
  {
   "cell_type": "markdown",
   "metadata": {},
   "source": [
    "Закинем координаты скважин"
   ]
  },
  {
   "cell_type": "code",
   "execution_count": 21,
   "metadata": {},
   "outputs": [],
   "source": [
    "pos_r = {(12, 8): 0.1, (18, 21): 0.1}\n",
    "delta_p_well = -100 * 6894.\n",
    "delta_p_vec = torch.ones((nx*ny, 1), device=device, dtype=dtype) * delta_p_well"
   ]
  },
  {
   "cell_type": "code",
   "execution_count": 22,
   "metadata": {},
   "outputs": [],
   "source": [
    "from reservoir import get_j_matrix"
   ]
  },
  {
   "cell_type": "code",
   "execution_count": 23,
   "metadata": {},
   "outputs": [],
   "source": [
    "j_o = torch.zeros((prop.nx * prop.ny, 1), device=device, dtype=dtype)\n",
    "j_w = torch.zeros((prop.nx * prop.ny, 1), device=device, dtype=dtype)\n",
    "_ = get_j_matrix(p=p, s=s_o, pos_r=pos_r, ph='o', prop=prop, j_matr=j_o)\n",
    "_ = get_j_matrix(p=p, s=s_w, pos_r=pos_r, ph='w', prop=prop, j_matr=j_w)"
   ]
  },
  {
   "cell_type": "markdown",
   "metadata": {},
   "source": [
    "И последний штрих - перед производной по времени есть $V_b\\big(S_o c_o + S_w c_w  +1\\cdot c_r\\big)$. Назовём это `dt_comp_sat`"
   ]
  },
  {
   "cell_type": "markdown",
   "metadata": {},
   "source": [
    "Кстати, у нас теперь `2d` и теперь нужно делать `.reshape`"
   ]
  },
  {
   "cell_type": "code",
   "execution_count": 24,
   "metadata": {},
   "outputs": [],
   "source": [
    "nxny_ones = torch.ones((nx*ny, 1), device=device, dtype=dtype)\n",
    "nxny_eye = torch.eye(nx*ny, device=device, dtype=dtype) "
   ]
  },
  {
   "cell_type": "code",
   "execution_count": 25,
   "metadata": {},
   "outputs": [],
   "source": [
    "dt_comp_sat = dx * dy * d *(s_o.v * c_o + s_w.v * c_w + nxny_ones * c_r)"
   ]
  },
  {
   "cell_type": "markdown",
   "metadata": {},
   "source": [
    "Закаидываем пареметры для запуска сессии и записи истории"
   ]
  },
  {
   "cell_type": "code",
   "execution_count": 26,
   "metadata": {},
   "outputs": [],
   "source": [
    "n_iter = int(1e1)\n",
    "p_ex = np.ones((nx, 1)) * p_0\n",
    "t = 0\n",
    "xs = list((np.linspace(0, nx-1, nx) + dx/2) * dx)\n",
    "plot_freq = int(1)\n",
    "times = []\n",
    "p_well_hist = {}\n",
    "s_o_well_hist = {}\n",
    "q_o_hist = {}\n",
    "q_w_hist = {}\n",
    "for w in pos_r:\n",
    "    p_well_hist[w] = []\n",
    "    s_o_well_hist[w] = []\n",
    "    q_o_hist[w] = []\n",
    "    q_w_hist[w] = []"
   ]
  },
  {
   "cell_type": "code",
   "execution_count": 27,
   "metadata": {},
   "outputs": [
    {
     "data": {
      "image/png": "[encoded data removed]",
      "text/plain": [
       "<Figure size 1152x1152 with 8 Axes>"
      ]
     },
     "metadata": {
      "needs_background": "light"
     },
     "output_type": "display_data"
    },
    {
     "name": "stderr",
     "output_type": "stream",
     "text": [
      "100%|██████████████████████████████████████████████████████████████████████████████████| 10/10 [00:53<00:00,  5.36s/it]"
     ]
    },
    {
     "name": "stdout",
     "output_type": "stream",
     "text": [
      "Wall time: 53.6 s\n"
     ]
    },
    {
     "name": "stderr",
     "output_type": "stream",
     "text": [
      "\n"
     ]
    }
   ],
   "source": [
    "%%time\n",
    "for i in tqdm(range(1, n_iter+1)):\n",
    "    # gonna increase time step\n",
    "    # matrixes depends on saturation\n",
    "    dt_comp_sat = (dx * dy * d *(s_o.v) * c_o + s_w.v * c_w + nxny_ones * c_r)\n",
    "    _ = get_j_matrix(p=p, s=s_o, pos_r=pos_r, ph='o', prop=prop, j_matr=j_o)\n",
    "    _ = get_j_matrix(p=p, s=s_w, pos_r=pos_r, ph='w', prop=prop, j_matr=j_w)\n",
    "    _ = get_lapl_one_ph(p=p, s=s_w, ph='w', prop=prop, lapl=lapl_w)\n",
    "    _ = get_lapl_one_ph(p=p, s=s_o, ph='o', prop=prop, lapl=lapl_o)\n",
    "    _ = get_q_bound(p, s_w, 'w', prop, q_b=q_bound_w)\n",
    "    _ = get_q_bound(p, s_o, 'o', prop, q_b=q_bound_o)\n",
    "    # matrix for implicit pressure\n",
    "    a = phi * nxny_eye * dt_comp_sat - (lapl_w + lapl_o) * dt\n",
    "    #right hand state for ax = b\n",
    "    \n",
    "    b = phi * dt_comp_sat * p.v + q_bound_w*dt + q_bound_o*dt \n",
    "    b += (j_o * B_o + j_w * B_w) * delta_p_vec * dt\n",
    "    # upd time stamp\n",
    "    t += dt\n",
    "    # solve p\n",
    "    p_new, _ = torch.solve(b, a)\n",
    "    dp = p_new - p.v\n",
    "    \n",
    "    a = dx*dy*d * phi *(nxny_ones + (c_r + c_o) * (p_new - p.v))\n",
    "    \n",
    "    b = phi * dx*dy*d * s_o.v + dt * (lapl_o.matmul(p_new) + q_bound_o + j_o * B_o * delta_p_vec)\n",
    "    # upd target values\n",
    "    s_o = ResState((b / a), s_b, prop) \n",
    "    s_w = ResState(nxny_ones - s_o.v, 1 - s_b, prop) \n",
    "    p = ResState(p_new, p_0, prop)\n",
    "    if i % plot_freq == 0:\n",
    "        \n",
    "        q_o = ((-1) * j_o * (delta_p_vec)).reshape((nx, ny))\n",
    "        q_w = ((-1) * j_w * (delta_p_vec)).reshape((nx, ny))\n",
    "        \n",
    "        # gonna set wells as nan to see gradient\n",
    "        # p_v_disp = p.v.reshape((nx, ny)).copy() / 6894.\n",
    "        # s_o_disp = s_o.v.reshape((nx, ny)).copy()\n",
    "        \n",
    "        times.append(t)\n",
    "        for w in pos_r:\n",
    "            p_well_hist[w].append(p[w] / 6894.)\n",
    "            s_o_well_hist[w].append(s_o[w])\n",
    "            q_o_hist[w].append(q_o[w])\n",
    "            q_w_hist[w].append(q_w[w])\n",
    "            # set wells as nan to see gradient\n",
    "            # p_v_disp[w] = np.nan\n",
    "            # s_o_disp[w] = np.nan\n",
    "        display.clear_output(wait=True)\n",
    "        f, ax = plt.subplots(nrows=3, ncols=2, figsize=(16, 16))\n",
    "        f.tight_layout(pad=6.0)\n",
    "        \n",
    "        sns.heatmap(p.v.cpu().view((nx, ny)) / 6894., ax=ax[0][0], cbar=True)\n",
    "        ax[0][0].set_title(f'Pressure, psi\\nt={t}\\n nan at well pos')\n",
    "        \n",
    "        sns.heatmap(s_o.v.cpu().view((nx, ny)), ax=ax[0][1], cbar=True, fmt=\".2f\")\n",
    "        ax[0][1].set_title(f'Saturation, oil, psi\\nt={t}\\n nan at well pos')\n",
    "        \n",
    "        for w in pos_r:\n",
    "            ax[1][0].plot(times, p_well_hist[w] , label=f'{w}')\n",
    "            ax[1][1].plot(times, s_o_well_hist[w] , label=f'{w}')\n",
    "            ax[2][0].plot(times, q_o_hist[w] , label=f'{w}')\n",
    "            ax[2][1].plot(times, q_w_hist[w] , label=f'{w}')\n",
    "        ax[1][0].set_xlabel('time, s')\n",
    "        ax[1][0].set_ylabel('pressure, psi')\n",
    "        ax[1][0].set_title('Pressure in wells')\n",
    "        ax[1][0].legend()\n",
    "        \n",
    "        ax[1][1].set_xlabel('time, s')\n",
    "        ax[1][1].set_ylabel('saturation')\n",
    "        ax[1][1].set_title('Oil saturation in wells')\n",
    "        ax[1][1].legend()\n",
    "        \n",
    "        ax[2][0].set_xlabel('time, s')\n",
    "        ax[2][0].set_ylabel('q, m3/s')\n",
    "        ax[2][0].set_title('Oil rate')\n",
    "        ax[2][0].legend()\n",
    "        \n",
    "        ax[2][1].set_xlabel('time, s')\n",
    "        ax[2][1].set_ylabel('q, m3/s')\n",
    "        ax[2][1].set_title('Water rate')\n",
    "        ax[2][1].legend()\n",
    "                \n",
    "        plt.show()"
   ]
  },
  {
   "cell_type": "markdown",
   "metadata": {},
   "source": [
    "GG, почемуто `torch` медленней\n",
    "\n",
    "Посмотрим, где именно проседает, в инициализации, или умножении"
   ]
  },
  {
   "cell_type": "code",
   "execution_count": 30,
   "metadata": {},
   "outputs": [
    {
     "name": "stderr",
     "output_type": "stream",
     "text": [
      "100%|██████████████████████████████████████████████████████████████████████████████████| 99/99 [06:29<00:00,  3.94s/it]\n"
     ]
    }
   ],
   "source": [
    "for i in tqdm(range(1, 100)):\n",
    "    # gonna increase time step\n",
    "    # matrixes depends on saturation\n",
    "    dt_comp_sat = (dx * dy * d *(s_o.v) * c_o + s_w.v * c_w + nxny_ones * c_r)\n",
    "    _ = get_j_matrix(p=p, s=s_o, pos_r=pos_r, ph='o', prop=prop, j_matr=j_o)\n",
    "    _ = get_j_matrix(p=p, s=s_w, pos_r=pos_r, ph='w', prop=prop, j_matr=j_o)\n",
    "    _ = get_lapl_one_ph(p=p, s=s_w, ph='w', prop=prop, lapl=lapl_w)\n",
    "    _ = get_lapl_one_ph(p=p, s=s_o, ph='o', prop=prop, lapl=lapl_o)\n",
    "    _ = get_q_bound(p, s_w, 'w', prop, q_b=q_bound_w)\n",
    "    _ = get_q_bound(p, s_o, 'o', prop, q_b=q_bound_w)"
   ]
  },
  {
   "cell_type": "code",
   "execution_count": 39,
   "metadata": {},
   "outputs": [
    {
     "name": "stderr",
     "output_type": "stream",
     "text": [
      "100%|███████████████████████████████████████████████████████████████████████████████| 999/999 [00:07<00:00, 132.80it/s]\n"
     ]
    }
   ],
   "source": [
    "for i in tqdm(range(1, 1000)):\n",
    "    a = phi * nxny_eye * dt_comp_sat - (lapl_w + lapl_o) * dt\n",
    "    #right hand state for ax = b\n",
    "    b = phi * dt_comp_sat * p.v + q_bound_w*dt + q_bound_o*dt \n",
    "    b += (j_o * B_o + j_w * B_w) * delta_p_vec * dt\n",
    "    # upd time stamp\n",
    "    t += dt\n",
    "    # solve p\n",
    "    p_new, _ = torch.solve(b, a)\n",
    "    # dp = p_new - p.v\n",
    "    a = dx*dy*d * phi *(nxny_ones + (c_r + c_o) * (p_new - p.v))\n",
    "    b = phi * dx*dy*d * s_o.v + dt * (lapl_o.matmul(p_new) + q_bound_o + j_o * B_o * delta_p_vec)\n",
    "    # upd target values\n",
    "    s_o = ResState((b / a), s_b, prop) \n",
    "    s_w = ResState(nxny_ones - s_o.v, 1 - s_b, prop) \n",
    "    p = ResState(p_new, p_0, prop)"
   ]
  },
  {
   "cell_type": "code",
   "execution_count": 48,
   "metadata": {},
   "outputs": [
    {
     "name": "stderr",
     "output_type": "stream",
     "text": [
      "100%|█████████████████████████████████████████████████████████████████████████████████| 99/99 [00:00<00:00, 258.33it/s]\n"
     ]
    }
   ],
   "source": [
    "for i in tqdm(range(1, 100)):\n",
    "    dt_comp_sat = (dx * dy * d *(s_o.v) * c_o + s_w.v * c_w + nxny_ones * c_r)\n",
    "    _ = get_j_matrix(p=p, s=s_o, pos_r=pos_r, ph='o', prop=prop, j_matr=j_o)\n",
    "    _ = get_j_matrix(p=p, s=s_w, pos_r=pos_r, ph='w', prop=prop, j_matr=j_o)"
   ]
  },
  {
   "cell_type": "code",
   "execution_count": 49,
   "metadata": {},
   "outputs": [
    {
     "name": "stderr",
     "output_type": "stream",
     "text": [
      "100%|██████████████████████████████████████████████████████████████████████████████████| 14/14 [00:52<00:00,  3.73s/it]\n"
     ]
    }
   ],
   "source": [
    "for i in tqdm(range(1, 15)):\n",
    "    dt_comp_sat = (dx * dy * d *(s_o.v) * c_o + s_w.v * c_w + nxny_ones * c_r)\n",
    "    _ = get_lapl_one_ph(p=p, s=s_w, ph='w', prop=prop, lapl=lapl_w)\n",
    "    _ = get_lapl_one_ph(p=p, s=s_o, ph='o', prop=prop, lapl=lapl_o)"
   ]
  },
  {
   "cell_type": "code",
   "execution_count": 50,
   "metadata": {},
   "outputs": [
    {
     "name": "stderr",
     "output_type": "stream",
     "text": [
      "100%|██████████████████████████████████████████████████████████████████████████████████| 99/99 [00:04<00:00, 20.74it/s]\n"
     ]
    }
   ],
   "source": [
    "for i in tqdm(range(1, 100)):\n",
    "    dt_comp_sat = (dx * dy * d *(s_o.v) * c_o + s_w.v * c_w + nxny_ones * c_r)\n",
    "    _ = get_q_bound(p, s_w, 'w', prop, q_b=q_bound_w)\n",
    "    _ = get_q_bound(p, s_o, 'o', prop, q_b=q_bound_w)"
   ]
  },
  {
   "cell_type": "code",
   "execution_count": 51,
   "metadata": {},
   "outputs": [
    {
     "name": "stderr",
     "output_type": "stream",
     "text": [
      "100%|███████████████████████████████████████████████████████████████████████████████| 999/999 [00:06<00:00, 152.54it/s]\n"
     ]
    }
   ],
   "source": [
    "a = phi * nxny_eye * dt_comp_sat - (lapl_w + lapl_o) * dt\n",
    "b = phi * dt_comp_sat * p.v + q_bound_w*dt + q_bound_o*dt \n",
    "b += (j_o * B_o + j_w * B_w) * delta_p_vec * dt\n",
    "for i in tqdm(range(1, 1000)):\n",
    "    p_new, _ = torch.solve(b, a)"
   ]
  },
  {
   "cell_type": "code",
   "execution_count": null,
   "metadata": {},
   "outputs": [],
   "source": [
    "(625 * 625)"
   ]
  },
  {
   "cell_type": "code",
   "execution_count": 7,
   "metadata": {},
   "outputs": [
    {
     "data": {
      "text/plain": [
       "28.815789473684212"
      ]
     },
     "execution_count": 7,
     "metadata": {},
     "output_type": "execute_result"
    }
   ],
   "source": [
    "((60 * 60 * 24 * 365) / 152) / 60 / 60 / 2 "
   ]
  },
  {
   "cell_type": "code",
   "execution_count": null,
   "metadata": {},
   "outputs": [],
   "source": [
    "dx = 3\n",
    "dy = 3\n",
    "depth = 10"
   ]
  },
  {
   "cell_type": "code",
   "execution_count": 9,
   "metadata": {},
   "outputs": [
    {
     "data": {
      "text/plain": [
       "75"
      ]
     },
     "execution_count": 9,
     "metadata": {},
     "output_type": "execute_result"
    }
   ],
   "source": [
    "25 * 3"
   ]
  },
  {
   "cell_type": "code",
   "execution_count": 52,
   "metadata": {},
   "outputs": [
    {
     "name": "stderr",
     "output_type": "stream",
     "text": [
      "100%|██████████████████████████████████████████████████████████████████████████████| 999/999 [00:00<00:00, 1273.04it/s]\n"
     ]
    }
   ],
   "source": [
    "for i in tqdm(range(1, 1000)):\n",
    "    a = dx*dy*d * phi *(nxny_ones + (c_r + c_o) * (p_new - p.v))\n",
    "    b = phi * dx*dy*d * s_o.v + dt * (lapl_o.matmul(p_new) + q_bound_o + j_o * B_o * delta_p_vec)"
   ]
  },
  {
   "cell_type": "code",
   "execution_count": 53,
   "metadata": {},
   "outputs": [
    {
     "name": "stderr",
     "output_type": "stream",
     "text": [
      "100%|█████████████████████████████████████████████████████████████████████████████| 999/999 [00:00<00:00, 11758.91it/s]\n"
     ]
    }
   ],
   "source": [
    "a = dx*dy*d * phi *(nxny_ones + (c_r + c_o) * (p_new - p.v))\n",
    "b = phi * dx*dy*d * s_o.v + dt * (lapl_o.matmul(p_new) + q_bound_o + j_o * B_o * delta_p_vec)\n",
    "for i in tqdm(range(1, 1000)):\n",
    "    s_o = ResState((b / a), s_b, prop) \n",
    "    s_w = ResState(nxny_ones - s_o.v, 1 - s_b, prop) \n",
    "    p = ResState(p_new, p_0, prop)"
   ]
  },
  {
   "cell_type": "markdown",
   "metadata": {},
   "source": [
    "Имеет смысл реально запариться с иницализацией"
   ]
  },
  {
   "cell_type": "code",
   "execution_count": null,
   "metadata": {},
   "outputs": [],
   "source": [
    "1 / (1 / 41 + 1 / 72)"
   ]
  },
  {
   "cell_type": "markdown",
   "metadata": {},
   "source": [
    "Инициализация матриц для подсчёта - самое долгое"
   ]
  },
  {
   "cell_type": "code",
   "execution_count": null,
   "metadata": {},
   "outputs": [],
   "source": [
    "from reservoir import add_peice_of_lapl, get_lapl_one_ph_mth\n",
    "from mult_func import test_glob_mp"
   ]
  },
  {
   "cell_type": "code",
   "execution_count": null,
   "metadata": {},
   "outputs": [],
   "source": [
    "import multiprocessing\n",
    "from multiprocessing import Array"
   ]
  },
  {
   "cell_type": "code",
   "execution_count": null,
   "metadata": {},
   "outputs": [],
   "source": [
    "def mp_stuff(arr):\n",
    "    if __name__ == \"__main__\":\n",
    "        procs = 8   # Number of processes to create\n",
    "\n",
    "        # Create a list of jobs and then iterate through\n",
    "        # the number of processes appending each process to\n",
    "        # the job list \n",
    "        jobs = []\n",
    "        for i in range(procs):\n",
    "            process = multiprocessing.Process(target=test_glob_mp, \n",
    "                                              args=(arr, i)\n",
    "                                             )\n",
    "            jobs.append(process)\n",
    "\n",
    "        # Start the processes (i.e. calculate the random number lists)      \n",
    "        for j in jobs:\n",
    "            j.start()\n",
    "\n",
    "        # Ensure all of the processes have finished\n",
    "        for j in jobs:\n",
    "            j.join()"
   ]
  },
  {
   "cell_type": "code",
   "execution_count": null,
   "metadata": {},
   "outputs": [],
   "source": [
    "arrr = Array('d', (prop.nx * prop.ny))"
   ]
  },
  {
   "cell_type": "code",
   "execution_count": null,
   "metadata": {},
   "outputs": [],
   "source": [
    "lapl = get_lapl_one_ph_mth(p=p, s=s_w, ph='w', prop=prop, n_th=8)"
   ]
  },
  {
   "cell_type": "code",
   "execution_count": null,
   "metadata": {},
   "outputs": [],
   "source": [
    "lapl_w = get_lapl_one_ph(p=p, s=s_w, ph='w', prop=prop)"
   ]
  },
  {
   "cell_type": "code",
   "execution_count": null,
   "metadata": {},
   "outputs": [],
   "source": [
    "(lapl_w[2]).max()"
   ]
  },
  {
   "cell_type": "code",
   "execution_count": null,
   "metadata": {},
   "outputs": [],
   "source": [
    "for i in tqdm(range(1, n_iter)):\n",
    "    lapl_w = get_lapl_one_ph(p=p, s=s_w, ph='w', prop=prop)"
   ]
  },
  {
   "cell_type": "markdown",
   "metadata": {},
   "source": [
    "Начинаем потеть и подключаем torch"
   ]
  },
  {
   "cell_type": "code",
   "execution_count": null,
   "metadata": {},
   "outputs": [],
   "source": [
    "import torch\n",
    "import ctypes\n",
    "ctypes.cdll.LoadLibrary('caffe2_nvrtc.dll')"
   ]
  },
  {
   "cell_type": "markdown",
   "metadata": {},
   "source": [
    "Ну и будет ли это быстрее?"
   ]
  },
  {
   "cell_type": "code",
   "execution_count": null,
   "metadata": {},
   "outputs": [],
   "source": [
    "A = torch.rand((700, 700), device=device)\n",
    "B = torch.rand((700, 1), device=device)\n",
    "X, _ = torch.solve(B, A)"
   ]
  },
  {
   "cell_type": "code",
   "execution_count": null,
   "metadata": {},
   "outputs": [],
   "source": [
    "A"
   ]
  },
  {
   "cell_type": "code",
   "execution_count": null,
   "metadata": {},
   "outputs": [],
   "source": [
    "A.shape"
   ]
  },
  {
   "cell_type": "code",
   "execution_count": null,
   "metadata": {},
   "outputs": [],
   "source": [
    "a = np.random.rand(700, 700)\n",
    "b = np.random.rand(700, 1)\n",
    "for i in tqdm(range(1, n_iter)):\n",
    "    sol = np.linalg.solve(a, b)"
   ]
  },
  {
   "cell_type": "code",
   "execution_count": null,
   "metadata": {},
   "outputs": [],
   "source": [
    "A = torch.rand((700, 700), device=device)\n",
    "B = torch.rand((700, 1), device=device)\n",
    "for i in tqdm(range(1, n_iter)):\n",
    "    X, _ = torch.solve(B, A)"
   ]
  },
  {
   "cell_type": "markdown",
   "metadata": {},
   "source": [
    "Намного быстрее. А что с инициализацией?"
   ]
  },
  {
   "cell_type": "code",
   "execution_count": null,
   "metadata": {},
   "outputs": [],
   "source": [
    "for i in tqdm(range(1, n_iter)):\n",
    "    A = torch.rand((700, 700), device=device)\n",
    "    B = torch.rand((700, 1), device=device)"
   ]
  }
 ],
 "metadata": {
  "kernelspec": {
   "display_name": "Python 3",
   "language": "python",
   "name": "python3"
  },
  "language_info": {
   "codemirror_mode": {
    "name": "ipython",
    "version": 3
   },
   "file_extension": ".py",
   "mimetype": "text/x-python",
   "name": "python",
   "nbconvert_exporter": "python",
   "pygments_lexer": "ipython3",
   "version": "3.8.2"
  }
 },
 "nbformat": 4,
 "nbformat_minor": 4
}
